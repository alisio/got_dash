{
 "cells": [
  {
   "cell_type": "markdown",
   "id": "a7fc6b4b-823b-4efe-9397-c287acc2b344",
   "metadata": {
    "id": "a7fc6b4b-823b-4efe-9397-c287acc2b344",
    "tags": []
   },
   "source": [
    "# CD008 Ex02 - Gráficos com a API Altair\n",
    "\n",
    "Equipe:\n",
    "* Antonio Alisio de Meneses Cordeiro\n",
    "* Jeferson Jose de Miranda\n",
    "* Salvador Vicente Grisolia"
   ]
  },
  {
   "cell_type": "markdown",
   "id": "441a8355-a666-47ff-a873-59918c118584",
   "metadata": {
    "id": "441a8355-a666-47ff-a873-59918c118584"
   },
   "source": [
    "# Dataset\n",
    "\n",
    "Este caderno está focado no dataset de mortes sobre a série de TV Game of Thrones. O enredo fictício dessa série trata da dispuda de poder entre várias famílias e outros agrupamentos ou alianças que nesse caderno vamos chamar de facções. Devido à natureza dessa disputa, várias baixas vão ocorrer ao longo dos episódios. As perguntas que podem surgir nesse sentido envolvem: Qual o personagem que mais causou mortes? Qual foi o método mais utilizado para este fim? Qual casa/facção sofreu mais baixas? Vamos fazer uma análise com o auxílio da biblioteca Altair.\n",
    "\n",
    "Disponível em: https://data.world/makeovermonday/2019w27"
   ]
  },
  {
   "cell_type": "code",
   "execution_count": 1,
   "id": "f21ed776-c669-48f9-ab93-b7b5532dfa56",
   "metadata": {
    "colab": {
     "base_uri": "https://localhost:8080/"
    },
    "id": "f21ed776-c669-48f9-ab93-b7b5532dfa56",
    "outputId": "e2a4fe51-89b0-48ca-cf6c-0a21d30872fb",
    "tags": []
   },
   "outputs": [],
   "source": [
    "try:\n",
    "    import google.colab\n",
    "    IN_COLAB = True\n",
    "except ImportError:\n",
    "    IN_COLAB = False\n",
    "\n",
    "if IN_COLAB:\n",
    "    # Download do dataset\n",
    "    import gdown\n",
    "    url = 'https://drive.google.com/uc?id=1Eq29Li01ivCukkgOKLbxJYG3RQXG6eL7'\n",
    "    gdown.download(url, 'deaths.csv')\n",
    "    # Instalação da biblioteca Altair\n",
    "    !pip install altair"
   ]
  },
  {
   "cell_type": "code",
   "execution_count": 2,
   "id": "041196ee-a02c-451e-b753-30dbfa3e39d3",
   "metadata": {
    "colab": {
     "base_uri": "https://localhost:8080/",
     "height": 424
    },
    "id": "041196ee-a02c-451e-b753-30dbfa3e39d3",
    "outputId": "f244247e-524c-490e-844d-eac24e2ca2c6",
    "tags": []
   },
   "outputs": [
    {
     "data": {
      "text/html": [
       "<div>\n",
       "<style scoped>\n",
       "    .dataframe tbody tr th:only-of-type {\n",
       "        vertical-align: middle;\n",
       "    }\n",
       "\n",
       "    .dataframe tbody tr th {\n",
       "        vertical-align: top;\n",
       "    }\n",
       "\n",
       "    .dataframe thead th {\n",
       "        text-align: right;\n",
       "    }\n",
       "</style>\n",
       "<table border=\"1\" class=\"dataframe\">\n",
       "  <thead>\n",
       "    <tr style=\"text-align: right;\">\n",
       "      <th></th>\n",
       "      <th>name</th>\n",
       "      <th>allegiance</th>\n",
       "      <th>season</th>\n",
       "      <th>episode</th>\n",
       "      <th>location</th>\n",
       "      <th>killer</th>\n",
       "      <th>killers_house</th>\n",
       "      <th>method</th>\n",
       "      <th>death_no</th>\n",
       "    </tr>\n",
       "  </thead>\n",
       "  <tbody>\n",
       "    <tr>\n",
       "      <th>0</th>\n",
       "      <td>Waymar Royce</td>\n",
       "      <td>Night's Watch</td>\n",
       "      <td>1</td>\n",
       "      <td>1</td>\n",
       "      <td>Beyond the Wall</td>\n",
       "      <td>White Walker</td>\n",
       "      <td>None</td>\n",
       "      <td>Ice sword</td>\n",
       "      <td>1</td>\n",
       "    </tr>\n",
       "    <tr>\n",
       "      <th>1</th>\n",
       "      <td>Gared</td>\n",
       "      <td>Night's Watch</td>\n",
       "      <td>1</td>\n",
       "      <td>1</td>\n",
       "      <td>Beyond the Wall</td>\n",
       "      <td>White Walker</td>\n",
       "      <td>None</td>\n",
       "      <td>Ice sword</td>\n",
       "      <td>2</td>\n",
       "    </tr>\n",
       "    <tr>\n",
       "      <th>2</th>\n",
       "      <td>Will</td>\n",
       "      <td>Night's Watch</td>\n",
       "      <td>1</td>\n",
       "      <td>1</td>\n",
       "      <td>Winterfell</td>\n",
       "      <td>Ned Stark</td>\n",
       "      <td>House Stark</td>\n",
       "      <td>Sword</td>\n",
       "      <td>3</td>\n",
       "    </tr>\n",
       "    <tr>\n",
       "      <th>3</th>\n",
       "      <td>Stag</td>\n",
       "      <td>None</td>\n",
       "      <td>1</td>\n",
       "      <td>1</td>\n",
       "      <td>Winterfell</td>\n",
       "      <td>Direwolf</td>\n",
       "      <td>None</td>\n",
       "      <td>Teeth</td>\n",
       "      <td>4</td>\n",
       "    </tr>\n",
       "    <tr>\n",
       "      <th>4</th>\n",
       "      <td>Direwolf</td>\n",
       "      <td>None</td>\n",
       "      <td>1</td>\n",
       "      <td>1</td>\n",
       "      <td>Winterfell</td>\n",
       "      <td>Stag</td>\n",
       "      <td>None</td>\n",
       "      <td>Antler</td>\n",
       "      <td>5</td>\n",
       "    </tr>\n",
       "    <tr>\n",
       "      <th>...</th>\n",
       "      <td>...</td>\n",
       "      <td>...</td>\n",
       "      <td>...</td>\n",
       "      <td>...</td>\n",
       "      <td>...</td>\n",
       "      <td>...</td>\n",
       "      <td>...</td>\n",
       "      <td>...</td>\n",
       "      <td>...</td>\n",
       "    </tr>\n",
       "    <tr>\n",
       "      <th>2219</th>\n",
       "      <td>Gregor \"the Mountain\" Clegane</td>\n",
       "      <td>House Lannister</td>\n",
       "      <td>8</td>\n",
       "      <td>5</td>\n",
       "      <td>King's Landing</td>\n",
       "      <td>Sandor \"the Hound\" Clegane</td>\n",
       "      <td>House Clegane</td>\n",
       "      <td>Dragonfire (Dragon)</td>\n",
       "      <td>2220</td>\n",
       "    </tr>\n",
       "    <tr>\n",
       "      <th>2220</th>\n",
       "      <td>Sandor \"the Hound\" Clegane</td>\n",
       "      <td>House Lannister</td>\n",
       "      <td>8</td>\n",
       "      <td>5</td>\n",
       "      <td>King's Landing</td>\n",
       "      <td>Sandor \"the Hound\" Clegane</td>\n",
       "      <td>House Clegane</td>\n",
       "      <td>Dragonfire (Dragon)</td>\n",
       "      <td>2221</td>\n",
       "    </tr>\n",
       "    <tr>\n",
       "      <th>2221</th>\n",
       "      <td>Jaime Lannister</td>\n",
       "      <td>House Lannister</td>\n",
       "      <td>8</td>\n",
       "      <td>5</td>\n",
       "      <td>King's Landing</td>\n",
       "      <td>Daenerys Targaryen</td>\n",
       "      <td>House Targaryen</td>\n",
       "      <td>Rubble</td>\n",
       "      <td>2222</td>\n",
       "    </tr>\n",
       "    <tr>\n",
       "      <th>2222</th>\n",
       "      <td>Cersei Lannister</td>\n",
       "      <td>House Lannister</td>\n",
       "      <td>8</td>\n",
       "      <td>5</td>\n",
       "      <td>King's Landing</td>\n",
       "      <td>Daenerys Targaryen</td>\n",
       "      <td>House Targaryen</td>\n",
       "      <td>Rubble</td>\n",
       "      <td>2223</td>\n",
       "    </tr>\n",
       "    <tr>\n",
       "      <th>2223</th>\n",
       "      <td>Daenerys Targaryen</td>\n",
       "      <td>House Targaryen</td>\n",
       "      <td>8</td>\n",
       "      <td>6</td>\n",
       "      <td>King's Landing</td>\n",
       "      <td>Jon Snow</td>\n",
       "      <td>House Stark</td>\n",
       "      <td>Knife</td>\n",
       "      <td>2224</td>\n",
       "    </tr>\n",
       "  </tbody>\n",
       "</table>\n",
       "<p>2224 rows × 9 columns</p>\n",
       "</div>"
      ],
      "text/plain": [
       "                               name       allegiance  season  episode  \\\n",
       "0                      Waymar Royce    Night's Watch       1        1   \n",
       "1                             Gared    Night's Watch       1        1   \n",
       "2                              Will    Night's Watch       1        1   \n",
       "3                              Stag             None       1        1   \n",
       "4                          Direwolf             None       1        1   \n",
       "...                             ...              ...     ...      ...   \n",
       "2219  Gregor \"the Mountain\" Clegane  House Lannister       8        5   \n",
       "2220     Sandor \"the Hound\" Clegane  House Lannister       8        5   \n",
       "2221                Jaime Lannister  House Lannister       8        5   \n",
       "2222               Cersei Lannister  House Lannister       8        5   \n",
       "2223             Daenerys Targaryen  House Targaryen       8        6   \n",
       "\n",
       "             location                      killer    killers_house  \\\n",
       "0     Beyond the Wall                White Walker             None   \n",
       "1     Beyond the Wall                White Walker             None   \n",
       "2          Winterfell                   Ned Stark      House Stark   \n",
       "3          Winterfell                    Direwolf             None   \n",
       "4          Winterfell                        Stag             None   \n",
       "...               ...                         ...              ...   \n",
       "2219   King's Landing  Sandor \"the Hound\" Clegane    House Clegane   \n",
       "2220   King's Landing  Sandor \"the Hound\" Clegane    House Clegane   \n",
       "2221   King's Landing          Daenerys Targaryen  House Targaryen   \n",
       "2222   King's Landing          Daenerys Targaryen  House Targaryen   \n",
       "2223   King's Landing                    Jon Snow      House Stark   \n",
       "\n",
       "                   method  death_no  \n",
       "0               Ice sword         1  \n",
       "1               Ice sword         2  \n",
       "2                   Sword         3  \n",
       "3                   Teeth         4  \n",
       "4                  Antler         5  \n",
       "...                   ...       ...  \n",
       "2219  Dragonfire (Dragon)      2220  \n",
       "2220  Dragonfire (Dragon)      2221  \n",
       "2221               Rubble      2222  \n",
       "2222               Rubble      2223  \n",
       "2223                Knife      2224  \n",
       "\n",
       "[2224 rows x 9 columns]"
      ]
     },
     "execution_count": 2,
     "metadata": {},
     "output_type": "execute_result"
    }
   ],
   "source": [
    "import pandas as pd\n",
    "\n",
    "deaths_df = pd.read_csv('deaths.csv')\n",
    "deaths_df"
   ]
  },
  {
   "cell_type": "markdown",
   "id": "bc1c366e-14ca-4826-a1d1-97a64ac06b3e",
   "metadata": {
    "id": "bc1c366e-14ca-4826-a1d1-97a64ac06b3e"
   },
   "source": [
    "Nesse dataset temos os nome de quem morreu, sua família/facção, a temporada, o número do episódio, o assassino, a família/facção do assassino, o método do assassinato e a contagem ordenada da morte. Vemos que alguns valoers não estão definidos, por conta do indivíduo não ter uma facção definida, vamos resolver isso substituindo NaN por string vazia."
   ]
  },
  {
   "cell_type": "code",
   "execution_count": 3,
   "id": "c6bbc5e0-6fd0-4117-9747-29ab3922c075",
   "metadata": {
    "colab": {
     "base_uri": "https://localhost:8080/",
     "height": 424
    },
    "id": "c6bbc5e0-6fd0-4117-9747-29ab3922c075",
    "outputId": "f69d3ec0-9383-4f4b-f067-a512d8723763",
    "tags": []
   },
   "outputs": [
    {
     "data": {
      "text/html": [
       "<div>\n",
       "<style scoped>\n",
       "    .dataframe tbody tr th:only-of-type {\n",
       "        vertical-align: middle;\n",
       "    }\n",
       "\n",
       "    .dataframe tbody tr th {\n",
       "        vertical-align: top;\n",
       "    }\n",
       "\n",
       "    .dataframe thead th {\n",
       "        text-align: right;\n",
       "    }\n",
       "</style>\n",
       "<table border=\"1\" class=\"dataframe\">\n",
       "  <thead>\n",
       "    <tr style=\"text-align: right;\">\n",
       "      <th></th>\n",
       "      <th>name</th>\n",
       "      <th>allegiance</th>\n",
       "      <th>season</th>\n",
       "      <th>episode</th>\n",
       "      <th>location</th>\n",
       "      <th>killer</th>\n",
       "      <th>killers_house</th>\n",
       "      <th>method</th>\n",
       "      <th>death_no</th>\n",
       "    </tr>\n",
       "  </thead>\n",
       "  <tbody>\n",
       "    <tr>\n",
       "      <th>0</th>\n",
       "      <td>Waymar Royce</td>\n",
       "      <td>Night's Watch</td>\n",
       "      <td>1</td>\n",
       "      <td>1</td>\n",
       "      <td>Beyond the Wall</td>\n",
       "      <td>White Walker</td>\n",
       "      <td>None</td>\n",
       "      <td>Ice sword</td>\n",
       "      <td>1</td>\n",
       "    </tr>\n",
       "    <tr>\n",
       "      <th>1</th>\n",
       "      <td>Gared</td>\n",
       "      <td>Night's Watch</td>\n",
       "      <td>1</td>\n",
       "      <td>1</td>\n",
       "      <td>Beyond the Wall</td>\n",
       "      <td>White Walker</td>\n",
       "      <td>None</td>\n",
       "      <td>Ice sword</td>\n",
       "      <td>2</td>\n",
       "    </tr>\n",
       "    <tr>\n",
       "      <th>2</th>\n",
       "      <td>Will</td>\n",
       "      <td>Night's Watch</td>\n",
       "      <td>1</td>\n",
       "      <td>1</td>\n",
       "      <td>Winterfell</td>\n",
       "      <td>Ned Stark</td>\n",
       "      <td>House Stark</td>\n",
       "      <td>Sword</td>\n",
       "      <td>3</td>\n",
       "    </tr>\n",
       "    <tr>\n",
       "      <th>3</th>\n",
       "      <td>Stag</td>\n",
       "      <td>None</td>\n",
       "      <td>1</td>\n",
       "      <td>1</td>\n",
       "      <td>Winterfell</td>\n",
       "      <td>Direwolf</td>\n",
       "      <td>None</td>\n",
       "      <td>Teeth</td>\n",
       "      <td>4</td>\n",
       "    </tr>\n",
       "    <tr>\n",
       "      <th>4</th>\n",
       "      <td>Direwolf</td>\n",
       "      <td>None</td>\n",
       "      <td>1</td>\n",
       "      <td>1</td>\n",
       "      <td>Winterfell</td>\n",
       "      <td>Stag</td>\n",
       "      <td>None</td>\n",
       "      <td>Antler</td>\n",
       "      <td>5</td>\n",
       "    </tr>\n",
       "    <tr>\n",
       "      <th>...</th>\n",
       "      <td>...</td>\n",
       "      <td>...</td>\n",
       "      <td>...</td>\n",
       "      <td>...</td>\n",
       "      <td>...</td>\n",
       "      <td>...</td>\n",
       "      <td>...</td>\n",
       "      <td>...</td>\n",
       "      <td>...</td>\n",
       "    </tr>\n",
       "    <tr>\n",
       "      <th>2219</th>\n",
       "      <td>Gregor \"the Mountain\" Clegane</td>\n",
       "      <td>House Lannister</td>\n",
       "      <td>8</td>\n",
       "      <td>5</td>\n",
       "      <td>King's Landing</td>\n",
       "      <td>Sandor \"the Hound\" Clegane</td>\n",
       "      <td>House Clegane</td>\n",
       "      <td>Dragonfire (Dragon)</td>\n",
       "      <td>2220</td>\n",
       "    </tr>\n",
       "    <tr>\n",
       "      <th>2220</th>\n",
       "      <td>Sandor \"the Hound\" Clegane</td>\n",
       "      <td>House Lannister</td>\n",
       "      <td>8</td>\n",
       "      <td>5</td>\n",
       "      <td>King's Landing</td>\n",
       "      <td>Sandor \"the Hound\" Clegane</td>\n",
       "      <td>House Clegane</td>\n",
       "      <td>Dragonfire (Dragon)</td>\n",
       "      <td>2221</td>\n",
       "    </tr>\n",
       "    <tr>\n",
       "      <th>2221</th>\n",
       "      <td>Jaime Lannister</td>\n",
       "      <td>House Lannister</td>\n",
       "      <td>8</td>\n",
       "      <td>5</td>\n",
       "      <td>King's Landing</td>\n",
       "      <td>Daenerys Targaryen</td>\n",
       "      <td>House Targaryen</td>\n",
       "      <td>Rubble</td>\n",
       "      <td>2222</td>\n",
       "    </tr>\n",
       "    <tr>\n",
       "      <th>2222</th>\n",
       "      <td>Cersei Lannister</td>\n",
       "      <td>House Lannister</td>\n",
       "      <td>8</td>\n",
       "      <td>5</td>\n",
       "      <td>King's Landing</td>\n",
       "      <td>Daenerys Targaryen</td>\n",
       "      <td>House Targaryen</td>\n",
       "      <td>Rubble</td>\n",
       "      <td>2223</td>\n",
       "    </tr>\n",
       "    <tr>\n",
       "      <th>2223</th>\n",
       "      <td>Daenerys Targaryen</td>\n",
       "      <td>House Targaryen</td>\n",
       "      <td>8</td>\n",
       "      <td>6</td>\n",
       "      <td>King's Landing</td>\n",
       "      <td>Jon Snow</td>\n",
       "      <td>House Stark</td>\n",
       "      <td>Knife</td>\n",
       "      <td>2224</td>\n",
       "    </tr>\n",
       "  </tbody>\n",
       "</table>\n",
       "<p>2224 rows × 9 columns</p>\n",
       "</div>"
      ],
      "text/plain": [
       "                               name       allegiance  season  episode  \\\n",
       "0                      Waymar Royce    Night's Watch       1        1   \n",
       "1                             Gared    Night's Watch       1        1   \n",
       "2                              Will    Night's Watch       1        1   \n",
       "3                              Stag             None       1        1   \n",
       "4                          Direwolf             None       1        1   \n",
       "...                             ...              ...     ...      ...   \n",
       "2219  Gregor \"the Mountain\" Clegane  House Lannister       8        5   \n",
       "2220     Sandor \"the Hound\" Clegane  House Lannister       8        5   \n",
       "2221                Jaime Lannister  House Lannister       8        5   \n",
       "2222               Cersei Lannister  House Lannister       8        5   \n",
       "2223             Daenerys Targaryen  House Targaryen       8        6   \n",
       "\n",
       "             location                      killer    killers_house  \\\n",
       "0     Beyond the Wall                White Walker             None   \n",
       "1     Beyond the Wall                White Walker             None   \n",
       "2          Winterfell                   Ned Stark      House Stark   \n",
       "3          Winterfell                    Direwolf             None   \n",
       "4          Winterfell                        Stag             None   \n",
       "...               ...                         ...              ...   \n",
       "2219   King's Landing  Sandor \"the Hound\" Clegane    House Clegane   \n",
       "2220   King's Landing  Sandor \"the Hound\" Clegane    House Clegane   \n",
       "2221   King's Landing          Daenerys Targaryen  House Targaryen   \n",
       "2222   King's Landing          Daenerys Targaryen  House Targaryen   \n",
       "2223   King's Landing                    Jon Snow      House Stark   \n",
       "\n",
       "                   method  death_no  \n",
       "0               Ice sword         1  \n",
       "1               Ice sword         2  \n",
       "2                   Sword         3  \n",
       "3                   Teeth         4  \n",
       "4                  Antler         5  \n",
       "...                   ...       ...  \n",
       "2219  Dragonfire (Dragon)      2220  \n",
       "2220  Dragonfire (Dragon)      2221  \n",
       "2221               Rubble      2222  \n",
       "2222               Rubble      2223  \n",
       "2223                Knife      2224  \n",
       "\n",
       "[2224 rows x 9 columns]"
      ]
     },
     "execution_count": 3,
     "metadata": {},
     "output_type": "execute_result"
    }
   ],
   "source": [
    "deaths_df = deaths_df.fillna('')\n",
    "deaths_df"
   ]
  },
  {
   "cell_type": "markdown",
   "id": "614e0b10-ac91-4f59-a248-c8850a7a94d5",
   "metadata": {
    "id": "614e0b10-ac91-4f59-a248-c8850a7a94d5",
    "tags": []
   },
   "source": [
    "# Qual a casa/facção que mais causou mortes?"
   ]
  },
  {
   "cell_type": "code",
   "execution_count": 5,
   "id": "3v1NMOW7itD0",
   "metadata": {
    "id": "3v1NMOW7itD0"
   },
   "outputs": [],
   "source": [
    "import altair as alt\n",
    "# Definindo uma paleta de cores personalizada com 100 cores distintas\n",
    "custom_palette = ['#1f77b4', '#ff7f0e', '#2ca02c', '#d62728', '#9467bd', '#8c564b', '#e377c2', '#7f7f7f', '#bcbd22', '#17becf',\n",
    "                  '#aec7e8', '#ffbb78', '#98df8a', '#ff9896', '#c5b0d5', '#c49c94', '#f7b6d2', '#c7c7c7', '#dbdb8d', '#9edae5',\n",
    "                  '#393b79', '#7b4173', '#ff0000', '#0000ff', '#00ff00', '#ffff00', '#ff00ff', '#00ffff', '#800000', '#008000',\n",
    "                  '#000080', '#800080', '#008080', '#808000', '#ff4500', '#228b22', '#0000cd', '#ffc0cb', '#dda0dd', '#b0c4de',\n",
    "                  '#ffffe0', '#f0fff0', '#f0f8ff', '#f5f5f5', '#faebd7', '#7fffd4', '#f0ffff', '#f5deb3', '#adff2f', '#ff6347',\n",
    "                  '#ffe4e1', '#da70d6', '#d3d3d3', '#90ee90', '#ff00ff', '#ffd700', '#a52a2a', '#20b2aa', '#778899', '#b0e0e6',\n",
    "                  '#800080', '#a9a9a9', '#000000', '#006400', '#f08080', '#808080', '#add8e6', '#f08080', '#008000', '#ffdab9',\n",
    "                  '#d3d3d3', '#ff0000', '#daa520', '#808080', '#c0c0c0', '#800000', '#ffff00', '#90ee90', '#ffd700', '#d2b48c',\n",
    "                  '#f5f5f5', '#ffa500', '#ffdab9', '#d3d3d3', '#8b4513', '#ffffff', '#c0c0c0', '#ff00ff', '#800000', '#808000',\n",
    "                  '#ffa500', '#ffff00', '#008000', '#00ff00', '#000080', '#008080', '#0000ff', '#00ffff', '#800080', '#ff0000',\n",
    "                  '#ff00ff', '#008080', '#00ff00', '#000080', '#008080', '#0000ff', '#00ffff', '#800080', '#ff0000', '#ff00ff',\n",
    "                  '#008080', '#00ff00', '#000080', '#008080', '#0000ff', '#00ffff', '#800080', '#ff0000', '#ff00ff', '#008080',\n",
    "                  '#00ff00', '#000080', '#008080', '#0000ff', '#00ffff', '#800080', '#ff0000', '#ff00ff', '#008080', '#00ff00',\n",
    "                  '#000080', '#008080', '#0000ff', '#00ffff', '#800080', '#ff0000', '#ff00ff', '#008080', '#00ff00', '#000080',\n",
    "                  '#008080', '#0000ff', '#00ffff', '#800080']\n",
    "\n",
    "# Definindo o número de cores da paleta\n",
    "num_colors = len(custom_palette)\n",
    "\n",
    "# Usando a paleta de cores personalizada\n",
    "color_scale = alt.Scale(domain=list(range(num_colors)), range=custom_palette)\n",
    "\n",
    "# Definindo o esquema de cores com a paleta personalizada\n",
    "color_scheme = alt.Color('method:N', scale=color_scale)"
   ]
  },
  {
   "cell_type": "code",
   "execution_count": 6,
   "id": "FrK_cz-vkvd2",
   "metadata": {
    "colab": {
     "base_uri": "https://localhost:8080/"
    },
    "id": "FrK_cz-vkvd2",
    "outputId": "95c254af-15f5-4c74-a5f1-331f3f646fd9"
   },
   "outputs": [
    {
     "data": {
      "text/plain": [
       "144"
      ]
     },
     "execution_count": 6,
     "metadata": {},
     "output_type": "execute_result"
    }
   ],
   "source": [
    "len(custom_palette)"
   ]
  },
  {
   "cell_type": "code",
   "execution_count": 7,
   "id": "a734b2d0-c69b-4d38-87b7-2725e71129a5",
   "metadata": {
    "colab": {
     "base_uri": "https://localhost:8080/",
     "height": 740
    },
    "id": "a734b2d0-c69b-4d38-87b7-2725e71129a5",
    "outputId": "33353e85-00b3-4290-8ef0-79e619ba2931",
    "tags": []
   },
   "outputs": [
    {
     "data": {
      "text/html": [
       "\n",
       "<div id=\"altair-viz-dec723a1db7b422799af962447615036\"></div>\n",
       "<script type=\"text/javascript\">\n",
       "  var VEGA_DEBUG = (typeof VEGA_DEBUG == \"undefined\") ? {} : VEGA_DEBUG;\n",
       "  (function(spec, embedOpt){\n",
       "    let outputDiv = document.currentScript.previousElementSibling;\n",
       "    if (outputDiv.id !== \"altair-viz-dec723a1db7b422799af962447615036\") {\n",
       "      outputDiv = document.getElementById(\"altair-viz-dec723a1db7b422799af962447615036\");\n",
       "    }\n",
       "    const paths = {\n",
       "      \"vega\": \"https://cdn.jsdelivr.net/npm//vega@5?noext\",\n",
       "      \"vega-lib\": \"https://cdn.jsdelivr.net/npm//vega-lib?noext\",\n",
       "      \"vega-lite\": \"https://cdn.jsdelivr.net/npm//vega-lite@4.17.0?noext\",\n",
       "      \"vega-embed\": \"https://cdn.jsdelivr.net/npm//vega-embed@6?noext\",\n",
       "    };\n",
       "\n",
       "    function maybeLoadScript(lib, version) {\n",
       "      var key = `${lib.replace(\"-\", \"\")}_version`;\n",
       "      return (VEGA_DEBUG[key] == version) ?\n",
       "        Promise.resolve(paths[lib]) :\n",
       "        new Promise(function(resolve, reject) {\n",
       "          var s = document.createElement('script');\n",
       "          document.getElementsByTagName(\"head\")[0].appendChild(s);\n",
       "          s.async = true;\n",
       "          s.onload = () => {\n",
       "            VEGA_DEBUG[key] = version;\n",
       "            return resolve(paths[lib]);\n",
       "          };\n",
       "          s.onerror = () => reject(`Error loading script: ${paths[lib]}`);\n",
       "          s.src = paths[lib];\n",
       "        });\n",
       "    }\n",
       "\n",
       "    function showError(err) {\n",
       "      outputDiv.innerHTML = `<div class=\"error\" style=\"color:red;\">${err}</div>`;\n",
       "      throw err;\n",
       "    }\n",
       "\n",
       "    function displayChart(vegaEmbed) {\n",
       "      vegaEmbed(outputDiv, spec, embedOpt)\n",
       "        .catch(err => showError(`Javascript Error: ${err.message}<br>This usually means there's a typo in your chart specification. See the javascript console for the full traceback.`));\n",
       "    }\n",
       "\n",
       "    if(typeof define === \"function\" && define.amd) {\n",
       "      requirejs.config({paths});\n",
       "      require([\"vega-embed\"], displayChart, err => showError(`Error loading script: ${err.message}`));\n",
       "    } else {\n",
       "      maybeLoadScript(\"vega\", \"5\")\n",
       "        .then(() => maybeLoadScript(\"vega-lite\", \"4.17.0\"))\n",
       "        .then(() => maybeLoadScript(\"vega-embed\", \"6\"))\n",
       "        .catch(showError)\n",
       "        .then(() => displayChart(vegaEmbed));\n",
       "    }\n",
       "  })({\"config\": {\"view\": {\"continuousWidth\": 400, \"continuousHeight\": 300}}, \"data\": {\"name\": \"data-51bac64d8216f71f41a79694a264813b\"}, \"mark\": \"bar\", \"encoding\": {\"color\": {\"field\": \"method\", \"scale\": {\"range\": [\"#1f77b4\", \"#ff7f0e\", \"#2ca02c\", \"#d62728\", \"#9467bd\", \"#8c564b\", \"#e377c2\", \"#7f7f7f\", \"#bcbd22\", \"#17becf\", \"#aec7e8\", \"#ffbb78\", \"#98df8a\", \"#ff9896\", \"#c5b0d5\", \"#c49c94\", \"#f7b6d2\", \"#c7c7c7\", \"#dbdb8d\", \"#9edae5\", \"#393b79\", \"#7b4173\", \"#ff0000\", \"#0000ff\", \"#00ff00\", \"#ffff00\", \"#ff00ff\", \"#00ffff\", \"#800000\", \"#008000\", \"#000080\", \"#800080\", \"#008080\", \"#808000\", \"#ff4500\", \"#228b22\", \"#0000cd\", \"#ffc0cb\", \"#dda0dd\", \"#b0c4de\", \"#ffffe0\", \"#f0fff0\", \"#f0f8ff\", \"#f5f5f5\", \"#faebd7\", \"#7fffd4\", \"#f0ffff\", \"#f5deb3\", \"#adff2f\", \"#ff6347\", \"#ffe4e1\", \"#da70d6\", \"#d3d3d3\", \"#90ee90\", \"#ff00ff\", \"#ffd700\", \"#a52a2a\", \"#20b2aa\", \"#778899\", \"#b0e0e6\", \"#800080\", \"#a9a9a9\", \"#000000\", \"#006400\", \"#f08080\", \"#808080\", \"#add8e6\", \"#f08080\", \"#008000\", \"#ffdab9\", \"#d3d3d3\", \"#ff0000\", \"#daa520\", \"#808080\", \"#c0c0c0\", \"#800000\", \"#ffff00\", \"#90ee90\", \"#ffd700\", \"#d2b48c\", \"#f5f5f5\", \"#ffa500\", \"#ffdab9\", \"#d3d3d3\", \"#8b4513\", \"#ffffff\", \"#c0c0c0\", \"#ff00ff\", \"#800000\", \"#808000\", \"#ffa500\", \"#ffff00\", \"#008000\", \"#00ff00\", \"#000080\", \"#008080\", \"#0000ff\", \"#00ffff\", \"#800080\", \"#ff0000\", \"#ff00ff\", \"#008080\", \"#00ff00\", \"#000080\", \"#008080\", \"#0000ff\", \"#00ffff\", \"#800080\", \"#ff0000\", \"#ff00ff\", \"#008080\", \"#00ff00\", \"#000080\", \"#008080\", \"#0000ff\", \"#00ffff\", \"#800080\", \"#ff0000\", \"#ff00ff\", \"#008080\", \"#00ff00\", \"#000080\", \"#008080\", \"#0000ff\", \"#00ffff\", \"#800080\", \"#ff0000\", \"#ff00ff\", \"#008080\", \"#00ff00\", \"#000080\", \"#008080\", \"#0000ff\", \"#00ffff\", \"#800080\", \"#ff0000\", \"#ff00ff\", \"#008080\", \"#00ff00\", \"#000080\", \"#008080\", \"#0000ff\", \"#00ffff\", \"#800080\"]}, \"type\": \"nominal\"}, \"tooltip\": [{\"field\": \"method\", \"type\": \"nominal\"}, {\"field\": \"count\", \"type\": \"quantitative\"}], \"x\": {\"axis\": {\"title\": \"Propor\\u00e7\\u00e3o\"}, \"field\": \"count\", \"stack\": \"normalize\", \"type\": \"quantitative\"}, \"y\": {\"axis\": {\"title\": \"Casa do Assassino\"}, \"field\": \"killers_house\", \"sort\": \"-x\", \"type\": \"nominal\"}}, \"title\": \"Causador da Morte (killers_house) e m\\u00e9todo (Ordenado por N\\u00famero de Mortes)\", \"width\": 600, \"$schema\": \"https://vega.github.io/schema/vega-lite/v4.17.0.json\", \"datasets\": {\"data-51bac64d8216f71f41a79694a264813b\": [{\"killers_house\": \"House Targaryen\", \"method\": \"Dragonfire (Dragon)\", \"count\": 984}, {\"killers_house\": \"House Lannister\", \"method\": \"Wildfire\", \"count\": 210}, {\"killers_house\": \"House Stark\", \"method\": \"Sword\", \"count\": 80}, {\"killers_house\": \"House Stark\", \"method\": \"Poison\", \"count\": 55}, {\"killers_house\": \"House Targaryen\", \"method\": \"Spear\", \"count\": 48}, {\"killers_house\": \"House Targaryen\", \"method\": \"Arakh\", \"count\": 43}, {\"killers_house\": \"House Lannister\", \"method\": \"Sword\", \"count\": 39}, {\"killers_house\": \"House Bolton\", \"method\": \"Arrow\", \"count\": 38}, {\"killers_house\": \"White Walkers\", \"method\": \"Sword\", \"count\": 34}, {\"killers_house\": \"House Targaryen\", \"method\": \"Sword\", \"count\": 29}, {\"killers_house\": \"Sons of the Harpy\", \"method\": \"Knife\", \"count\": 23}, {\"killers_house\": \"House Frey\", \"method\": \"Knife\", \"count\": 21}, {\"killers_house\": \"House Baratheon of King's Landing\", \"method\": \"Flaming arrow\", \"count\": 20}, {\"killers_house\": \"Free Folk\", \"method\": \"Sword\", \"count\": 19}, {\"killers_house\": \"House Greyjoy\", \"method\": \"Sword\", \"count\": 16}, {\"killers_house\": \"House Targaryen\", \"method\": \"Fire\", \"count\": 16}, {\"killers_house\": \"Night's Watch\", \"method\": \"Sword\", \"count\": 15}, {\"killers_house\": \"Sons of the Harpy\", \"method\": \"Sword\", \"count\": 14}, {\"killers_house\": \"House Baratheon of Dragonstone\", \"method\": \"Sword\", \"count\": 13}, {\"killers_house\": \"Free Folk\", \"method\": \"Axe\", \"count\": 13}, {\"killers_house\": \"House Lannister\", \"method\": \"Knife\", \"count\": 12}, {\"killers_house\": \"House Greyjoy\", \"method\": \"Axe\", \"count\": 12}, {\"killers_house\": \"House Bolton\", \"method\": \"Sword\", \"count\": 12}, {\"killers_house\": \"House Stark\", \"method\": \"Knife\", \"count\": 12}, {\"killers_house\": \"House Tarth\", \"method\": \"Sword\", \"count\": 12}, {\"killers_house\": \"House Lannister\", \"method\": \"Arrow\", \"count\": 12}, {\"killers_house\": \"House Targaryen\", \"method\": \"Knife\", \"count\": 11}, {\"killers_house\": \"House Stark\", \"method\": \"Arrow\", \"count\": 11}, {\"killers_house\": \"Warlocks of Qarth\", \"method\": \"Knife\", \"count\": 11}, {\"killers_house\": \"Night's Watch\", \"method\": \"Flaming arrow\", \"count\": 11}, {\"killers_house\": \"House Bolton\", \"method\": \"Spear\", \"count\": 10}, {\"killers_house\": \"White Walkers\", \"method\": \"Teeth\", \"count\": 10}, {\"killers_house\": \"House Clegane\", \"method\": \"Sword\", \"count\": 10}, {\"killers_house\": \"Night's Watch\", \"method\": \"Scythe\", \"count\": 9}, {\"killers_house\": \"White Walkers\", \"method\": \"Falling\", \"count\": 9}, {\"killers_house\": \"Free Folk\", \"method\": \"Arrow\", \"count\": 9}, {\"killers_house\": \"House Stark\", \"method\": \"Teeth\", \"count\": 8}, {\"killers_house\": \"House Lannister\", \"method\": \"Spear\", \"count\": 7}, {\"killers_house\": \"House Umber\", \"method\": \"Sword\", \"count\": 7}, {\"killers_house\": \"White Walkers\", \"method\": \"Club\", \"count\": 7}, {\"killers_house\": \"White Walkers\", \"method\": \"Axe\", \"count\": 7}, {\"killers_house\": \"Night's Watch\", \"method\": \"Barrel\", \"count\": 7}, {\"killers_house\": \"Night's Watch\", \"method\": \"Burning oil\", \"count\": 7}, {\"killers_house\": \"None\", \"method\": \"Falling\", \"count\": 6}, {\"killers_house\": \"Night's Watch\", \"method\": \"Arrow\", \"count\": 6}, {\"killers_house\": \"Night's Watch\", \"method\": \"Knife\", \"count\": 5}, {\"killers_house\": \"House Frey\", \"method\": \"Arrow\", \"count\": 5}, {\"killers_house\": \"House Lannister\", \"method\": \"Hands\", \"count\": 5}, {\"killers_house\": \"House Greyjoy\", \"method\": \"Arrow\", \"count\": 5}, {\"killers_house\": \"House Baratheon of Dragonstone\", \"method\": \"Axe\", \"count\": 5}, {\"killers_house\": \"House Baratheon of King's Landing\", \"method\": \"Sword\", \"count\": 5}, {\"killers_house\": \"House Tyrell\", \"method\": \"Sword\", \"count\": 4}, {\"killers_house\": \"House Stark\", \"method\": \"Noose\", \"count\": 4}, {\"killers_house\": \"House Greyjoy\", \"method\": \"Giant arrow\", \"count\": 4}, {\"killers_house\": \"Lord of Light\", \"method\": \"Fire\", \"count\": 4}, {\"killers_house\": \"House Stark\", \"method\": \"Axe\", \"count\": 4}, {\"killers_house\": \"House Bolton\", \"method\": \"Flaying\", \"count\": 4}, {\"killers_house\": \"House Baratheon of Dragonstone\", \"method\": \"Arrow\", \"count\": 4}, {\"killers_house\": \"Free Folk\", \"method\": \"Knife\", \"count\": 4}, {\"killers_house\": \"House Bolton\", \"method\": \"Knife\", \"count\": 4}, {\"killers_house\": \"Free Folk\", \"method\": \"Hands\", \"count\": 4}, {\"killers_house\": \"House Arryn\", \"method\": \"Sword\", \"count\": 4}, {\"killers_house\": \"House Baratheon of Dragonstone\", \"method\": \"Spear\", \"count\": 4}, {\"killers_house\": \"Free Folk\", \"method\": \"Flaming arrow\", \"count\": 4}, {\"killers_house\": \"House Clegane\", \"method\": \"Axe\", \"count\": 4}, {\"killers_house\": \"House Bolton\", \"method\": \"Fire\", \"count\": 3}, {\"killers_house\": \"House Baratheon of Dragonstone\", \"method\": \"Fire\", \"count\": 3}, {\"killers_house\": \"House Stark\", \"method\": \"Hammer\", \"count\": 3}, {\"killers_house\": \"White Walkers\", \"method\": \"Claws\", \"count\": 3}, {\"killers_house\": \"House Baratheon of King's Landing\", \"method\": \"Boulder\", \"count\": 3}, {\"killers_house\": \"The Masters\", \"method\": \"Catapult\", \"count\": 3}, {\"killers_house\": \"White Walkers\", \"method\": \"Knife\", \"count\": 3}, {\"killers_house\": \"Sand Snakes\", \"method\": \"Knife\", \"count\": 3}, {\"killers_house\": \"None\", \"method\": \"Sword\", \"count\": 3}, {\"killers_house\": \"House Bolton\", \"method\": \"Dogs\", \"count\": 3}, {\"killers_house\": \"Free Folk\", \"method\": \"Spear\", \"count\": 3}, {\"killers_house\": \"House Frey\", \"method\": \"Sword\", \"count\": 3}, {\"killers_house\": \"House Baratheon of King's Landing\", \"method\": \"Arrow\", \"count\": 2}, {\"killers_house\": \"House Stark\", \"method\": \"Spear\", \"count\": 2}, {\"killers_house\": \"House Targaryen\", \"method\": \"Arrow\", \"count\": 2}, {\"killers_house\": \"Brotherhood Without Banners\", \"method\": \"Noose\", \"count\": 2}, {\"killers_house\": \"House Targaryen\", \"method\": \"Rubble\", \"count\": 2}, {\"killers_house\": \"House Targaryen\", \"method\": \"Claws (Dragon)\", \"count\": 2}, {\"killers_house\": \"None\", \"method\": \"Spear\", \"count\": 2}, {\"killers_house\": \"House Targaryen\", \"method\": \"Hands\", \"count\": 2}, {\"killers_house\": \"House Targaryen\", \"method\": \"Sealed into vault\", \"count\": 2}, {\"killers_house\": \"None\", \"method\": \"Knife\", \"count\": 2}, {\"killers_house\": \"House Targaryen\", \"method\": \"Teeth (Dragon)\", \"count\": 2}, {\"killers_house\": \"House Targaryen\", \"method\": \"Unknown\", \"count\": 2}, {\"killers_house\": \"None\", \"method\": \"Ice sword\", \"count\": 2}, {\"killers_house\": \"None\", \"method\": \"Hands\", \"count\": 2}, {\"killers_house\": \"Free Folk\", \"method\": \"Unknown\", \"count\": 2}, {\"killers_house\": \"Night's Watch\", \"method\": \"Axe\", \"count\": 2}, {\"killers_house\": \"House Baratheon of King's Landing\", \"method\": \"Unknown\", \"count\": 2}, {\"killers_house\": \"House Stark\", \"method\": \"Hands\", \"count\": 2}, {\"killers_house\": \"House Lannister\", \"method\": \"Poison\", \"count\": 2}, {\"killers_house\": \"House Clegane\", \"method\": \"Hands\", \"count\": 2}, {\"killers_house\": \"House Clegane\", \"method\": \"Dragonfire (Dragon)\", \"count\": 2}, {\"killers_house\": \"House Stark\", \"method\": \"Cooking\", \"count\": 2}, {\"killers_house\": \"House Greyjoy\", \"method\": \"Knife\", \"count\": 2}, {\"killers_house\": \"House Martell\", \"method\": \"Knife\", \"count\": 2}, {\"killers_house\": \"White Walkers\", \"method\": \"Hands\", \"count\": 2}, {\"killers_house\": \"House Martell\", \"method\": \"Spear\", \"count\": 2}, {\"killers_house\": \"House Clegane\", \"method\": \"Noose\", \"count\": 2}, {\"killers_house\": \"House Clegane\", \"method\": \"Knife\", \"count\": 2}, {\"killers_house\": \"None\", \"method\": \"Burning oil\", \"count\": 1}, {\"killers_house\": \"Night's Watch\", \"method\": \"Old Age\", \"count\": 1}, {\"killers_house\": \"Night's Watch\", \"method\": \"Pot\", \"count\": 1}, {\"killers_house\": \"White Walkers\", \"method\": \"Spear\", \"count\": 1}, {\"killers_house\": \"None\", \"method\": \"Hammer\", \"count\": 1}, {\"killers_house\": \"Free Folk\", \"method\": \"Giant arrow\", \"count\": 1}, {\"killers_house\": \"White Walkers\", \"method\": \"Steak\", \"count\": 1}, {\"killers_house\": \"None\", \"method\": \"Broken foot\", \"count\": 1}, {\"killers_house\": \"None\", \"method\": \"Bolo\", \"count\": 1}, {\"killers_house\": \"None\", \"method\": \"Antler\", \"count\": 1}, {\"killers_house\": \"White Walkers\", \"method\": \"Ice Javelin\", \"count\": 1}, {\"killers_house\": \"Night's Watch\", \"method\": \"Unknown\", \"count\": 1}, {\"killers_house\": \"Dothraki\", \"method\": \"Hands\", \"count\": 1}, {\"killers_house\": \"None\", \"method\": \"Teeth\", \"count\": 1}, {\"killers_house\": \"None\", \"method\": \"Illness\", \"count\": 1}, {\"killers_house\": \"Dothraki\", \"method\": \"Molten gold\", \"count\": 1}, {\"killers_house\": \"White Walkers\", \"method\": \"Drowning\", \"count\": 1}, {\"killers_house\": \"Night's Watch\", \"method\": \"Giant arrow\", \"count\": 1}, {\"killers_house\": \"None\", \"method\": \"Tusk\", \"count\": 1}, {\"killers_house\": \"None\", \"method\": \"Unknown\", \"count\": 1}, {\"killers_house\": \"None\", \"method\": \"Starvation\", \"count\": 1}, {\"killers_house\": \"Smallfolk\", \"method\": \"Unknown\", \"count\": 1}, {\"killers_house\": \"Sons of the Harpy\", \"method\": \"Spear\", \"count\": 1}, {\"killers_house\": \"Faceless Men\", \"method\": \"Unknown\", \"count\": 1}, {\"killers_house\": \"Unknown\", \"method\": \"Blunt object\", \"count\": 1}, {\"killers_house\": \"None\", \"method\": \"Poison\", \"count\": 1}, {\"killers_house\": \"None\", \"method\": \"Magic\", \"count\": 1}, {\"killers_house\": \"Unknown\", \"method\": \"Unknown\", \"count\": 1}, {\"killers_house\": \"Faceless Men\", \"method\": \"Poison dart\", \"count\": 1}, {\"killers_house\": \"None\", \"method\": \"Mace\", \"count\": 1}, {\"killers_house\": \"Faceless Men\", \"method\": \"Poison\", \"count\": 1}, {\"killers_house\": \"Dothraki\", \"method\": \"Unknown\", \"count\": 1}, {\"killers_house\": \"Free Folk\", \"method\": \"Mallet\", \"count\": 1}, {\"killers_house\": \"House Frey\", \"method\": \"Hanging\", \"count\": 1}, {\"killers_house\": \"Free Folk\", \"method\": \"Mammoth foot\", \"count\": 1}, {\"killers_house\": \"House Bolton\", \"method\": \"Teeth\", \"count\": 1}, {\"killers_house\": \"House Mormont\", \"method\": \"Knife\", \"count\": 1}, {\"killers_house\": \"House Martell\", \"method\": \"Poison\", \"count\": 1}, {\"killers_house\": \"House Bolton\", \"method\": \"Falling\", \"count\": 1}, {\"killers_house\": \"House Lannister\", \"method\": \"Water\", \"count\": 1}, {\"killers_house\": \"House Lannister\", \"method\": \"Unknown\", \"count\": 1}, {\"killers_house\": \"House Lannister\", \"method\": \"Shield\", \"count\": 1}, {\"killers_house\": \"House Lannister\", \"method\": \"Rock\", \"count\": 1}, {\"killers_house\": \"House Lannister\", \"method\": \"Mace\", \"count\": 1}, {\"killers_house\": \"House Lannister\", \"method\": \"Hands/Necklace\", \"count\": 1}, {\"killers_house\": \"House Lannister\", \"method\": \"Giant arrow\", \"count\": 1}, {\"killers_house\": \"Dothraki\", \"method\": \"Arakh\", \"count\": 1}, {\"killers_house\": \"House Lannister\", \"method\": \"Bell\", \"count\": 1}, {\"killers_house\": \"House Lannister\", \"method\": \"Axe\", \"count\": 1}, {\"killers_house\": \"House Karstark\", \"method\": \"Unknown\", \"count\": 1}, {\"killers_house\": \"House Karstark\", \"method\": \"Sword\", \"count\": 1}, {\"killers_house\": \"House Greyjoy\", \"method\": \"Whip\", \"count\": 1}, {\"killers_house\": \"House Greyjoy\", \"method\": \"Spear\", \"count\": 1}, {\"killers_house\": \"House Greyjoy\", \"method\": \"Rock\", \"count\": 1}, {\"killers_house\": \"House Greyjoy\", \"method\": \"Mace\", \"count\": 1}, {\"killers_house\": \"House Greyjoy\", \"method\": \"Hands\", \"count\": 1}, {\"killers_house\": \"House Payne\", \"method\": \"Sword\", \"count\": 1}, {\"killers_house\": \"House Stark\", \"method\": \"Fire\", \"count\": 1}, {\"killers_house\": \"Night's Watch\", \"method\": \"Fire\", \"count\": 1}, {\"killers_house\": \"House Trant\", \"method\": \"Sword\", \"count\": 1}, {\"killers_house\": \"Night's Watch\", \"method\": \"Dragonglass\", \"count\": 1}, {\"killers_house\": \"Night's Watch\", \"method\": \"Butcher's knife\", \"count\": 1}, {\"killers_house\": \"Free Folk\", \"method\": \"Nail\", \"count\": 1}, {\"killers_house\": \"Lord of Light\", \"method\": \"Shadow Demon\", \"count\": 1}, {\"killers_house\": \"Lord of Light\", \"method\": \"Poison\", \"count\": 1}, {\"killers_house\": \"Lord of Light\", \"method\": \"Old Age\", \"count\": 1}, {\"killers_house\": \"House Arryn\", \"method\": \"Poison\", \"count\": 1}, {\"killers_house\": \"House Baelish\", \"method\": \"Arrow\", \"count\": 1}, {\"killers_house\": \"House Tyrell\", \"method\": \"Poison\", \"count\": 1}, {\"killers_house\": \"House Baelish\", \"method\": \"Moon Door\", \"count\": 1}, {\"killers_house\": \"House Baratheon of King's Landing\", \"method\": \"Fire\", \"count\": 1}, {\"killers_house\": \"House Clegane\", \"method\": \"Rat\", \"count\": 1}, {\"killers_house\": \"House Tarth\", \"method\": \"Hands\", \"count\": 1}, {\"killers_house\": \"House Baratheon of Dragonstone\", \"method\": \"Bludgeon\", \"count\": 1}, {\"killers_house\": \"House Targaryen\", \"method\": \"Shield\", \"count\": 1}, {\"killers_house\": \"House Targaryen\", \"method\": \"Pillow\", \"count\": 1}, {\"killers_house\": \"House Baratheon of Dragonstone\", \"method\": \"Hands\", \"count\": 1}, {\"killers_house\": \"House Targaryen\", \"method\": \"Falling\", \"count\": 1}, {\"killers_house\": \"House Baratheon of Dragonstone\", \"method\": \"Rope\", \"count\": 1}, {\"killers_house\": \"House Baratheon of King's Landing\", \"method\": \"Falling\", \"count\": 1}, {\"killers_house\": \"House Tarth\", \"method\": \"Knife\", \"count\": 1}]}}, {\"mode\": \"vega-lite\"});\n",
       "</script>"
      ],
      "text/plain": [
       "alt.Chart(...)"
      ]
     },
     "execution_count": 7,
     "metadata": {},
     "output_type": "execute_result"
    }
   ],
   "source": [
    "import altair as alt\n",
    "\n",
    "def plotKillerMethod(df, killer_type):\n",
    "    # Calcular o número de mortes por casa e método\n",
    "    death_counts = df.groupby([killer_type, 'method']).size().reset_index(name='count')\n",
    "\n",
    "    # Ordenar os dados pelo número de mortes\n",
    "    death_counts_sorted = death_counts.sort_values(by='count', ascending=False)\n",
    "\n",
    "    chart = alt.Chart(death_counts_sorted).mark_bar().encode(\n",
    "        x=alt.X('count:Q', stack='normalize', axis=alt.Axis(title='Proporção')),\n",
    "        y=alt.Y(f'{killer_type}:N', sort='-x', axis=alt.Axis(title='Casa do Assassino')),\n",
    "        # color=alt.Color('method:N', scale=alt.Scale(scheme=color_scheme)),\n",
    "        color=alt.Color('method:N', scale=alt.Scale(range=custom_palette)),\n",
    "        tooltip=['method', 'count']\n",
    "    ).properties(\n",
    "        width=600,\n",
    "        title=f'Causador da Morte ({killer_type}) e método (Ordenado por Número de Mortes)'\n",
    "    )\n",
    "\n",
    "    # Exibir o gráfico\n",
    "    return chart\n",
    "\n",
    "plotKillerMethod(deaths_df, 'killers_house')"
   ]
  },
  {
   "cell_type": "markdown",
   "id": "9af5f1ce-aad3-4f48-803e-4ef7ecbba7ae",
   "metadata": {
    "id": "9af5f1ce-aad3-4f48-803e-4ef7ecbba7ae"
   },
   "source": [
    "Qualquer um que tenha acompanhado a série sabe o estrago que um dragão consegue fazer. Daí temos a casa Targaryen em primeiro lugar com o maior número de mortes causadas por fogo do dragão. Podemos plotar um gráfico de barras que mostra especificamente quais alianças foram afetadas:"
   ]
  },
  {
   "cell_type": "code",
   "execution_count": 8,
   "id": "26654fb5-c472-4d15-afa8-330b776e9ac8",
   "metadata": {
    "colab": {
     "base_uri": "https://localhost:8080/",
     "height": 424
    },
    "id": "26654fb5-c472-4d15-afa8-330b776e9ac8",
    "outputId": "f357d8af-299c-4036-ca4b-4454aecbeedd",
    "tags": []
   },
   "outputs": [
    {
     "data": {
      "text/html": [
       "<div>\n",
       "<style scoped>\n",
       "    .dataframe tbody tr th:only-of-type {\n",
       "        vertical-align: middle;\n",
       "    }\n",
       "\n",
       "    .dataframe tbody tr th {\n",
       "        vertical-align: top;\n",
       "    }\n",
       "\n",
       "    .dataframe thead th {\n",
       "        text-align: right;\n",
       "    }\n",
       "</style>\n",
       "<table border=\"1\" class=\"dataframe\">\n",
       "  <thead>\n",
       "    <tr style=\"text-align: right;\">\n",
       "      <th></th>\n",
       "      <th>name</th>\n",
       "      <th>allegiance</th>\n",
       "      <th>season</th>\n",
       "      <th>episode</th>\n",
       "      <th>location</th>\n",
       "      <th>killer</th>\n",
       "      <th>killers_house</th>\n",
       "      <th>method</th>\n",
       "      <th>death_no</th>\n",
       "    </tr>\n",
       "  </thead>\n",
       "  <tbody>\n",
       "    <tr>\n",
       "      <th>184</th>\n",
       "      <td>Pyat Pree</td>\n",
       "      <td>Warlocks of Qarth</td>\n",
       "      <td>2</td>\n",
       "      <td>10</td>\n",
       "      <td>Qarth</td>\n",
       "      <td>Daenerys Targaryen</td>\n",
       "      <td>House Targaryen</td>\n",
       "      <td>Dragonfire (Dragon)</td>\n",
       "      <td>185</td>\n",
       "    </tr>\n",
       "    <tr>\n",
       "      <th>200</th>\n",
       "      <td>Kraznys mo Nakloz</td>\n",
       "      <td>Good Masters</td>\n",
       "      <td>3</td>\n",
       "      <td>4</td>\n",
       "      <td>Astapor</td>\n",
       "      <td>Daenerys Targaryen</td>\n",
       "      <td>House Targaryen</td>\n",
       "      <td>Dragonfire (Dragon)</td>\n",
       "      <td>201</td>\n",
       "    </tr>\n",
       "    <tr>\n",
       "      <th>319</th>\n",
       "      <td>Goat</td>\n",
       "      <td>None</td>\n",
       "      <td>4</td>\n",
       "      <td>6</td>\n",
       "      <td>Meereen</td>\n",
       "      <td>Daenerys Targaryen</td>\n",
       "      <td>House Targaryen</td>\n",
       "      <td>Dragonfire (Dragon)</td>\n",
       "      <td>320</td>\n",
       "    </tr>\n",
       "    <tr>\n",
       "      <th>439</th>\n",
       "      <td>Zalla</td>\n",
       "      <td>Smallfolk</td>\n",
       "      <td>4</td>\n",
       "      <td>10</td>\n",
       "      <td>Meereen</td>\n",
       "      <td>Daenerys Targaryen</td>\n",
       "      <td>House Targaryen</td>\n",
       "      <td>Dragonfire (Dragon)</td>\n",
       "      <td>440</td>\n",
       "    </tr>\n",
       "    <tr>\n",
       "      <th>507</th>\n",
       "      <td>Great Master</td>\n",
       "      <td>House Targaryen</td>\n",
       "      <td>5</td>\n",
       "      <td>5</td>\n",
       "      <td>Meereen</td>\n",
       "      <td>Viserion</td>\n",
       "      <td>House Targaryen</td>\n",
       "      <td>Dragonfire (Dragon)</td>\n",
       "      <td>508</td>\n",
       "    </tr>\n",
       "    <tr>\n",
       "      <th>...</th>\n",
       "      <td>...</td>\n",
       "      <td>...</td>\n",
       "      <td>...</td>\n",
       "      <td>...</td>\n",
       "      <td>...</td>\n",
       "      <td>...</td>\n",
       "      <td>...</td>\n",
       "      <td>...</td>\n",
       "      <td>...</td>\n",
       "    </tr>\n",
       "    <tr>\n",
       "      <th>2205</th>\n",
       "      <td>King's Landing Citizen</td>\n",
       "      <td>None</td>\n",
       "      <td>8</td>\n",
       "      <td>5</td>\n",
       "      <td>King's Landing</td>\n",
       "      <td>Daenerys Targaryen</td>\n",
       "      <td>House Targaryen</td>\n",
       "      <td>Dragonfire (Dragon)</td>\n",
       "      <td>2206</td>\n",
       "    </tr>\n",
       "    <tr>\n",
       "      <th>2206</th>\n",
       "      <td>King's Landing Citizen</td>\n",
       "      <td>None</td>\n",
       "      <td>8</td>\n",
       "      <td>5</td>\n",
       "      <td>King's Landing</td>\n",
       "      <td>Daenerys Targaryen</td>\n",
       "      <td>House Targaryen</td>\n",
       "      <td>Dragonfire (Dragon)</td>\n",
       "      <td>2207</td>\n",
       "    </tr>\n",
       "    <tr>\n",
       "      <th>2207</th>\n",
       "      <td>King's Landing Citizen</td>\n",
       "      <td>None</td>\n",
       "      <td>8</td>\n",
       "      <td>5</td>\n",
       "      <td>King's Landing</td>\n",
       "      <td>Daenerys Targaryen</td>\n",
       "      <td>House Targaryen</td>\n",
       "      <td>Dragonfire (Dragon)</td>\n",
       "      <td>2208</td>\n",
       "    </tr>\n",
       "    <tr>\n",
       "      <th>2208</th>\n",
       "      <td>King's Landing Citizen</td>\n",
       "      <td>None</td>\n",
       "      <td>8</td>\n",
       "      <td>5</td>\n",
       "      <td>King's Landing</td>\n",
       "      <td>Daenerys Targaryen</td>\n",
       "      <td>House Targaryen</td>\n",
       "      <td>Dragonfire (Dragon)</td>\n",
       "      <td>2209</td>\n",
       "    </tr>\n",
       "    <tr>\n",
       "      <th>2209</th>\n",
       "      <td>King's Landing Citizen</td>\n",
       "      <td>None</td>\n",
       "      <td>8</td>\n",
       "      <td>5</td>\n",
       "      <td>King's Landing</td>\n",
       "      <td>Daenerys Targaryen</td>\n",
       "      <td>House Targaryen</td>\n",
       "      <td>Dragonfire (Dragon)</td>\n",
       "      <td>2210</td>\n",
       "    </tr>\n",
       "  </tbody>\n",
       "</table>\n",
       "<p>984 rows × 9 columns</p>\n",
       "</div>"
      ],
      "text/plain": [
       "                        name         allegiance  season  episode  \\\n",
       "184                Pyat Pree  Warlocks of Qarth       2       10   \n",
       "200        Kraznys mo Nakloz       Good Masters       3        4   \n",
       "319                     Goat               None       4        6   \n",
       "439                    Zalla          Smallfolk       4       10   \n",
       "507             Great Master    House Targaryen       5        5   \n",
       "...                      ...                ...     ...      ...   \n",
       "2205  King's Landing Citizen               None       8        5   \n",
       "2206  King's Landing Citizen               None       8        5   \n",
       "2207  King's Landing Citizen               None       8        5   \n",
       "2208  King's Landing Citizen               None       8        5   \n",
       "2209  King's Landing Citizen               None       8        5   \n",
       "\n",
       "            location              killer    killers_house  \\\n",
       "184            Qarth  Daenerys Targaryen  House Targaryen   \n",
       "200          Astapor  Daenerys Targaryen  House Targaryen   \n",
       "319          Meereen  Daenerys Targaryen  House Targaryen   \n",
       "439          Meereen  Daenerys Targaryen  House Targaryen   \n",
       "507          Meereen            Viserion  House Targaryen   \n",
       "...              ...                 ...              ...   \n",
       "2205  King's Landing  Daenerys Targaryen  House Targaryen   \n",
       "2206  King's Landing  Daenerys Targaryen  House Targaryen   \n",
       "2207  King's Landing  Daenerys Targaryen  House Targaryen   \n",
       "2208  King's Landing  Daenerys Targaryen  House Targaryen   \n",
       "2209  King's Landing  Daenerys Targaryen  House Targaryen   \n",
       "\n",
       "                   method  death_no  \n",
       "184   Dragonfire (Dragon)       185  \n",
       "200   Dragonfire (Dragon)       201  \n",
       "319   Dragonfire (Dragon)       320  \n",
       "439   Dragonfire (Dragon)       440  \n",
       "507   Dragonfire (Dragon)       508  \n",
       "...                   ...       ...  \n",
       "2205  Dragonfire (Dragon)      2206  \n",
       "2206  Dragonfire (Dragon)      2207  \n",
       "2207  Dragonfire (Dragon)      2208  \n",
       "2208  Dragonfire (Dragon)      2209  \n",
       "2209  Dragonfire (Dragon)      2210  \n",
       "\n",
       "[984 rows x 9 columns]"
      ]
     },
     "execution_count": 8,
     "metadata": {},
     "output_type": "execute_result"
    }
   ],
   "source": [
    "df_temp = deaths_df[(deaths_df['killers_house']=='House Targaryen') & (deaths_df['method']=='Dragonfire (Dragon)')]\n",
    "df_temp"
   ]
  },
  {
   "cell_type": "code",
   "execution_count": 9,
   "id": "c4e963ba-344c-4426-bba4-c9394f96b7d7",
   "metadata": {
    "colab": {
     "base_uri": "https://localhost:8080/",
     "height": 482
    },
    "id": "c4e963ba-344c-4426-bba4-c9394f96b7d7",
    "outputId": "5fd8d697-b512-4e17-edfd-891e4a1444b0",
    "tags": []
   },
   "outputs": [
    {
     "data": {
      "text/html": [
       "\n",
       "<div id=\"altair-viz-acca2f61b4934bf7aefdfefec4aaf1f8\"></div>\n",
       "<script type=\"text/javascript\">\n",
       "  var VEGA_DEBUG = (typeof VEGA_DEBUG == \"undefined\") ? {} : VEGA_DEBUG;\n",
       "  (function(spec, embedOpt){\n",
       "    let outputDiv = document.currentScript.previousElementSibling;\n",
       "    if (outputDiv.id !== \"altair-viz-acca2f61b4934bf7aefdfefec4aaf1f8\") {\n",
       "      outputDiv = document.getElementById(\"altair-viz-acca2f61b4934bf7aefdfefec4aaf1f8\");\n",
       "    }\n",
       "    const paths = {\n",
       "      \"vega\": \"https://cdn.jsdelivr.net/npm//vega@5?noext\",\n",
       "      \"vega-lib\": \"https://cdn.jsdelivr.net/npm//vega-lib?noext\",\n",
       "      \"vega-lite\": \"https://cdn.jsdelivr.net/npm//vega-lite@4.17.0?noext\",\n",
       "      \"vega-embed\": \"https://cdn.jsdelivr.net/npm//vega-embed@6?noext\",\n",
       "    };\n",
       "\n",
       "    function maybeLoadScript(lib, version) {\n",
       "      var key = `${lib.replace(\"-\", \"\")}_version`;\n",
       "      return (VEGA_DEBUG[key] == version) ?\n",
       "        Promise.resolve(paths[lib]) :\n",
       "        new Promise(function(resolve, reject) {\n",
       "          var s = document.createElement('script');\n",
       "          document.getElementsByTagName(\"head\")[0].appendChild(s);\n",
       "          s.async = true;\n",
       "          s.onload = () => {\n",
       "            VEGA_DEBUG[key] = version;\n",
       "            return resolve(paths[lib]);\n",
       "          };\n",
       "          s.onerror = () => reject(`Error loading script: ${paths[lib]}`);\n",
       "          s.src = paths[lib];\n",
       "        });\n",
       "    }\n",
       "\n",
       "    function showError(err) {\n",
       "      outputDiv.innerHTML = `<div class=\"error\" style=\"color:red;\">${err}</div>`;\n",
       "      throw err;\n",
       "    }\n",
       "\n",
       "    function displayChart(vegaEmbed) {\n",
       "      vegaEmbed(outputDiv, spec, embedOpt)\n",
       "        .catch(err => showError(`Javascript Error: ${err.message}<br>This usually means there's a typo in your chart specification. See the javascript console for the full traceback.`));\n",
       "    }\n",
       "\n",
       "    if(typeof define === \"function\" && define.amd) {\n",
       "      requirejs.config({paths});\n",
       "      require([\"vega-embed\"], displayChart, err => showError(`Error loading script: ${err.message}`));\n",
       "    } else {\n",
       "      maybeLoadScript(\"vega\", \"5\")\n",
       "        .then(() => maybeLoadScript(\"vega-lite\", \"4.17.0\"))\n",
       "        .then(() => maybeLoadScript(\"vega-embed\", \"6\"))\n",
       "        .catch(showError)\n",
       "        .then(() => displayChart(vegaEmbed));\n",
       "    }\n",
       "  })({\"config\": {\"view\": {\"continuousWidth\": 400, \"continuousHeight\": 300}}, \"data\": {\"name\": \"data-5d3f759e073108f5bbfb25d8cdcfbaee\"}, \"mark\": \"bar\", \"encoding\": {\"color\": {\"field\": \"allegiance\", \"legend\": {\"title\": \"Alian\\u00e7a\"}, \"type\": \"nominal\"}, \"row\": {\"field\": \"name\", \"type\": \"nominal\"}, \"tooltip\": [{\"field\": \"season\", \"type\": \"nominal\"}, {\"field\": \"allegiance\", \"type\": \"nominal\"}, {\"field\": \"count\", \"type\": \"quantitative\"}], \"x\": {\"aggregate\": \"sum\", \"axis\": {\"title\": \"Quantidade de Alian\\u00e7as\"}, \"field\": \"count\", \"type\": \"quantitative\"}, \"y\": {\"axis\": {\"title\": \"Temporada\"}, \"field\": \"season\", \"type\": \"nominal\"}}, \"height\": 400, \"selection\": {\"selector001\": {\"type\": \"interval\", \"bind\": \"scales\", \"encodings\": [\"x\", \"y\"]}}, \"title\": \"Quantidade de Alian\\u00e7as por Temporada\", \"width\": 1000, \"$schema\": \"https://vega.github.io/schema/vega-lite/v4.17.0.json\", \"datasets\": {\"data-5d3f759e073108f5bbfb25d8cdcfbaee\": [{\"season\": 2, \"allegiance\": \"Warlocks of Qarth\", \"count\": 1}, {\"season\": 3, \"allegiance\": \"Good Masters\", \"count\": 1}, {\"season\": 4, \"allegiance\": \"None\", \"count\": 1}, {\"season\": 4, \"allegiance\": \"Smallfolk\", \"count\": 1}, {\"season\": 5, \"allegiance\": \"House Targaryen\", \"count\": 1}, {\"season\": 5, \"allegiance\": \"Sons of the Harpy\", \"count\": 14}, {\"season\": 6, \"allegiance\": \"The Masters\", \"count\": 12}, {\"season\": 7, \"allegiance\": \"House Lannister\", \"count\": 182}, {\"season\": 8, \"allegiance\": \"House Greyjoy\", \"count\": 2}, {\"season\": 8, \"allegiance\": \"House Lannister\", \"count\": 541}, {\"season\": 8, \"allegiance\": \"House Targaryen\", \"count\": 1}, {\"season\": 8, \"allegiance\": \"None\", \"count\": 227}]}}, {\"mode\": \"vega-lite\"});\n",
       "</script>"
      ],
      "text/plain": [
       "alt.Chart(...)"
      ]
     },
     "execution_count": 9,
     "metadata": {},
     "output_type": "execute_result"
    }
   ],
   "source": [
    "def deathsByAllegiance(df):\n",
    "    # Calcular a contagem de alianças por temporada\n",
    "    counts = df.groupby(['season', 'allegiance']).size().reset_index(name='count')\n",
    "\n",
    "    # Criar o gráfico de barras empilhadas horizontal com interatividade\n",
    "    bars = alt.Chart(counts).mark_bar().encode(\n",
    "        y=alt.Y('season:N', axis=alt.Axis(title='Temporada')),\n",
    "        x=alt.X('sum(count):Q', axis=alt.Axis(title='Quantidade de Alianças')),\n",
    "        color=alt.Color('allegiance:N', legend=alt.Legend(title='Aliança')),\n",
    "        tooltip=['season:N', 'allegiance:N', 'count:Q'],\n",
    "        row='name:N'\n",
    "    ).properties(\n",
    "        width=1000,\n",
    "        height=400,\n",
    "        title='Quantidade de Alianças por Temporada'\n",
    "    ).interactive()\n",
    "\n",
    "    # Exibir o gráfico\n",
    "    return bars\n",
    "\n",
    "deathsByAllegiance(df_temp)"
   ]
  },
  {
   "cell_type": "markdown",
   "id": "94d254f5-be1c-47c6-b301-aa03b727f91a",
   "metadata": {
    "id": "94d254f5-be1c-47c6-b301-aa03b727f91a",
    "tags": []
   },
   "source": [
    "E assim vemos que poder dos dragões foi utilizado mais nas últimas temporadas."
   ]
  },
  {
   "cell_type": "markdown",
   "id": "45f60093-3416-4776-8ed6-e0825299681a",
   "metadata": {
    "id": "45f60093-3416-4776-8ed6-e0825299681a"
   },
   "source": [
    "## Qual o personagem que, individualmente, causou mais mortes?"
   ]
  },
  {
   "cell_type": "code",
   "execution_count": 10,
   "id": "22f1879f-7664-4fd9-ba0d-92eab612a594",
   "metadata": {
    "colab": {
     "base_uri": "https://localhost:8080/",
     "height": 1000
    },
    "id": "22f1879f-7664-4fd9-ba0d-92eab612a594",
    "outputId": "bae96f69-7be9-44df-b1ca-d6e7fdb0d306",
    "tags": []
   },
   "outputs": [
    {
     "data": {
      "text/html": [
       "\n",
       "<div id=\"altair-viz-292525ecb96548198a3afa164e7f4794\"></div>\n",
       "<script type=\"text/javascript\">\n",
       "  var VEGA_DEBUG = (typeof VEGA_DEBUG == \"undefined\") ? {} : VEGA_DEBUG;\n",
       "  (function(spec, embedOpt){\n",
       "    let outputDiv = document.currentScript.previousElementSibling;\n",
       "    if (outputDiv.id !== \"altair-viz-292525ecb96548198a3afa164e7f4794\") {\n",
       "      outputDiv = document.getElementById(\"altair-viz-292525ecb96548198a3afa164e7f4794\");\n",
       "    }\n",
       "    const paths = {\n",
       "      \"vega\": \"https://cdn.jsdelivr.net/npm//vega@5?noext\",\n",
       "      \"vega-lib\": \"https://cdn.jsdelivr.net/npm//vega-lib?noext\",\n",
       "      \"vega-lite\": \"https://cdn.jsdelivr.net/npm//vega-lite@4.17.0?noext\",\n",
       "      \"vega-embed\": \"https://cdn.jsdelivr.net/npm//vega-embed@6?noext\",\n",
       "    };\n",
       "\n",
       "    function maybeLoadScript(lib, version) {\n",
       "      var key = `${lib.replace(\"-\", \"\")}_version`;\n",
       "      return (VEGA_DEBUG[key] == version) ?\n",
       "        Promise.resolve(paths[lib]) :\n",
       "        new Promise(function(resolve, reject) {\n",
       "          var s = document.createElement('script');\n",
       "          document.getElementsByTagName(\"head\")[0].appendChild(s);\n",
       "          s.async = true;\n",
       "          s.onload = () => {\n",
       "            VEGA_DEBUG[key] = version;\n",
       "            return resolve(paths[lib]);\n",
       "          };\n",
       "          s.onerror = () => reject(`Error loading script: ${paths[lib]}`);\n",
       "          s.src = paths[lib];\n",
       "        });\n",
       "    }\n",
       "\n",
       "    function showError(err) {\n",
       "      outputDiv.innerHTML = `<div class=\"error\" style=\"color:red;\">${err}</div>`;\n",
       "      throw err;\n",
       "    }\n",
       "\n",
       "    function displayChart(vegaEmbed) {\n",
       "      vegaEmbed(outputDiv, spec, embedOpt)\n",
       "        .catch(err => showError(`Javascript Error: ${err.message}<br>This usually means there's a typo in your chart specification. See the javascript console for the full traceback.`));\n",
       "    }\n",
       "\n",
       "    if(typeof define === \"function\" && define.amd) {\n",
       "      requirejs.config({paths});\n",
       "      require([\"vega-embed\"], displayChart, err => showError(`Error loading script: ${err.message}`));\n",
       "    } else {\n",
       "      maybeLoadScript(\"vega\", \"5\")\n",
       "        .then(() => maybeLoadScript(\"vega-lite\", \"4.17.0\"))\n",
       "        .then(() => maybeLoadScript(\"vega-embed\", \"6\"))\n",
       "        .catch(showError)\n",
       "        .then(() => displayChart(vegaEmbed));\n",
       "    }\n",
       "  })({\"config\": {\"view\": {\"continuousWidth\": 400, \"continuousHeight\": 300}}, \"data\": {\"name\": \"data-6ca41e83562e1a9af10b6146798f068c\"}, \"mark\": \"bar\", \"encoding\": {\"color\": {\"field\": \"method\", \"scale\": {\"range\": [\"#1f77b4\", \"#ff7f0e\", \"#2ca02c\", \"#d62728\", \"#9467bd\", \"#8c564b\", \"#e377c2\", \"#7f7f7f\", \"#bcbd22\", \"#17becf\", \"#aec7e8\", \"#ffbb78\", \"#98df8a\", \"#ff9896\", \"#c5b0d5\", \"#c49c94\", \"#f7b6d2\", \"#c7c7c7\", \"#dbdb8d\", \"#9edae5\", \"#393b79\", \"#7b4173\", \"#ff0000\", \"#0000ff\", \"#00ff00\", \"#ffff00\", \"#ff00ff\", \"#00ffff\", \"#800000\", \"#008000\", \"#000080\", \"#800080\", \"#008080\", \"#808000\", \"#ff4500\", \"#228b22\", \"#0000cd\", \"#ffc0cb\", \"#dda0dd\", \"#b0c4de\", \"#ffffe0\", \"#f0fff0\", \"#f0f8ff\", \"#f5f5f5\", \"#faebd7\", \"#7fffd4\", \"#f0ffff\", \"#f5deb3\", \"#adff2f\", \"#ff6347\", \"#ffe4e1\", \"#da70d6\", \"#d3d3d3\", \"#90ee90\", \"#ff00ff\", \"#ffd700\", \"#a52a2a\", \"#20b2aa\", \"#778899\", \"#b0e0e6\", \"#800080\", \"#a9a9a9\", \"#000000\", \"#006400\", \"#f08080\", \"#808080\", \"#add8e6\", \"#f08080\", \"#008000\", \"#ffdab9\", \"#d3d3d3\", \"#ff0000\", \"#daa520\", \"#808080\", \"#c0c0c0\", \"#800000\", \"#ffff00\", \"#90ee90\", \"#ffd700\", \"#d2b48c\", \"#f5f5f5\", \"#ffa500\", \"#ffdab9\", \"#d3d3d3\", \"#8b4513\", \"#ffffff\", \"#c0c0c0\", \"#ff00ff\", \"#800000\", \"#808000\", \"#ffa500\", \"#ffff00\", \"#008000\", \"#00ff00\", \"#000080\", \"#008080\", \"#0000ff\", \"#00ffff\", \"#800080\", \"#ff0000\", \"#ff00ff\", \"#008080\", \"#00ff00\", \"#000080\", \"#008080\", \"#0000ff\", \"#00ffff\", \"#800080\", \"#ff0000\", \"#ff00ff\", \"#008080\", \"#00ff00\", \"#000080\", \"#008080\", \"#0000ff\", \"#00ffff\", \"#800080\", \"#ff0000\", \"#ff00ff\", \"#008080\", \"#00ff00\", \"#000080\", \"#008080\", \"#0000ff\", \"#00ffff\", \"#800080\", \"#ff0000\", \"#ff00ff\", \"#008080\", \"#00ff00\", \"#000080\", \"#008080\", \"#0000ff\", \"#00ffff\", \"#800080\", \"#ff0000\", \"#ff00ff\", \"#008080\", \"#00ff00\", \"#000080\", \"#008080\", \"#0000ff\", \"#00ffff\", \"#800080\"]}, \"type\": \"nominal\"}, \"tooltip\": [{\"field\": \"method\", \"type\": \"nominal\"}, {\"field\": \"count\", \"type\": \"quantitative\"}], \"x\": {\"axis\": {\"title\": \"Propor\\u00e7\\u00e3o\"}, \"field\": \"count\", \"stack\": \"normalize\", \"type\": \"quantitative\"}, \"y\": {\"axis\": {\"title\": \"Casa do Assassino\"}, \"field\": \"killer\", \"sort\": \"-x\", \"type\": \"nominal\"}}, \"title\": \"Causador da Morte (killer) e m\\u00e9todo (Ordenado por N\\u00famero de Mortes)\", \"width\": 600, \"$schema\": \"https://vega.github.io/schema/vega-lite/v4.17.0.json\", \"datasets\": {\"data-6ca41e83562e1a9af10b6146798f068c\": [{\"killer\": \"Daenerys Targaryen\", \"method\": \"Dragonfire (Dragon)\", \"count\": 983}, {\"killer\": \"Cersei Lannister\", \"method\": \"Wildfire\", \"count\": 197}, {\"killer\": \"Arya Stark\", \"method\": \"Poison\", \"count\": 55}, {\"killer\": \"Jon Snow\", \"method\": \"Sword\", \"count\": 43}, {\"killer\": \"Wight\", \"method\": \"Sword\", \"count\": 31}, {\"killer\": \"Bolton soldier\", \"method\": \"Arrow\", \"count\": 31}, {\"killer\": \"Dothraki man\", \"method\": \"Arakh\", \"count\": 29}, {\"killer\": \"Grey Worm\", \"method\": \"Spear\", \"count\": 29}, {\"killer\": \"Sons of the Harpy agent\", \"method\": \"Knife\", \"count\": 23}, {\"killer\": \"Stark Soldier\", \"method\": \"Sword\", \"count\": 21}, {\"killer\": \"Baratheon of King's Landing soldier\", \"method\": \"Flaming arrow\", \"count\": 20}, {\"killer\": \"Frey soldier\", \"method\": \"Knife\", \"count\": 18}, {\"killer\": \"Daenerys Targaryen\", \"method\": \"Fire\", \"count\": 16}, {\"killer\": \"Sandor \\\"the Hound\\\" Clegane\", \"method\": \"Sword\", \"count\": 16}, {\"killer\": \"Tormund\", \"method\": \"Sword\", \"count\": 15}, {\"killer\": \"Daario Naharis\", \"method\": \"Arakh\", \"count\": 15}, {\"killer\": \"Sons of the Harpy agent\", \"method\": \"Sword\", \"count\": 14}, {\"killer\": \"Barristan Selmy\", \"method\": \"Sword\", \"count\": 14}, {\"killer\": \"Bronn\", \"method\": \"Wildfire\", \"count\": 13}, {\"killer\": \"Pyat Pree\", \"method\": \"Knife\", \"count\": 11}, {\"killer\": \"Night's Watch brother\", \"method\": \"Flaming arrow\", \"count\": 11}, {\"killer\": \"Stark Soldier\", \"method\": \"Arrow\", \"count\": 11}, {\"killer\": \"Brienne of Tarth\", \"method\": \"Sword\", \"count\": 11}, {\"killer\": \"Unsullied Soldier\", \"method\": \"Spear\", \"count\": 10}, {\"killer\": \"Bolton soldier\", \"method\": \"Spear\", \"count\": 10}, {\"killer\": \"Lannister soldier\", \"method\": \"Sword\", \"count\": 10}, {\"killer\": \"Lannister soldier\", \"method\": \"Arrow\", \"count\": 9}, {\"killer\": \"Night's Watch brother\", \"method\": \"Scythe\", \"count\": 9}, {\"killer\": \"Baratheon of Dragonstone soldier\", \"method\": \"Sword\", \"count\": 9}, {\"killer\": \"Jorah Mormont\", \"method\": \"Sword\", \"count\": 9}, {\"killer\": \"Yara Greyjoy\", \"method\": \"Sword\", \"count\": 8}, {\"killer\": \"Wight\", \"method\": \"Teeth\", \"count\": 8}, {\"killer\": \"Bronn\", \"method\": \"Sword\", \"count\": 8}, {\"killer\": \"Viserion\", \"method\": \"Falling\", \"count\": 8}, {\"killer\": \"Styr\", \"method\": \"Axe\", \"count\": 8}, {\"killer\": \"Unsullied\", \"method\": \"Spear\", \"count\": 7}, {\"killer\": \"Giant Wight\", \"method\": \"Club\", \"count\": 7}, {\"killer\": \"Wight\", \"method\": \"Axe\", \"count\": 7}, {\"killer\": \"Theon Greyjoy\", \"method\": \"Sword\", \"count\": 7}, {\"killer\": \"Night's Watch brother\", \"method\": \"Burning oil\", \"count\": 7}, {\"killer\": \"Night's Watch brother\", \"method\": \"Barrel\", \"count\": 7}, {\"killer\": \"Bolton soldier\", \"method\": \"Sword\", \"count\": 6}, {\"killer\": \"Ramsay Bolton\", \"method\": \"Arrow\", \"count\": 6}, {\"killer\": \"None\", \"method\": \"Falling\", \"count\": 6}, {\"killer\": \"Theon Greyjoy\", \"method\": \"Arrow\", \"count\": 6}, {\"killer\": \"Ygritte\", \"method\": \"Arrow\", \"count\": 6}, {\"killer\": \"Gregor \\\"the Mountain\\\" Clegane\", \"method\": \"Sword\", \"count\": 5}, {\"killer\": \"Jaime Lannister\", \"method\": \"Sword\", \"count\": 5}, {\"killer\": \"Lannister soldier\", \"method\": \"Spear\", \"count\": 5}, {\"killer\": \"Yoren\", \"method\": \"Sword\", \"count\": 5}, {\"killer\": \"Frey soldier\", \"method\": \"Arrow\", \"count\": 5}, {\"killer\": \"Arya Stark\", \"method\": \"Knife\", \"count\": 5}, {\"killer\": \"Arya Stark\", \"method\": \"Sword\", \"count\": 5}, {\"killer\": \"Sandor \\\"the Hound\\\" Clegane\", \"method\": \"Knife\", \"count\": 5}, {\"killer\": \"Euron Greyjoy\", \"method\": \"Axe\", \"count\": 5}, {\"killer\": \"Smalljon Umber\", \"method\": \"Sword\", \"count\": 5}, {\"killer\": \"Baratheon of Dragonstone soldier\", \"method\": \"Axe\", \"count\": 5}, {\"killer\": \"Stark Soldier\", \"method\": \"Axe\", \"count\": 4}, {\"killer\": \"Gregor \\\"the Mountain\\\" Clegane\", \"method\": \"Hands\", \"count\": 4}, {\"killer\": \"Tyene Sand\", \"method\": \"Knife\", \"count\": 4}, {\"killer\": \"Loras Tyrell\", \"method\": \"Sword\", \"count\": 4}, {\"killer\": \"Stannis Baratheon\", \"method\": \"Sword\", \"count\": 4}, {\"killer\": \"Ned Stark\", \"method\": \"Sword\", \"count\": 4}, {\"killer\": \"Knights of the Vale\", \"method\": \"Sword\", \"count\": 4}, {\"killer\": \"Sandor \\\"the Hound\\\" Clegane\", \"method\": \"Axe\", \"count\": 4}, {\"killer\": \"Ramsay Bolton\", \"method\": \"Flaying\", \"count\": 4}, {\"killer\": \"Jon Snow\", \"method\": \"Noose\", \"count\": 4}, {\"killer\": \"Melisandre \\\"the Red Woman\\\" of Asshai\", \"method\": \"Fire\", \"count\": 4}, {\"killer\": \"Bronn\", \"method\": \"Knife\", \"count\": 4}, {\"killer\": \"Baratheon of King's Landing soldier\", \"method\": \"Sword\", \"count\": 4}, {\"killer\": \"Baratheon of Dragonstone soldier\", \"method\": \"Spear\", \"count\": 4}, {\"killer\": \"Baratheon of Dragonstone soldier\", \"method\": \"Arrow\", \"count\": 4}, {\"killer\": \"Ramsay Bolton\", \"method\": \"Knife\", \"count\": 3}, {\"killer\": \"Jorah Mormont\", \"method\": \"Knife\", \"count\": 3}, {\"killer\": \"Wildling\", \"method\": \"Arrow\", \"count\": 3}, {\"killer\": \"Arthur Dayne\", \"method\": \"Sword\", \"count\": 3}, {\"killer\": \"Wight\", \"method\": \"Knife\", \"count\": 3}, {\"killer\": \"White Walker\", \"method\": \"Sword\", \"count\": 3}, {\"killer\": \"The Masters Soldier\", \"method\": \"Catapult\", \"count\": 3}, {\"killer\": \"Daario Naharis\", \"method\": \"Knife\", \"count\": 3}, {\"killer\": \"Jory Cassel\", \"method\": \"Sword\", \"count\": 3}, {\"killer\": \"Robb Stark\", \"method\": \"Sword\", \"count\": 3}, {\"killer\": \"Stannis Baratheon\", \"method\": \"Fire\", \"count\": 3}, {\"killer\": \"Tormund\", \"method\": \"Axe\", \"count\": 3}, {\"killer\": \"City watch guard\", \"method\": \"Sword\", \"count\": 3}, {\"killer\": \"Baratheon of King's Landing soldier\", \"method\": \"Boulder\", \"count\": 3}, {\"killer\": \"Greyjoy Soldier\", \"method\": \"Giant arrow\", \"count\": 3}, {\"killer\": \"Summer\", \"method\": \"Teeth\", \"count\": 3}, {\"killer\": \"Ramsay Bolton\", \"method\": \"Dogs\", \"count\": 3}, {\"killer\": \"Ygritte\", \"method\": \"Spear\", \"count\": 3}, {\"killer\": \"Yara Greyjoy\", \"method\": \"Axe\", \"count\": 3}, {\"killer\": \"Ygritte\", \"method\": \"Flaming arrow\", \"count\": 3}, {\"killer\": \"Alliser Thorne\", \"method\": \"Sword\", \"count\": 3}, {\"killer\": \"Frey soldier\", \"method\": \"Sword\", \"count\": 3}, {\"killer\": \"Wun Wun\", \"method\": \"Hands\", \"count\": 3}, {\"killer\": \"Daario Naharis\", \"method\": \"Unknown\", \"count\": 2}, {\"killer\": \"Daenerys Targaryen\", \"method\": \"Teeth (Dragon)\", \"count\": 2}, {\"killer\": \"Daenerys Targaryen\", \"method\": \"Sealed into vault\", \"count\": 2}, {\"killer\": \"Daenerys Targaryen\", \"method\": \"Rubble\", \"count\": 2}, {\"killer\": \"Eddison Tollett\", \"method\": \"Sword\", \"count\": 2}, {\"killer\": \"Karl Tanner\", \"method\": \"Knife\", \"count\": 2}, {\"killer\": \"Umber Soldier\", \"method\": \"Sword\", \"count\": 2}, {\"killer\": \"Daenerys Targaryen\", \"method\": \"Claws (Dragon)\", \"count\": 2}, {\"killer\": \"Ramsay Bolton\", \"method\": \"Sword\", \"count\": 2}, {\"killer\": \"Ghost\", \"method\": \"Teeth\", \"count\": 2}, {\"killer\": \"Night's Watch mutineer\", \"method\": \"Sword\", \"count\": 2}, {\"killer\": \"Locke\", \"method\": \"Sword\", \"count\": 2}, {\"killer\": \"Obara Sand\", \"method\": \"Spear\", \"count\": 2}, {\"killer\": \"Lothar Frey\", \"method\": \"Knife\", \"count\": 2}, {\"killer\": \"Gendry\", \"method\": \"Hammer\", \"count\": 2}, {\"killer\": \"Baratheon of King's Landing soldier\", \"method\": \"Arrow\", \"count\": 2}, {\"killer\": \"Theon Greyjoy\", \"method\": \"Fire\", \"count\": 2}, {\"killer\": \"Baratheon of King's Landing soldier\", \"method\": \"Unknown\", \"count\": 2}, {\"killer\": \"Stark Soldier\", \"method\": \"Spear\", \"count\": 2}, {\"killer\": \"Night's Watch brother\", \"method\": \"Arrow\", \"count\": 2}, {\"killer\": \"Undead Polar Bear\", \"method\": \"Teeth\", \"count\": 2}, {\"killer\": \"Grey Wind\", \"method\": \"Teeth\", \"count\": 2}, {\"killer\": \"Osha\", \"method\": \"Knife\", \"count\": 2}, {\"killer\": \"Rodrik Cassel\", \"method\": \"Sword\", \"count\": 2}, {\"killer\": \"Dothraki man\", \"method\": \"Arrow\", \"count\": 2}, {\"killer\": \"Sandor \\\"the Hound\\\" Clegane\", \"method\": \"Noose\", \"count\": 2}, {\"killer\": \"Wight\", \"method\": \"Claws\", \"count\": 2}, {\"killer\": \"Sandor \\\"the Hound\\\" Clegane\", \"method\": \"Dragonfire (Dragon)\", \"count\": 2}, {\"killer\": \"Jaime Lannister\", \"method\": \"Hands\", \"count\": 2}, {\"killer\": \"Gladiator\", \"method\": \"Sword\", \"count\": 2}, {\"killer\": \"Arya Stark\", \"method\": \"Cooking\", \"count\": 2}, {\"killer\": \"Greyjoy Soldier\", \"method\": \"Axe\", \"count\": 2}, {\"killer\": \"White Walker\", \"method\": \"Ice sword\", \"count\": 2}, {\"killer\": \"Wildling\", \"method\": \"Sword\", \"count\": 2}, {\"killer\": \"Gladiator\", \"method\": \"Spear\", \"count\": 2}, {\"killer\": \"Grey Worm\", \"method\": \"Knife\", \"count\": 2}, {\"killer\": \"Unsullied Soldier\", \"method\": \"Knife\", \"count\": 2}, {\"killer\": \"Rast\", \"method\": \"Knife\", \"count\": 1}, {\"killer\": \"Barristan Selmy\", \"method\": \"Knife\", \"count\": 1}, {\"killer\": \"Reek\", \"method\": \"Sword\", \"count\": 1}, {\"killer\": \"Rival Dothraki\", \"method\": \"Unknown\", \"count\": 1}, {\"killer\": \"Baratheon of King's Landing soldier\", \"method\": \"Fire\", \"count\": 1}, {\"killer\": \"Roose Bolton\", \"method\": \"Knife\", \"count\": 1}, {\"killer\": \"Beric Dondarrion\", \"method\": \"Noose\", \"count\": 1}, {\"killer\": \"Reek\", \"method\": \"Falling\", \"count\": 1}, {\"killer\": \"Brienne of Tarth\", \"method\": \"Knife\", \"count\": 1}, {\"killer\": \"Sam Tarly\", \"method\": \"Arrow\", \"count\": 1}, {\"killer\": \"Sam Tarly\", \"method\": \"Dragonglass\", \"count\": 1}, {\"killer\": \"Bronn\", \"method\": \"Giant arrow\", \"count\": 1}, {\"killer\": \"Boar\", \"method\": \"Tusk\", \"count\": 1}, {\"killer\": \"Sons of the Harpy agent\", \"method\": \"Spear\", \"count\": 1}, {\"killer\": \"Bolton Hound\", \"method\": \"Teeth\", \"count\": 1}, {\"killer\": \"Brienne of Tarth\", \"method\": \"Hands\", \"count\": 1}, {\"killer\": \"Shaggydog\", \"method\": \"Teeth\", \"count\": 1}, {\"killer\": \"Sandor \\\"the Hound\\\" Clegane\", \"method\": \"Hands\", \"count\": 1}, {\"killer\": \"Bronn\", \"method\": \"Arrow\", \"count\": 1}, {\"killer\": \"Selyse Florent\", \"method\": \"Rope\", \"count\": 1}, {\"killer\": \"Rickard Karstark\", \"method\": \"Knife\", \"count\": 1}, {\"killer\": \"Sandor \\\"the Hound\\\" Clegane\", \"method\": \"Mace\", \"count\": 1}, {\"killer\": \"Stag\", \"method\": \"Antler\", \"count\": 1}, {\"killer\": \"Euron Greyjoy\", \"method\": \"Giant arrow\", \"count\": 1}, {\"killer\": \"The Tickler\", \"method\": \"Rat\", \"count\": 1}, {\"killer\": \"Thenn raider\", \"method\": \"Axe\", \"count\": 1}, {\"killer\": \"Baelish soldier\", \"method\": \"Arrow\", \"count\": 1}, {\"killer\": \"Walder Rivers\", \"method\": \"Knife\", \"count\": 1}, {\"killer\": \"White Walker\", \"method\": \"Spear\", \"count\": 1}, {\"killer\": \"Arya Stark\", \"method\": \"Hands\", \"count\": 1}, {\"killer\": \"Wight\", \"method\": \"Drowning\", \"count\": 1}, {\"killer\": \"Wight\", \"method\": \"Falling\", \"count\": 1}, {\"killer\": \"Wight\", \"method\": \"Hands\", \"count\": 1}, {\"killer\": \"Wildling\", \"method\": \"Axe\", \"count\": 1}, {\"killer\": \"Wildling\", \"method\": \"Flaming arrow\", \"count\": 1}, {\"killer\": \"Wildling\", \"method\": \"Hands\", \"count\": 1}, {\"killer\": \"Wildling\", \"method\": \"Knife\", \"count\": 1}, {\"killer\": \"Wildling\", \"method\": \"Nail\", \"count\": 1}, {\"killer\": \"Wildling giant\", \"method\": \"Giant arrow\", \"count\": 1}, {\"killer\": \"Wildling giant\", \"method\": \"Unknown\", \"count\": 1}, {\"killer\": \"Amory Lorch\", \"method\": \"Sword\", \"count\": 1}, {\"killer\": \"Ygritte\", \"method\": \"Knife\", \"count\": 1}, {\"killer\": \"Ygritte\", \"method\": \"Sword\", \"count\": 1}, {\"killer\": \"Viserion\", \"method\": \"Dragonfire (Dragon)\", \"count\": 1}, {\"killer\": \"Unsullied Soldier\", \"method\": \"Falling\", \"count\": 1}, {\"killer\": \"Baratheon of Dragonstone soldier\", \"method\": \"Bludgeon\", \"count\": 1}, {\"killer\": \"Tormund\", \"method\": \"Mallet\", \"count\": 1}, {\"killer\": \"Thenn raider\", \"method\": \"Knife\", \"count\": 1}, {\"killer\": \"Thenn raider\", \"method\": \"Sword\", \"count\": 1}, {\"killer\": \"Thenn raider\", \"method\": \"Unknown\", \"count\": 1}, {\"killer\": \"Theon Greyjoy\", \"method\": \"Axe\", \"count\": 1}, {\"killer\": \"Theon Greyjoy\", \"method\": \"Rock\", \"count\": 1}, {\"killer\": \"Tommen Baratheon\", \"method\": \"Falling\", \"count\": 1}, {\"killer\": \"Tormund\", \"method\": \"Knife\", \"count\": 1}, {\"killer\": \"Tribesman\", \"method\": \"Bolo\", \"count\": 1}, {\"killer\": \"Unknown\", \"method\": \"Unknown\", \"count\": 1}, {\"killer\": \"Tribesman\", \"method\": \"Mace\", \"count\": 1}, {\"killer\": \"Baratheon of Dragonstone soldier\", \"method\": \"Hands\", \"count\": 1}, {\"killer\": \"Tyrion Lannister\", \"method\": \"Axe\", \"count\": 1}, {\"killer\": \"Tyrion Lannister\", \"method\": \"Hands/Necklace\", \"count\": 1}, {\"killer\": \"Tyrion Lannister\", \"method\": \"Knife\", \"count\": 1}, {\"killer\": \"Tyrion Lannister\", \"method\": \"Shield\", \"count\": 1}, {\"killer\": \"Undead Polar Bear\", \"method\": \"Claws\", \"count\": 1}, {\"killer\": \"Tyrion Lannister\", \"method\": \"Arrow\", \"count\": 1}, {\"killer\": \"Peasant\", \"method\": \"Poison\", \"count\": 1}, {\"killer\": \"Ramsay Bolton\", \"method\": \"Fire\", \"count\": 1}, {\"killer\": \"Catelyn Stark\", \"method\": \"Knife\", \"count\": 1}, {\"killer\": \"Ilyn Payne\", \"method\": \"Sword\", \"count\": 1}, {\"killer\": \"Jaime Lannister\", \"method\": \"Knife\", \"count\": 1}, {\"killer\": \"Jaime Lannister\", \"method\": \"Poison\", \"count\": 1}, {\"killer\": \"Dickon Tarly\", \"method\": \"Sword\", \"count\": 1}, {\"killer\": \"Janos Slynt\", \"method\": \"Knife\", \"count\": 1}, {\"killer\": \"Jaqen H'ghar\", \"method\": \"Poison\", \"count\": 1}, {\"killer\": \"Jaqen H'ghar\", \"method\": \"Poison dart\", \"count\": 1}, {\"killer\": \"Jaqen H'ghar\", \"method\": \"Unknown\", \"count\": 1}, {\"killer\": \"Joffrey Baratheon\", \"method\": \"Arrow\", \"count\": 1}, {\"killer\": \"Jon Snow\", \"method\": \"Arrow\", \"count\": 1}, {\"killer\": \"Jon Snow\", \"method\": \"Fire\", \"count\": 1}, {\"killer\": \"Jon Snow\", \"method\": \"Hammer\", \"count\": 1}, {\"killer\": \"Jon Snow\", \"method\": \"Knife\", \"count\": 1}, {\"killer\": \"Jorah Mormont\", \"method\": \"Spear\", \"count\": 1}, {\"killer\": \"Karstark soldier\", \"method\": \"Sword\", \"count\": 1}, {\"killer\": \"Karstark soldier\", \"method\": \"Unknown\", \"count\": 1}, {\"killer\": \"Khal Drogo\", \"method\": \"Hands\", \"count\": 1}, {\"killer\": \"Khal Drogo\", \"method\": \"Molten gold\", \"count\": 1}, {\"killer\": \"Daenerys Targaryen\", \"method\": \"Pillow\", \"count\": 1}, {\"killer\": \"Lannister soldier\", \"method\": \"Rock\", \"count\": 1}, {\"killer\": \"Daario Naharis\", \"method\": \"Sword\", \"count\": 1}, {\"killer\": \"Hodor/Bran Stark\", \"method\": \"Hands\", \"count\": 1}, {\"killer\": \"Hill tribesman\", \"method\": \"Sword\", \"count\": 1}, {\"killer\": \"Hill tribesman\", \"method\": \"Hammer\", \"count\": 1}, {\"killer\": \"Grenn\", \"method\": \"Sword\", \"count\": 1}, {\"killer\": \"Euron Greyjoy\", \"method\": \"Spear\", \"count\": 1}, {\"killer\": \"Euron Greyjoy\", \"method\": \"Whip\", \"count\": 1}, {\"killer\": \"Ellaria Sand\", \"method\": \"Poison\", \"count\": 1}, {\"killer\": \"Frey soldier\", \"method\": \"Hanging\", \"count\": 1}, {\"killer\": \"Ellaria Sand\", \"method\": \"Knife\", \"count\": 1}, {\"killer\": \"Giant Wight\", \"method\": \"Hands\", \"count\": 1}, {\"killer\": \"Giant mammoth\", \"method\": \"Mammoth foot\", \"count\": 1}, {\"killer\": \"Dothraki man\", \"method\": \"Spear\", \"count\": 1}, {\"killer\": \"Gregor \\\"the Mountain\\\" Clegane\", \"method\": \"Spear\", \"count\": 1}, {\"killer\": \"Grenn\", \"method\": \"Unknown\", \"count\": 1}, {\"killer\": \"Greyjoy soldier\", \"method\": \"Sword\", \"count\": 1}, {\"killer\": \"Grey Worm\", \"method\": \"Hands\", \"count\": 1}, {\"killer\": \"Grey Worm\", \"method\": \"Shield\", \"count\": 1}, {\"killer\": \"Direwolf\", \"method\": \"Teeth\", \"count\": 1}, {\"killer\": \"Grey Worm\", \"method\": \"Sword\", \"count\": 1}, {\"killer\": \"Greyjoy Soldier\", \"method\": \"Knife\", \"count\": 1}, {\"killer\": \"Greyjoy Soldier\", \"method\": \"Mace\", \"count\": 1}, {\"killer\": \"Greyjoy Soldier\", \"method\": \"Sword\", \"count\": 1}, {\"killer\": \"Greyjoy soldier\", \"method\": \"Axe\", \"count\": 1}, {\"killer\": \"Greyjoy soldier\", \"method\": \"Knife\", \"count\": 1}, {\"killer\": \"Lem Lemoncloak\", \"method\": \"Noose\", \"count\": 1}, {\"killer\": \"Little Bird\", \"method\": \"Knife\", \"count\": 1}, {\"killer\": \"Lyanna Mormont\", \"method\": \"Knife\", \"count\": 1}, {\"killer\": \"Euron Greyjoy\", \"method\": \"Hands\", \"count\": 1}, {\"killer\": \"None\", \"method\": \"Broken foot\", \"count\": 1}, {\"killer\": \"None\", \"method\": \"Burning oil\", \"count\": 1}, {\"killer\": \"Cersei Lannister\", \"method\": \"Poison\", \"count\": 1}, {\"killer\": \"None\", \"method\": \"Illness\", \"count\": 1}, {\"killer\": \"None\", \"method\": \"Starvation\", \"count\": 1}, {\"killer\": \"Olenna Tyrell\", \"method\": \"Poison\", \"count\": 1}, {\"killer\": \"Olly\", \"method\": \"Arrow\", \"count\": 1}, {\"killer\": \"Olly\", \"method\": \"Knife\", \"count\": 1}, {\"killer\": \"Oswell Whent\", \"method\": \"Sword\", \"count\": 1}, {\"killer\": \"Peasant\", \"method\": \"Unknown\", \"count\": 1}, {\"killer\": \"City watch guard\", \"method\": \"Knife\", \"count\": 1}, {\"killer\": \"Peasants\", \"method\": \"Hands\", \"count\": 1}, {\"killer\": \"Petyr Baelish\", \"method\": \"Moon Door\", \"count\": 1}, {\"killer\": \"Podrick Payne\", \"method\": \"Spear\", \"count\": 1}, {\"killer\": \"Podrick Payne\", \"method\": \"Sword\", \"count\": 1}, {\"killer\": \"Polliver\", \"method\": \"Sword\", \"count\": 1}, {\"killer\": \"Cersei Lannister\", \"method\": \"Bell\", \"count\": 1}, {\"killer\": \"Pypar\", \"method\": \"Arrow\", \"count\": 1}, {\"killer\": \"Qhorin Halfhand\", \"method\": \"Sword\", \"count\": 1}, {\"killer\": \"Qyburn\", \"method\": \"Knife\", \"count\": 1}, {\"killer\": \"Night's Watch mutineer\", \"method\": \"Axe\", \"count\": 1}, {\"killer\": \"Night's Watch brother\", \"method\": \"Pot\", \"count\": 1}, {\"killer\": \"Lysa Arryn\", \"method\": \"Poison\", \"count\": 1}, {\"killer\": \"Mirri Maz Duur\", \"method\": \"Knife\", \"count\": 1}, {\"killer\": \"Meera Reed\", \"method\": \"Knife\", \"count\": 1}, {\"killer\": \"Meereen slave\", \"method\": \"Hands\", \"count\": 1}, {\"killer\": \"Meereen slave\", \"method\": \"Knife\", \"count\": 1}, {\"killer\": \"Meereen slaves\", \"method\": \"Unknown\", \"count\": 1}, {\"killer\": \"Aemon Targaryen\", \"method\": \"Old Age\", \"count\": 1}, {\"killer\": \"Melisandre \\\"the Red Woman\\\" of Asshai\", \"method\": \"Old Age\", \"count\": 1}, {\"killer\": \"Melisandre \\\"the Red Woman\\\" of Asshai\", \"method\": \"Poison\", \"count\": 1}, {\"killer\": \"Melisandre \\\"the Red Woman\\\" of Asshai\", \"method\": \"Shadow Demon\", \"count\": 1}, {\"killer\": \"Meryn Trant\", \"method\": \"Sword\", \"count\": 1}, {\"killer\": \"Mirri Maz Duur\", \"method\": \"Magic\", \"count\": 1}, {\"killer\": \"Night's Watch brother\", \"method\": \"Giant arrow\", \"count\": 1}, {\"killer\": \"Ned Stark\", \"method\": \"Knife\", \"count\": 1}, {\"killer\": \"Daario Naharis\", \"method\": \"Hands\", \"count\": 1}, {\"killer\": \"Night King\", \"method\": \"Ice Javelin\", \"count\": 1}, {\"killer\": \"Night King\", \"method\": \"Steak\", \"count\": 1}, {\"killer\": \"Night's Watch brother\", \"method\": \"Axe\", \"count\": 1}, {\"killer\": \"City watch guard\", \"method\": \"Water\", \"count\": 1}, {\"killer\": \"City watch guard\", \"method\": \"Unknown\", \"count\": 1}, {\"killer\": \"Night's Watch brother\", \"method\": \"Butcher's knife\", \"count\": 1}, {\"killer\": \"Night's Watch brother\", \"method\": \"Fire\", \"count\": 1}, {\"killer\": \"Accident\", \"method\": \"Blunt object\", \"count\": 1}]}}, {\"mode\": \"vega-lite\"});\n",
       "</script>"
      ],
      "text/plain": [
       "alt.Chart(...)"
      ]
     },
     "execution_count": 10,
     "metadata": {},
     "output_type": "execute_result"
    }
   ],
   "source": [
    "plotKillerMethod(deaths_df, 'killer')"
   ]
  },
  {
   "cell_type": "markdown",
   "id": "741941b0-ab01-48cf-8b0e-abeecaddfe4d",
   "metadata": {
    "id": "741941b0-ab01-48cf-8b0e-abeecaddfe4d",
    "tags": []
   },
   "source": [
    "Aqui temos um grande destaque Cersei Lannister que matou um grande número de pessoas com \"fogo selvagem\" em um armadilha que ocorreu na sexta temporada, matando um grande número de cidadãos de King's Landing e quase a totalidade dos militantes da fé."
   ]
  },
  {
   "cell_type": "code",
   "execution_count": 11,
   "id": "7ddda88c-e26d-4fef-a2e9-dfdb802f5491",
   "metadata": {
    "colab": {
     "base_uri": "https://localhost:8080/",
     "height": 424
    },
    "id": "7ddda88c-e26d-4fef-a2e9-dfdb802f5491",
    "outputId": "16fed25d-415b-465e-892c-73ab3a34dba3",
    "tags": []
   },
   "outputs": [
    {
     "data": {
      "text/html": [
       "<div>\n",
       "<style scoped>\n",
       "    .dataframe tbody tr th:only-of-type {\n",
       "        vertical-align: middle;\n",
       "    }\n",
       "\n",
       "    .dataframe tbody tr th {\n",
       "        vertical-align: top;\n",
       "    }\n",
       "\n",
       "    .dataframe thead th {\n",
       "        text-align: right;\n",
       "    }\n",
       "</style>\n",
       "<table border=\"1\" class=\"dataframe\">\n",
       "  <thead>\n",
       "    <tr style=\"text-align: right;\">\n",
       "      <th></th>\n",
       "      <th>name</th>\n",
       "      <th>allegiance</th>\n",
       "      <th>season</th>\n",
       "      <th>episode</th>\n",
       "      <th>location</th>\n",
       "      <th>killer</th>\n",
       "      <th>killers_house</th>\n",
       "      <th>method</th>\n",
       "      <th>death_no</th>\n",
       "    </tr>\n",
       "  </thead>\n",
       "  <tbody>\n",
       "    <tr>\n",
       "      <th>796</th>\n",
       "      <td>Lancel Lannister</td>\n",
       "      <td>Faith Militant</td>\n",
       "      <td>6</td>\n",
       "      <td>10</td>\n",
       "      <td>King's Landing</td>\n",
       "      <td>Cersei Lannister</td>\n",
       "      <td>House Lannister</td>\n",
       "      <td>Wildfire</td>\n",
       "      <td>797</td>\n",
       "    </tr>\n",
       "    <tr>\n",
       "      <th>797</th>\n",
       "      <td>High Sparrow</td>\n",
       "      <td>Faith Militant</td>\n",
       "      <td>6</td>\n",
       "      <td>10</td>\n",
       "      <td>King's Landing</td>\n",
       "      <td>Cersei Lannister</td>\n",
       "      <td>House Lannister</td>\n",
       "      <td>Wildfire</td>\n",
       "      <td>798</td>\n",
       "    </tr>\n",
       "    <tr>\n",
       "      <th>798</th>\n",
       "      <td>King's Landing Noble</td>\n",
       "      <td>None</td>\n",
       "      <td>6</td>\n",
       "      <td>10</td>\n",
       "      <td>King's Landing</td>\n",
       "      <td>Cersei Lannister</td>\n",
       "      <td>House Lannister</td>\n",
       "      <td>Wildfire</td>\n",
       "      <td>799</td>\n",
       "    </tr>\n",
       "    <tr>\n",
       "      <th>799</th>\n",
       "      <td>King's Landing Noble</td>\n",
       "      <td>None</td>\n",
       "      <td>6</td>\n",
       "      <td>10</td>\n",
       "      <td>King's Landing</td>\n",
       "      <td>Cersei Lannister</td>\n",
       "      <td>House Lannister</td>\n",
       "      <td>Wildfire</td>\n",
       "      <td>800</td>\n",
       "    </tr>\n",
       "    <tr>\n",
       "      <th>800</th>\n",
       "      <td>King's Landing Noble</td>\n",
       "      <td>None</td>\n",
       "      <td>6</td>\n",
       "      <td>10</td>\n",
       "      <td>King's Landing</td>\n",
       "      <td>Cersei Lannister</td>\n",
       "      <td>House Lannister</td>\n",
       "      <td>Wildfire</td>\n",
       "      <td>801</td>\n",
       "    </tr>\n",
       "    <tr>\n",
       "      <th>...</th>\n",
       "      <td>...</td>\n",
       "      <td>...</td>\n",
       "      <td>...</td>\n",
       "      <td>...</td>\n",
       "      <td>...</td>\n",
       "      <td>...</td>\n",
       "      <td>...</td>\n",
       "      <td>...</td>\n",
       "      <td>...</td>\n",
       "    </tr>\n",
       "    <tr>\n",
       "      <th>989</th>\n",
       "      <td>King's Landing Noble</td>\n",
       "      <td>None</td>\n",
       "      <td>6</td>\n",
       "      <td>10</td>\n",
       "      <td>King's Landing</td>\n",
       "      <td>Cersei Lannister</td>\n",
       "      <td>House Lannister</td>\n",
       "      <td>Wildfire</td>\n",
       "      <td>990</td>\n",
       "    </tr>\n",
       "    <tr>\n",
       "      <th>990</th>\n",
       "      <td>King's Landing Noble</td>\n",
       "      <td>None</td>\n",
       "      <td>6</td>\n",
       "      <td>10</td>\n",
       "      <td>King's Landing</td>\n",
       "      <td>Cersei Lannister</td>\n",
       "      <td>House Lannister</td>\n",
       "      <td>Wildfire</td>\n",
       "      <td>991</td>\n",
       "    </tr>\n",
       "    <tr>\n",
       "      <th>991</th>\n",
       "      <td>King's Landing Noble</td>\n",
       "      <td>None</td>\n",
       "      <td>6</td>\n",
       "      <td>10</td>\n",
       "      <td>King's Landing</td>\n",
       "      <td>Cersei Lannister</td>\n",
       "      <td>House Lannister</td>\n",
       "      <td>Wildfire</td>\n",
       "      <td>992</td>\n",
       "    </tr>\n",
       "    <tr>\n",
       "      <th>992</th>\n",
       "      <td>King's Landing Noble</td>\n",
       "      <td>None</td>\n",
       "      <td>6</td>\n",
       "      <td>10</td>\n",
       "      <td>King's Landing</td>\n",
       "      <td>Cersei Lannister</td>\n",
       "      <td>House Lannister</td>\n",
       "      <td>Wildfire</td>\n",
       "      <td>993</td>\n",
       "    </tr>\n",
       "    <tr>\n",
       "      <th>993</th>\n",
       "      <td>King's Landing Noble</td>\n",
       "      <td>None</td>\n",
       "      <td>6</td>\n",
       "      <td>10</td>\n",
       "      <td>King's Landing</td>\n",
       "      <td>Cersei Lannister</td>\n",
       "      <td>House Lannister</td>\n",
       "      <td>Wildfire</td>\n",
       "      <td>994</td>\n",
       "    </tr>\n",
       "  </tbody>\n",
       "</table>\n",
       "<p>197 rows × 9 columns</p>\n",
       "</div>"
      ],
      "text/plain": [
       "                     name      allegiance  season  episode        location  \\\n",
       "796      Lancel Lannister  Faith Militant       6       10  King's Landing   \n",
       "797          High Sparrow  Faith Militant       6       10  King's Landing   \n",
       "798  King's Landing Noble            None       6       10  King's Landing   \n",
       "799  King's Landing Noble            None       6       10  King's Landing   \n",
       "800  King's Landing Noble            None       6       10  King's Landing   \n",
       "..                    ...             ...     ...      ...             ...   \n",
       "989  King's Landing Noble            None       6       10  King's Landing   \n",
       "990  King's Landing Noble            None       6       10  King's Landing   \n",
       "991  King's Landing Noble            None       6       10  King's Landing   \n",
       "992  King's Landing Noble            None       6       10  King's Landing   \n",
       "993  King's Landing Noble            None       6       10  King's Landing   \n",
       "\n",
       "               killer    killers_house    method  death_no  \n",
       "796  Cersei Lannister  House Lannister  Wildfire       797  \n",
       "797  Cersei Lannister  House Lannister  Wildfire       798  \n",
       "798  Cersei Lannister  House Lannister  Wildfire       799  \n",
       "799  Cersei Lannister  House Lannister  Wildfire       800  \n",
       "800  Cersei Lannister  House Lannister  Wildfire       801  \n",
       "..                ...              ...       ...       ...  \n",
       "989  Cersei Lannister  House Lannister  Wildfire       990  \n",
       "990  Cersei Lannister  House Lannister  Wildfire       991  \n",
       "991  Cersei Lannister  House Lannister  Wildfire       992  \n",
       "992  Cersei Lannister  House Lannister  Wildfire       993  \n",
       "993  Cersei Lannister  House Lannister  Wildfire       994  \n",
       "\n",
       "[197 rows x 9 columns]"
      ]
     },
     "execution_count": 11,
     "metadata": {},
     "output_type": "execute_result"
    }
   ],
   "source": [
    "df_temp = deaths_df[(deaths_df['killer']=='Cersei Lannister') & (deaths_df['method']=='Wildfire')]\n",
    "df_temp"
   ]
  },
  {
   "cell_type": "code",
   "execution_count": 12,
   "id": "c7910fce-2b5f-42c9-a316-8d5fc65380ab",
   "metadata": {
    "colab": {
     "base_uri": "https://localhost:8080/",
     "height": 482
    },
    "id": "c7910fce-2b5f-42c9-a316-8d5fc65380ab",
    "outputId": "a86c5dc6-57fa-4854-a5a6-a01810a047c1",
    "tags": []
   },
   "outputs": [
    {
     "data": {
      "text/html": [
       "\n",
       "<div id=\"altair-viz-ca6db93eae9c438da9b61594f6ec50c1\"></div>\n",
       "<script type=\"text/javascript\">\n",
       "  var VEGA_DEBUG = (typeof VEGA_DEBUG == \"undefined\") ? {} : VEGA_DEBUG;\n",
       "  (function(spec, embedOpt){\n",
       "    let outputDiv = document.currentScript.previousElementSibling;\n",
       "    if (outputDiv.id !== \"altair-viz-ca6db93eae9c438da9b61594f6ec50c1\") {\n",
       "      outputDiv = document.getElementById(\"altair-viz-ca6db93eae9c438da9b61594f6ec50c1\");\n",
       "    }\n",
       "    const paths = {\n",
       "      \"vega\": \"https://cdn.jsdelivr.net/npm//vega@5?noext\",\n",
       "      \"vega-lib\": \"https://cdn.jsdelivr.net/npm//vega-lib?noext\",\n",
       "      \"vega-lite\": \"https://cdn.jsdelivr.net/npm//vega-lite@4.17.0?noext\",\n",
       "      \"vega-embed\": \"https://cdn.jsdelivr.net/npm//vega-embed@6?noext\",\n",
       "    };\n",
       "\n",
       "    function maybeLoadScript(lib, version) {\n",
       "      var key = `${lib.replace(\"-\", \"\")}_version`;\n",
       "      return (VEGA_DEBUG[key] == version) ?\n",
       "        Promise.resolve(paths[lib]) :\n",
       "        new Promise(function(resolve, reject) {\n",
       "          var s = document.createElement('script');\n",
       "          document.getElementsByTagName(\"head\")[0].appendChild(s);\n",
       "          s.async = true;\n",
       "          s.onload = () => {\n",
       "            VEGA_DEBUG[key] = version;\n",
       "            return resolve(paths[lib]);\n",
       "          };\n",
       "          s.onerror = () => reject(`Error loading script: ${paths[lib]}`);\n",
       "          s.src = paths[lib];\n",
       "        });\n",
       "    }\n",
       "\n",
       "    function showError(err) {\n",
       "      outputDiv.innerHTML = `<div class=\"error\" style=\"color:red;\">${err}</div>`;\n",
       "      throw err;\n",
       "    }\n",
       "\n",
       "    function displayChart(vegaEmbed) {\n",
       "      vegaEmbed(outputDiv, spec, embedOpt)\n",
       "        .catch(err => showError(`Javascript Error: ${err.message}<br>This usually means there's a typo in your chart specification. See the javascript console for the full traceback.`));\n",
       "    }\n",
       "\n",
       "    if(typeof define === \"function\" && define.amd) {\n",
       "      requirejs.config({paths});\n",
       "      require([\"vega-embed\"], displayChart, err => showError(`Error loading script: ${err.message}`));\n",
       "    } else {\n",
       "      maybeLoadScript(\"vega\", \"5\")\n",
       "        .then(() => maybeLoadScript(\"vega-lite\", \"4.17.0\"))\n",
       "        .then(() => maybeLoadScript(\"vega-embed\", \"6\"))\n",
       "        .catch(showError)\n",
       "        .then(() => displayChart(vegaEmbed));\n",
       "    }\n",
       "  })({\"config\": {\"view\": {\"continuousWidth\": 400, \"continuousHeight\": 300}}, \"data\": {\"name\": \"data-5a335f4808ca448a4ba9ec06517162e9\"}, \"mark\": \"bar\", \"encoding\": {\"color\": {\"field\": \"allegiance\", \"legend\": {\"title\": \"Alian\\u00e7a\"}, \"type\": \"nominal\"}, \"row\": {\"field\": \"name\", \"type\": \"nominal\"}, \"tooltip\": [{\"field\": \"season\", \"type\": \"nominal\"}, {\"field\": \"allegiance\", \"type\": \"nominal\"}, {\"field\": \"count\", \"type\": \"quantitative\"}], \"x\": {\"aggregate\": \"sum\", \"axis\": {\"title\": \"Quantidade de Alian\\u00e7as\"}, \"field\": \"count\", \"type\": \"quantitative\"}, \"y\": {\"axis\": {\"title\": \"Temporada\"}, \"field\": \"season\", \"type\": \"nominal\"}}, \"height\": 400, \"selection\": {\"selector002\": {\"type\": \"interval\", \"bind\": \"scales\", \"encodings\": [\"x\", \"y\"]}}, \"title\": \"Quantidade de Alian\\u00e7as por Temporada\", \"width\": 1000, \"$schema\": \"https://vega.github.io/schema/vega-lite/v4.17.0.json\", \"datasets\": {\"data-5a335f4808ca448a4ba9ec06517162e9\": [{\"season\": 6, \"allegiance\": \"Faith Militant\", \"count\": 51}, {\"season\": 6, \"allegiance\": \"House Lannister\", \"count\": 1}, {\"season\": 6, \"allegiance\": \"House Tyrell\", \"count\": 3}, {\"season\": 6, \"allegiance\": \"None\", \"count\": 138}, {\"season\": 6, \"allegiance\": \"Smallfolk\", \"count\": 4}]}}, {\"mode\": \"vega-lite\"});\n",
       "</script>"
      ],
      "text/plain": [
       "alt.Chart(...)"
      ]
     },
     "execution_count": 12,
     "metadata": {},
     "output_type": "execute_result"
    }
   ],
   "source": [
    "deathsByAllegiance(df_temp)"
   ]
  },
  {
   "cell_type": "markdown",
   "id": "ae7938d4-6385-446f-b439-35da7ec529ff",
   "metadata": {
    "id": "ae7938d4-6385-446f-b439-35da7ec529ff"
   },
   "source": [
    "# Quem matou quem, usando qual método?"
   ]
  },
  {
   "cell_type": "code",
   "execution_count": 13,
   "id": "c096f1a7-078e-4b3f-b0e5-7c52f04af393",
   "metadata": {
    "colab": {
     "base_uri": "https://localhost:8080/",
     "height": 1000
    },
    "id": "c096f1a7-078e-4b3f-b0e5-7c52f04af393",
    "outputId": "d4181825-d6fc-474f-fe5b-7355be74db60",
    "tags": []
   },
   "outputs": [
    {
     "data": {
      "text/html": [
       "\n",
       "<div id=\"altair-viz-536ba6deaf924a19aa2e64df037daa96\"></div>\n",
       "<script type=\"text/javascript\">\n",
       "  var VEGA_DEBUG = (typeof VEGA_DEBUG == \"undefined\") ? {} : VEGA_DEBUG;\n",
       "  (function(spec, embedOpt){\n",
       "    let outputDiv = document.currentScript.previousElementSibling;\n",
       "    if (outputDiv.id !== \"altair-viz-536ba6deaf924a19aa2e64df037daa96\") {\n",
       "      outputDiv = document.getElementById(\"altair-viz-536ba6deaf924a19aa2e64df037daa96\");\n",
       "    }\n",
       "    const paths = {\n",
       "      \"vega\": \"https://cdn.jsdelivr.net/npm//vega@5?noext\",\n",
       "      \"vega-lib\": \"https://cdn.jsdelivr.net/npm//vega-lib?noext\",\n",
       "      \"vega-lite\": \"https://cdn.jsdelivr.net/npm//vega-lite@4.17.0?noext\",\n",
       "      \"vega-embed\": \"https://cdn.jsdelivr.net/npm//vega-embed@6?noext\",\n",
       "    };\n",
       "\n",
       "    function maybeLoadScript(lib, version) {\n",
       "      var key = `${lib.replace(\"-\", \"\")}_version`;\n",
       "      return (VEGA_DEBUG[key] == version) ?\n",
       "        Promise.resolve(paths[lib]) :\n",
       "        new Promise(function(resolve, reject) {\n",
       "          var s = document.createElement('script');\n",
       "          document.getElementsByTagName(\"head\")[0].appendChild(s);\n",
       "          s.async = true;\n",
       "          s.onload = () => {\n",
       "            VEGA_DEBUG[key] = version;\n",
       "            return resolve(paths[lib]);\n",
       "          };\n",
       "          s.onerror = () => reject(`Error loading script: ${paths[lib]}`);\n",
       "          s.src = paths[lib];\n",
       "        });\n",
       "    }\n",
       "\n",
       "    function showError(err) {\n",
       "      outputDiv.innerHTML = `<div class=\"error\" style=\"color:red;\">${err}</div>`;\n",
       "      throw err;\n",
       "    }\n",
       "\n",
       "    function displayChart(vegaEmbed) {\n",
       "      vegaEmbed(outputDiv, spec, embedOpt)\n",
       "        .catch(err => showError(`Javascript Error: ${err.message}<br>This usually means there's a typo in your chart specification. See the javascript console for the full traceback.`));\n",
       "    }\n",
       "\n",
       "    if(typeof define === \"function\" && define.amd) {\n",
       "      requirejs.config({paths});\n",
       "      require([\"vega-embed\"], displayChart, err => showError(`Error loading script: ${err.message}`));\n",
       "    } else {\n",
       "      maybeLoadScript(\"vega\", \"5\")\n",
       "        .then(() => maybeLoadScript(\"vega-lite\", \"4.17.0\"))\n",
       "        .then(() => maybeLoadScript(\"vega-embed\", \"6\"))\n",
       "        .catch(showError)\n",
       "        .then(() => displayChart(vegaEmbed));\n",
       "    }\n",
       "  })({\"config\": {\"view\": {\"continuousWidth\": 400, \"continuousHeight\": 300}, \"axis\": {\"grid\": true}}, \"data\": {\"name\": \"data-9373a43e3f1722e5d372332c320d4510\"}, \"mark\": \"circle\", \"encoding\": {\"color\": {\"field\": \"location\", \"type\": \"nominal\"}, \"size\": {\"field\": \"count\", \"legend\": {\"title\": \"Contagem\"}, \"scale\": {\"domain\": [1.0, 374.0], \"range\": [50, 200]}, \"type\": \"quantitative\"}, \"tooltip\": [{\"field\": \"name\", \"type\": \"nominal\"}, {\"field\": \"killer\", \"type\": \"nominal\"}, {\"field\": \"method\", \"type\": \"nominal\"}, {\"field\": \"location\", \"type\": \"nominal\"}, {\"field\": \"count\", \"type\": \"quantitative\"}], \"x\": {\"axis\": {\"title\": \"Assassino\"}, \"field\": \"killer\", \"type\": \"nominal\"}, \"y\": {\"axis\": {\"title\": \"V\\u00edtima\"}, \"field\": \"name\", \"type\": \"nominal\"}}, \"height\": 2000, \"selection\": {\"selector003\": {\"type\": \"interval\", \"bind\": \"scales\", \"encodings\": [\"x\", \"y\"]}}, \"title\": \"Rela\\u00e7\\u00e3o entre V\\u00edtima, Assassino, M\\u00e9todo e Localiza\\u00e7\\u00e3o\", \"width\": 1200, \"$schema\": \"https://vega.github.io/schema/vega-lite/v4.17.0.json\", \"datasets\": {\"data-9373a43e3f1722e5d372332c320d4510\": [{\"name\": \"Aemon Targaryen\", \"killer\": \"Aemon Targaryen\", \"method\": \"Old Age\", \"location\": \"Castle Black\", \"count\": 1}, {\"name\": \"Alliser Thorne\", \"killer\": \"Jon Snow\", \"method\": \"Noose\", \"location\": \"Castle Black\", \"count\": 1}, {\"name\": \"Alton Lannister\", \"killer\": \"Jaime Lannister\", \"method\": \"Hands\", \"location\": \"Robb Stark's camp\", \"count\": 1}, {\"name\": \"Amory Lorch\", \"killer\": \"Jaqen H'ghar\", \"method\": \"Poison dart\", \"location\": \"Harrenhal\", \"count\": 1}, {\"name\": \"Areo Hotah\", \"killer\": \"Tyene Sand\", \"method\": \"Knife\", \"location\": \"Dorne\", \"count\": 1}, {\"name\": \"Arthur Dayne\", \"killer\": \"Ned Stark\", \"method\": \"Sword\", \"location\": \"Dorne\", \"count\": 1}, {\"name\": \"Astapor slaver\", \"killer\": \"Unsullied\", \"method\": \"Spear\", \"location\": \"Astapor\", \"count\": 3}, {\"name\": \"Astapor soldier\", \"killer\": \"Unsullied\", \"method\": \"Spear\", \"location\": \"Astapor\", \"count\": 3}, {\"name\": \"Axell Florent\", \"killer\": \"Melisandre \\\"the Red Woman\\\" of Asshai\", \"method\": \"Fire\", \"location\": \"Dragonstone\", \"count\": 1}, {\"name\": \"Baelish soldier\", \"killer\": \"Brienne of Tarth\", \"method\": \"Sword\", \"location\": \"Eastern Road\", \"count\": 3}, {\"name\": \"Balon Greyjoy\", \"killer\": \"Euron Greyjoy\", \"method\": \"Hands\", \"location\": \"Iron Islands\", \"count\": 1}, {\"name\": \"Bannen\", \"killer\": \"None\", \"method\": \"Broken foot\", \"location\": \"Beyond the Wall\", \"count\": 1}, {\"name\": \"Baratheon of Dragonstone soldier\", \"killer\": \"Accident\", \"method\": \"Blunt object\", \"location\": \"King's Landing\", \"count\": 1}, {\"name\": \"Baratheon of Dragonstone soldier\", \"killer\": \"Baratheon of King's Landing soldier\", \"method\": \"Arrow\", \"location\": \"King's Landing\", \"count\": 2}, {\"name\": \"Baratheon of Dragonstone soldier\", \"killer\": \"Baratheon of King's Landing soldier\", \"method\": \"Boulder\", \"location\": \"King's Landing\", \"count\": 3}, {\"name\": \"Baratheon of Dragonstone soldier\", \"killer\": \"Baratheon of King's Landing soldier\", \"method\": \"Fire\", \"location\": \"King's Landing\", \"count\": 1}, {\"name\": \"Baratheon of Dragonstone soldier\", \"killer\": \"Baratheon of King's Landing soldier\", \"method\": \"Flaming arrow\", \"location\": \"King's Landing\", \"count\": 20}, {\"name\": \"Baratheon of Dragonstone soldier\", \"killer\": \"Baratheon of King's Landing soldier\", \"method\": \"Sword\", \"location\": \"King's Landing\", \"count\": 4}, {\"name\": \"Baratheon of Dragonstone soldier\", \"killer\": \"Baratheon of King's Landing soldier\", \"method\": \"Unknown\", \"location\": \"King's Landing\", \"count\": 2}, {\"name\": \"Baratheon of Dragonstone soldier\", \"killer\": \"Bronn\", \"method\": \"Arrow\", \"location\": \"King's Landing\", \"count\": 1}, {\"name\": \"Baratheon of Dragonstone soldier\", \"killer\": \"Bronn\", \"method\": \"Knife\", \"location\": \"King's Landing\", \"count\": 1}, {\"name\": \"Baratheon of Dragonstone soldier\", \"killer\": \"Bronn\", \"method\": \"Wildfire\", \"location\": \"King's Landing\", \"count\": 12}, {\"name\": \"Baratheon of Dragonstone soldier\", \"killer\": \"Lannister soldier\", \"method\": \"Sword\", \"location\": \"King's Landing\", \"count\": 1}, {\"name\": \"Baratheon of Dragonstone soldier\", \"killer\": \"Loras Tyrell\", \"method\": \"Sword\", \"location\": \"King's Landing\", \"count\": 4}, {\"name\": \"Baratheon of Dragonstone soldier\", \"killer\": \"Ramsay Bolton\", \"method\": \"Sword\", \"location\": \"Winterfell\", \"count\": 2}, {\"name\": \"Baratheon of Dragonstone soldier\", \"killer\": \"Sandor \\\"the Hound\\\" Clegane\", \"method\": \"Sword\", \"location\": \"King's Landing\", \"count\": 2}, {\"name\": \"Baratheon of Dragonstone soldier\", \"killer\": \"Tyrion Lannister\", \"method\": \"Axe\", \"location\": \"King's Landing\", \"count\": 1}, {\"name\": \"Baratheon of Dragonstone soldier\", \"killer\": \"Wildling\", \"method\": \"Arrow\", \"location\": \"Beyond the Wall\", \"count\": 1}, {\"name\": \"Baratheon of King's Landing soldier\", \"killer\": \"Arya Stark\", \"method\": \"Sword\", \"location\": \"Riverlands\", \"count\": 1}, {\"name\": \"Baratheon of King's Landing soldier\", \"killer\": \"Baratheon of Dragonstone soldier\", \"method\": \"Arrow\", \"location\": \"King's Landing\", \"count\": 4}, {\"name\": \"Baratheon of King's Landing soldier\", \"killer\": \"Baratheon of Dragonstone soldier\", \"method\": \"Axe\", \"location\": \"King's Landing\", \"count\": 4}, {\"name\": \"Baratheon of King's Landing soldier\", \"killer\": \"Baratheon of Dragonstone soldier\", \"method\": \"Bludgeon\", \"location\": \"King's Landing\", \"count\": 1}, {\"name\": \"Baratheon of King's Landing soldier\", \"killer\": \"Baratheon of Dragonstone soldier\", \"method\": \"Hands\", \"location\": \"King's Landing\", \"count\": 1}, {\"name\": \"Baratheon of King's Landing soldier\", \"killer\": \"Baratheon of Dragonstone soldier\", \"method\": \"Sword\", \"location\": \"King's Landing\", \"count\": 1}, {\"name\": \"Baratheon of King's Landing soldier\", \"killer\": \"Sandor \\\"the Hound\\\" Clegane\", \"method\": \"Sword\", \"location\": \"Riverlands\", \"count\": 2}, {\"name\": \"Baratheon of King's Landing soldier\", \"killer\": \"Stannis Baratheon\", \"method\": \"Sword\", \"location\": \"King's Landing\", \"count\": 4}, {\"name\": \"Baratheon of Storm's End guard\", \"killer\": \"Brienne of Tarth\", \"method\": \"Sword\", \"location\": \"Storm's End\", \"count\": 2}, {\"name\": \"Barra (Baratheon illegitimate son)\", \"killer\": \"Janos Slynt\", \"method\": \"Knife\", \"location\": \"King's Landing\", \"count\": 1}, {\"name\": \"Barristan Selmy\", \"killer\": \"Sons of the Harpy agent\", \"method\": \"Sword\", \"location\": \"Meereen\", \"count\": 1}, {\"name\": \"Belicho Paenymion\", \"killer\": \"Grey Worm\", \"method\": \"Knife\", \"location\": \"Meereen\", \"count\": 1}, {\"name\": \"Benjen Stark\", \"killer\": \"Wight\", \"method\": \"Claws\", \"location\": \"Beyond the Wall\", \"count\": 1}, {\"name\": \"Beric Dondarrion\", \"killer\": \"Sandor \\\"the Hound\\\" Clegane\", \"method\": \"Sword\", \"location\": \"Hollow Hill\", \"count\": 1}, {\"name\": \"Beric Dondarrion\", \"killer\": \"Wight\", \"method\": \"Knife\", \"location\": \"Winterfell\", \"count\": 1}, {\"name\": \"Billy\", \"killer\": \"Theon Greyjoy\", \"method\": \"Fire\", \"location\": \"Winterfell\", \"count\": 1}, {\"name\": \"Biter\", \"killer\": \"Sandor \\\"the Hound\\\" Clegane\", \"method\": \"Hands\", \"location\": \"Riverlands\", \"count\": 1}, {\"name\": \"Bolton heir\", \"killer\": \"Ramsay Bolton\", \"method\": \"Dogs\", \"location\": \"Winterfell\", \"count\": 1}, {\"name\": \"Bolton soldier\", \"killer\": \"Bolton soldier\", \"method\": \"Arrow\", \"location\": \"Winterfell\", \"count\": 2}, {\"name\": \"Bolton soldier\", \"killer\": \"Brienne of Tarth\", \"method\": \"Knife\", \"location\": \"Winterfell\", \"count\": 1}, {\"name\": \"Bolton soldier\", \"killer\": \"Brienne of Tarth\", \"method\": \"Sword\", \"location\": \"Winterfell\", \"count\": 2}, {\"name\": \"Bolton soldier\", \"killer\": \"Greyjoy soldier\", \"method\": \"Knife\", \"location\": \"Dreadfort\", \"count\": 1}, {\"name\": \"Bolton soldier\", \"killer\": \"Greyjoy soldier\", \"method\": \"Sword\", \"location\": \"Dreadfort\", \"count\": 1}, {\"name\": \"Bolton soldier\", \"killer\": \"Jon Snow\", \"method\": \"Sword\", \"location\": \"Winterfell\", \"count\": 20}, {\"name\": \"Bolton soldier\", \"killer\": \"Knights of the Vale\", \"method\": \"Sword\", \"location\": \"Winterfell\", \"count\": 4}, {\"name\": \"Bolton soldier\", \"killer\": \"Podrick Payne\", \"method\": \"Sword\", \"location\": \"Winterfell\", \"count\": 1}, {\"name\": \"Bolton soldier\", \"killer\": \"Ramsay Bolton\", \"method\": \"Arrow\", \"location\": \"Dreadfort\", \"count\": 4}, {\"name\": \"Bolton soldier\", \"killer\": \"Reek\", \"method\": \"Sword\", \"location\": \"Winterfell\", \"count\": 1}, {\"name\": \"Bolton soldier\", \"killer\": \"Stark Soldier\", \"method\": \"Arrow\", \"location\": \"Winterfell\", \"count\": 11}, {\"name\": \"Bolton soldier\", \"killer\": \"Stark Soldier\", \"method\": \"Spear\", \"location\": \"Winterfell\", \"count\": 2}, {\"name\": \"Bolton soldier\", \"killer\": \"Stark Soldier\", \"method\": \"Sword\", \"location\": \"Winterfell\", \"count\": 2}, {\"name\": \"Bolton soldier\", \"killer\": \"Tormund\", \"method\": \"Sword\", \"location\": \"Winterfell\", \"count\": 3}, {\"name\": \"Bolton soldier\", \"killer\": \"Wildling\", \"method\": \"Hands\", \"location\": \"Winterfell\", \"count\": 1}, {\"name\": \"Bolton soldier\", \"killer\": \"Wildling\", \"method\": \"Sword\", \"location\": \"Winterfell\", \"count\": 1}, {\"name\": \"Bolton soldier\", \"killer\": \"Wun Wun\", \"method\": \"Hands\", \"location\": \"Winterfell\", \"count\": 2}, {\"name\": \"Bolton soldier\", \"killer\": \"Yara Greyjoy\", \"method\": \"Axe\", \"location\": \"Dreadfort\", \"count\": 3}, {\"name\": \"Bowen Marsh\", \"killer\": \"Jon Snow\", \"method\": \"Noose\", \"location\": \"Castle Black\", \"count\": 1}, {\"name\": \"Brother Ray\", \"killer\": \"Lem Lemoncloak\", \"method\": \"Noose\", \"location\": \"Riverlands\", \"count\": 1}, {\"name\": \"Brotherhood Without Banners Member\", \"killer\": \"Sandor \\\"the Hound\\\" Clegane\", \"method\": \"Axe\", \"location\": \"Riverlands\", \"count\": 4}, {\"name\": \"Brotherhood Without Banners Member\", \"killer\": \"Sandor \\\"the Hound\\\" Clegane\", \"method\": \"Noose\", \"location\": \"Riverlands\", \"count\": 2}, {\"name\": \"Catelyn Stark\", \"killer\": \"Walder Rivers\", \"method\": \"Knife\", \"location\": \"The Twins\", \"count\": 1}, {\"name\": \"Catspaw assassin\", \"killer\": \"Summer\", \"method\": \"Teeth\", \"location\": \"Winterfell\", \"count\": 1}, {\"name\": \"Cersei Lannister\", \"killer\": \"Daenerys Targaryen\", \"method\": \"Rubble\", \"location\": \"King's Landing\", \"count\": 1}, {\"name\": \"Champion of Meereen\", \"killer\": \"Daario Naharis\", \"method\": \"Arakh\", \"location\": \"Meereen\", \"count\": 1}, {\"name\": \"Champion of Meereen's Horse\", \"killer\": \"Daario Naharis\", \"method\": \"Knife\", \"location\": \"Meereen\", \"count\": 1}, {\"name\": \"Child of the Forest\", \"killer\": \"White Walker\", \"method\": \"Sword\", \"location\": \"Beyond the Wall\", \"count\": 1}, {\"name\": \"Child of the Forest\", \"killer\": \"Wight\", \"method\": \"Axe\", \"location\": \"Beyond the Wall\", \"count\": 1}, {\"name\": \"Child of the Forest\", \"killer\": \"Wight\", \"method\": \"Sword\", \"location\": \"Beyond the Wall\", \"count\": 1}, {\"name\": \"Child of the Forest\", \"killer\": \"Wight\", \"method\": \"Teeth\", \"location\": \"Beyond the Wall\", \"count\": 1}, {\"name\": \"Clegane's horse\", \"killer\": \"Gregor \\\"the Mountain\\\" Clegane\", \"method\": \"Sword\", \"location\": \"King's Landing\", \"count\": 1}, {\"name\": \"Craster\", \"killer\": \"Karl Tanner\", \"method\": \"Knife\", \"location\": \"Beyond the Wall\", \"count\": 1}, {\"name\": \"Daenerys Targaryen\", \"killer\": \"Jon Snow\", \"method\": \"Knife\", \"location\": \"King's Landing\", \"count\": 1}, {\"name\": \"Deer\", \"killer\": \"Summer\", \"method\": \"Teeth\", \"location\": \"Beyond the Wall\", \"count\": 1}, {\"name\": \"Dickon Tarly\", \"killer\": \"Daenerys Targaryen\", \"method\": \"Dragonfire (Dragon)\", \"location\": \"Roseroad\", \"count\": 1}, {\"name\": \"Direwolf\", \"killer\": \"Stag\", \"method\": \"Antler\", \"location\": \"Winterfell\", \"count\": 1}, {\"name\": \"Dontos Hollard\", \"killer\": \"Baelish soldier\", \"method\": \"Arrow\", \"location\": \"King's Landing\", \"count\": 1}, {\"name\": \"Doran Martell\", \"killer\": \"Ellaria Sand\", \"method\": \"Knife\", \"location\": \"Dorne\", \"count\": 1}, {\"name\": \"Doreah\", \"killer\": \"Daenerys Targaryen\", \"method\": \"Sealed into vault\", \"location\": \"Qarth\", \"count\": 1}, {\"name\": \"Dorne Horse\", \"killer\": \"Bronn\", \"method\": \"Sword\", \"location\": \"Dorne\", \"count\": 1}, {\"name\": \"Dorne Smuggler\", \"killer\": \"Obara Sand\", \"method\": \"Spear\", \"location\": \"Dorne\", \"count\": 1}, {\"name\": \"Dorne Soldier\", \"killer\": \"Bronn\", \"method\": \"Knife\", \"location\": \"Dorne\", \"count\": 1}, {\"name\": \"Dorne Soldier\", \"killer\": \"Bronn\", \"method\": \"Sword\", \"location\": \"Dorne\", \"count\": 1}, {\"name\": \"Dorne Soldier\", \"killer\": \"Jaime Lannister\", \"method\": \"Sword\", \"location\": \"Dorne\", \"count\": 1}, {\"name\": \"Dothraki Khal\", \"killer\": \"Daenerys Targaryen\", \"method\": \"Fire\", \"location\": \"Vaes Dothrak\", \"count\": 14}, {\"name\": \"Dothraki man\", \"killer\": \"Bronn\", \"method\": \"Giant arrow\", \"location\": \"Roseroad\", \"count\": 1}, {\"name\": \"Dothraki man\", \"killer\": \"Bronn\", \"method\": \"Sword\", \"location\": \"Roseroad\", \"count\": 2}, {\"name\": \"Dothraki man\", \"killer\": \"Daario Naharis\", \"method\": \"Hands\", \"location\": \"Vaes Dothrak\", \"count\": 1}, {\"name\": \"Dothraki man\", \"killer\": \"Daario Naharis\", \"method\": \"Knife\", \"location\": \"Vaes Dothrak\", \"count\": 1}, {\"name\": \"Dothraki man\", \"killer\": \"Dickon Tarly\", \"method\": \"Sword\", \"location\": \"Roseroad\", \"count\": 1}, {\"name\": \"Dothraki man\", \"killer\": \"Dothraki man\", \"method\": \"Arakh\", \"location\": \"Pentos\", \"count\": 1}, {\"name\": \"Dothraki man\", \"killer\": \"Jaime Lannister\", \"method\": \"Sword\", \"location\": \"Roseroad\", \"count\": 3}, {\"name\": \"Dothraki man\", \"killer\": \"Lannister soldier\", \"method\": \"Arrow\", \"location\": \"Roseroad\", \"count\": 2}, {\"name\": \"Dothraki man\", \"killer\": \"Lannister soldier\", \"method\": \"Spear\", \"location\": \"Roseroad\", \"count\": 2}, {\"name\": \"Dothraki man\", \"killer\": \"Lannister soldier\", \"method\": \"Sword\", \"location\": \"Roseroad\", \"count\": 1}, {\"name\": \"Dragonstone citizen\", \"killer\": \"Melisandre \\\"the Red Woman\\\" of Asshai\", \"method\": \"Fire\", \"location\": \"Dragonstone\", \"count\": 2}, {\"name\": \"Drennan\", \"killer\": \"Osha\", \"method\": \"Knife\", \"location\": \"Winterfell\", \"count\": 1}, {\"name\": \"Drogo's horse\", \"killer\": \"Mirri Maz Duur\", \"method\": \"Knife\", \"location\": \"Red Waste\", \"count\": 1}, {\"name\": \"Eddison Tollett\", \"killer\": \"Wight\", \"method\": \"Sword\", \"location\": \"Winterfell\", \"count\": 1}, {\"name\": \"Ellaria Sand\", \"killer\": \"Cersei Lannister\", \"method\": \"Poison\", \"location\": \"King's Landing\", \"count\": 1}, {\"name\": \"Euron Greyjoy\", \"killer\": \"Jaime Lannister\", \"method\": \"Sword\", \"location\": \"King's Landing\", \"count\": 1}, {\"name\": \"Faith Militant Brother\", \"killer\": \"Cersei Lannister\", \"method\": \"Wildfire\", \"location\": \"King's Landing\", \"count\": 49}, {\"name\": \"Faith Militant Brother\", \"killer\": \"Gregor \\\"the Mountain\\\" Clegane\", \"method\": \"Hands\", \"location\": \"King's Landing\", \"count\": 1}, {\"name\": \"Frey family member\", \"killer\": \"Arya Stark\", \"method\": \"Poison\", \"location\": \"The Twins\", \"count\": 54}, {\"name\": \"Frey soldier\", \"killer\": \"Arya Stark\", \"method\": \"Knife\", \"location\": \"Riverlands\", \"count\": 1}, {\"name\": \"Frey soldier\", \"killer\": \"Sandor \\\"the Hound\\\" Clegane\", \"method\": \"Sword\", \"location\": \"Riverlands\", \"count\": 3}, {\"name\": \"Gared\", \"killer\": \"White Walker\", \"method\": \"Ice sword\", \"location\": \"Beyond the Wall\", \"count\": 1}, {\"name\": \"Giant Wight\", \"killer\": \"Lyanna Mormont\", \"method\": \"Knife\", \"location\": \"Winterfell\", \"count\": 1}, {\"name\": \"Giant wildling\", \"killer\": \"Night's Watch brother\", \"method\": \"Giant arrow\", \"location\": \"Beyond the Wall\", \"count\": 1}, {\"name\": \"Gladiator\", \"killer\": \"Gladiator\", \"method\": \"Spear\", \"location\": \"Meereen\", \"count\": 2}, {\"name\": \"Gladiator\", \"killer\": \"Gladiator\", \"method\": \"Sword\", \"location\": \"Meereen\", \"count\": 2}, {\"name\": \"Gladiator\", \"killer\": \"Jorah Mormont\", \"method\": \"Knife\", \"location\": \"Meereen\", \"count\": 1}, {\"name\": \"Gladiator\", \"killer\": \"Jorah Mormont\", \"method\": \"Sword\", \"location\": \"Meereen\", \"count\": 1}, {\"name\": \"Goat\", \"killer\": \"Daenerys Targaryen\", \"method\": \"Dragonfire (Dragon)\", \"location\": \"Meereen\", \"count\": 1}, {\"name\": \"Golden Company horse\", \"killer\": \"Daenerys Targaryen\", \"method\": \"Dragonfire (Dragon)\", \"location\": \"King's Landing\", \"count\": 1}, {\"name\": \"Golden Company soldier\", \"killer\": \"Daenerys Targaryen\", \"method\": \"Dragonfire (Dragon)\", \"location\": \"King's Landing\", \"count\": 374}, {\"name\": \"Grand Maester Pycelle\", \"killer\": \"Little Bird\", \"method\": \"Knife\", \"location\": \"King's Landing\", \"count\": 1}, {\"name\": \"Great Master\", \"killer\": \"Meereen slave\", \"method\": \"Hands\", \"location\": \"Meereen\", \"count\": 1}, {\"name\": \"Great Master\", \"killer\": \"Sons of the Harpy agent\", \"method\": \"Knife\", \"location\": \"Meereen\", \"count\": 3}, {\"name\": \"Great Master\", \"killer\": \"Viserion\", \"method\": \"Dragonfire (Dragon)\", \"location\": \"Meereen\", \"count\": 1}, {\"name\": \"Gregor \\\"the Mountain\\\" Clegane\", \"killer\": \"Sandor \\\"the Hound\\\" Clegane\", \"method\": \"Dragonfire (Dragon)\", \"location\": \"King's Landing\", \"count\": 1}, {\"name\": \"Grenn\", \"killer\": \"Wildling giant\", \"method\": \"Unknown\", \"location\": \"Castle Black\", \"count\": 1}, {\"name\": \"Grey Wind\", \"killer\": \"Frey soldier\", \"method\": \"Arrow\", \"location\": \"The Twins\", \"count\": 1}, {\"name\": \"Greyjoy Soldier\", \"killer\": \"Daenerys Targaryen\", \"method\": \"Dragonfire (Dragon)\", \"location\": \"King's Landing\", \"count\": 2}, {\"name\": \"Greyjoy Soldier\", \"killer\": \"Euron Greyjoy\", \"method\": \"Axe\", \"location\": \"The Narrow Sea\", \"count\": 5}, {\"name\": \"Greyjoy Soldier\", \"killer\": \"Greyjoy Soldier\", \"method\": \"Axe\", \"location\": \"The Narrow Sea\", \"count\": 2}, {\"name\": \"Greyjoy Soldier\", \"killer\": \"Greyjoy Soldier\", \"method\": \"Knife\", \"location\": \"The Narrow Sea\", \"count\": 1}, {\"name\": \"Greyjoy Soldier\", \"killer\": \"Greyjoy Soldier\", \"method\": \"Mace\", \"location\": \"The Narrow Sea\", \"count\": 1}, {\"name\": \"Greyjoy Soldier\", \"killer\": \"Greyjoy Soldier\", \"method\": \"Sword\", \"location\": \"The Narrow Sea\", \"count\": 1}, {\"name\": \"Greyjoy Soldier\", \"killer\": \"Theon Greyjoy\", \"method\": \"Arrow\", \"location\": \"The Narrow Sea\", \"count\": 5}, {\"name\": \"Greyjoy Soldier\", \"killer\": \"Theon Greyjoy\", \"method\": \"Axe\", \"location\": \"The Narrow Sea\", \"count\": 1}, {\"name\": \"Greyjoy Soldier\", \"killer\": \"Theon Greyjoy\", \"method\": \"Rock\", \"location\": \"Dragonstone\", \"count\": 1}, {\"name\": \"Greyjoy Soldier\", \"killer\": \"Theon Greyjoy\", \"method\": \"Sword\", \"location\": \"The Narrow Sea\", \"count\": 6}, {\"name\": \"Greyjoy Soldier\", \"killer\": \"Tyene Sand\", \"method\": \"Knife\", \"location\": \"The Narrow Sea\", \"count\": 3}, {\"name\": \"Greyjoy Soldier\", \"killer\": \"Yara Greyjoy\", \"method\": \"Sword\", \"location\": \"The Narrow Sea\", \"count\": 8}, {\"name\": \"Greyjoy soldier\", \"killer\": \"Ramsay Bolton\", \"method\": \"Knife\", \"location\": \"Dreadfort\", \"count\": 1}, {\"name\": \"Guymon\", \"killer\": \"Ygritte\", \"method\": \"Arrow\", \"location\": \"The Gift\", \"count\": 1}, {\"name\": \"Harry Strickland\", \"killer\": \"Grey Worm\", \"method\": \"Spear\", \"location\": \"King's Landing\", \"count\": 1}, {\"name\": \"High Septon\", \"killer\": \"Peasants\", \"method\": \"Hands\", \"location\": \"King's Landing\", \"count\": 1}, {\"name\": \"High Sparrow\", \"killer\": \"Cersei Lannister\", \"method\": \"Wildfire\", \"location\": \"King's Landing\", \"count\": 1}, {\"name\": \"Hizdahr zo Loraq\", \"killer\": \"Sons of the Harpy agent\", \"method\": \"Knife\", \"location\": \"Meereen\", \"count\": 1}, {\"name\": \"Hodor\", \"killer\": \"Wight\", \"method\": \"Hands\", \"location\": \"Beyond the Wall\", \"count\": 1}, {\"name\": \"Horse\", \"killer\": \"Daenerys Targaryen\", \"method\": \"Dragonfire (Dragon)\", \"location\": \"Roseroad\", \"count\": 2}, {\"name\": \"Horse\", \"killer\": \"Ramsay Bolton\", \"method\": \"Fire\", \"location\": \"Kingsroad\", \"count\": 1}, {\"name\": \"Horse breeder\", \"killer\": \"Ygritte\", \"method\": \"Arrow\", \"location\": \"The Gift\", \"count\": 1}, {\"name\": \"Hoster Tully\", \"killer\": \"None\", \"method\": \"Illness\", \"location\": \"Riverrun\", \"count\": 1}, {\"name\": \"Irri\", \"killer\": \"Unknown\", \"method\": \"Unknown\", \"location\": \"Qarth\", \"count\": 1}, {\"name\": \"Jack\", \"killer\": \"Theon Greyjoy\", \"method\": \"Fire\", \"location\": \"Winterfell\", \"count\": 1}, {\"name\": \"Jafer Flowers\", \"killer\": \"Night's Watch brother\", \"method\": \"Fire\", \"location\": \"Castle Black\", \"count\": 1}, {\"name\": \"Jaime Lannister\", \"killer\": \"Daenerys Targaryen\", \"method\": \"Rubble\", \"location\": \"King's Landing\", \"count\": 1}, {\"name\": \"Janos Slynt\", \"killer\": \"Jon Snow\", \"method\": \"Sword\", \"location\": \"Castle Black\", \"count\": 1}, {\"name\": \"Jaqen H'ghar\", \"killer\": \"Jaqen H'ghar\", \"method\": \"Poison\", \"location\": \"Braavos\", \"count\": 1}, {\"name\": \"Jeor Mormont\", \"killer\": \"Rast\", \"method\": \"Knife\", \"location\": \"Beyond the Wall\", \"count\": 1}, {\"name\": \"Joffrey Baratheon\", \"killer\": \"Olenna Tyrell\", \"method\": \"Poison\", \"location\": \"King's Landing\", \"count\": 1}, {\"name\": \"Jojen Reed\", \"killer\": \"Meera Reed\", \"method\": \"Knife\", \"location\": \"Beyond the Wall\", \"count\": 1}, {\"name\": \"Jon Arryn\", \"killer\": \"Lysa Arryn\", \"method\": \"Poison\", \"location\": \"King's Landing\", \"count\": 1}, {\"name\": \"Jon Snow\", \"killer\": \"Olly\", \"method\": \"Knife\", \"location\": \"Castle Black\", \"count\": 1}, {\"name\": \"Jorah Mormont\", \"killer\": \"Wight\", \"method\": \"Sword\", \"location\": \"Winterfell\", \"count\": 1}, {\"name\": \"Jory Cassel\", \"killer\": \"Jaime Lannister\", \"method\": \"Knife\", \"location\": \"King's Landing\", \"count\": 1}, {\"name\": \"Joyeuse Frey\", \"killer\": \"Catelyn Stark\", \"method\": \"Knife\", \"location\": \"The Twins\", \"count\": 1}, {\"name\": \"Karl Tanner\", \"killer\": \"Jon Snow\", \"method\": \"Sword\", \"location\": \"Beyond the Wall\", \"count\": 1}, {\"name\": \"Karsi\", \"killer\": \"Wight\", \"method\": \"Teeth\", \"location\": \"Hardhome\", \"count\": 1}, {\"name\": \"Kevan Lannister\", \"killer\": \"Cersei Lannister\", \"method\": \"Wildfire\", \"location\": \"King's Landing\", \"count\": 1}, {\"name\": \"Khal Drogo\", \"killer\": \"Daenerys Targaryen\", \"method\": \"Pillow\", \"location\": \"Red Waste\", \"count\": 1}, {\"name\": \"Khal Moro\", \"killer\": \"Daenerys Targaryen\", \"method\": \"Fire\", \"location\": \"Vaes Dothrak\", \"count\": 1}, {\"name\": \"King's Landing Citizen\", \"killer\": \"Daenerys Targaryen\", \"method\": \"Dragonfire (Dragon)\", \"location\": \"King's Landing\", \"count\": 227}, {\"name\": \"King's Landing Citizen\", \"killer\": \"Stark Soldier\", \"method\": \"Sword\", \"location\": \"King's Landing\", \"count\": 6}, {\"name\": \"King's Landing Noble\", \"killer\": \"Cersei Lannister\", \"method\": \"Wildfire\", \"location\": \"King's Landing\", \"count\": 138}, {\"name\": \"Knight\", \"killer\": \"Sandor \\\"the Hound\\\" Clegane\", \"method\": \"Mace\", \"location\": \"King's Landing\", \"count\": 1}, {\"name\": \"Kraznys mo Nakloz\", \"killer\": \"Daenerys Targaryen\", \"method\": \"Dragonfire (Dragon)\", \"location\": \"Astapor\", \"count\": 1}, {\"name\": \"Lady\", \"killer\": \"Ned Stark\", \"method\": \"Knife\", \"location\": \"Kingsroad\", \"count\": 1}, {\"name\": \"Lancel Lannister\", \"killer\": \"Cersei Lannister\", \"method\": \"Wildfire\", \"location\": \"King's Landing\", \"count\": 1}, {\"name\": \"Lannister soldier\", \"killer\": \"Daenerys Targaryen\", \"method\": \"Dragonfire (Dragon)\", \"location\": \"King's Landing\", \"count\": 166}, {\"name\": \"Lannister soldier\", \"killer\": \"Daenerys Targaryen\", \"method\": \"Dragonfire (Dragon)\", \"location\": \"Roseroad\", \"count\": 178}, {\"name\": \"Lannister soldier\", \"killer\": \"Dothraki man\", \"method\": \"Arakh\", \"location\": \"King's Landing\", \"count\": 18}, {\"name\": \"Lannister soldier\", \"killer\": \"Dothraki man\", \"method\": \"Arakh\", \"location\": \"Roseroad\", \"count\": 10}, {\"name\": \"Lannister soldier\", \"killer\": \"Dothraki man\", \"method\": \"Arrow\", \"location\": \"Roseroad\", \"count\": 2}, {\"name\": \"Lannister soldier\", \"killer\": \"Dothraki man\", \"method\": \"Spear\", \"location\": \"Roseroad\", \"count\": 1}, {\"name\": \"Lannister soldier\", \"killer\": \"Gendry\", \"method\": \"Hammer\", \"location\": \"King's Landing\", \"count\": 2}, {\"name\": \"Lannister soldier\", \"killer\": \"Grey Wind\", \"method\": \"Teeth\", \"location\": \"Oxcross\", \"count\": 1}, {\"name\": \"Lannister soldier\", \"killer\": \"Grey Worm\", \"method\": \"Spear\", \"location\": \"Casterly Rock\", \"count\": 6}, {\"name\": \"Lannister soldier\", \"killer\": \"Grey Worm\", \"method\": \"Spear\", \"location\": \"King's Landing\", \"count\": 12}, {\"name\": \"Lannister soldier\", \"killer\": \"Jon Snow\", \"method\": \"Sword\", \"location\": \"King's Landing\", \"count\": 7}, {\"name\": \"Lannister soldier\", \"killer\": \"Jory Cassel\", \"method\": \"Sword\", \"location\": \"King's Landing\", \"count\": 3}, {\"name\": \"Lannister soldier\", \"killer\": \"Ned Stark\", \"method\": \"Sword\", \"location\": \"King's Landing\", \"count\": 1}, {\"name\": \"Lannister soldier\", \"killer\": \"Sandor \\\"the Hound\\\" Clegane\", \"method\": \"Sword\", \"location\": \"King's Landing\", \"count\": 4}, {\"name\": \"Lannister soldier\", \"killer\": \"Stark Soldier\", \"method\": \"Axe\", \"location\": \"King's Landing\", \"count\": 4}, {\"name\": \"Lannister soldier\", \"killer\": \"Stark Soldier\", \"method\": \"Sword\", \"location\": \"King's Landing\", \"count\": 13}, {\"name\": \"Lannister soldier\", \"killer\": \"Unsullied\", \"method\": \"Spear\", \"location\": \"King's Landing\", \"count\": 1}, {\"name\": \"Lannister soldier\", \"killer\": \"Unsullied Soldier\", \"method\": \"Falling\", \"location\": \"Casterly Rock\", \"count\": 1}, {\"name\": \"Lannister soldier\", \"killer\": \"Unsullied Soldier\", \"method\": \"Knife\", \"location\": \"Casterly Rock\", \"count\": 2}, {\"name\": \"Lannister soldier\", \"killer\": \"Unsullied Soldier\", \"method\": \"Spear\", \"location\": \"Casterly Rock\", \"count\": 2}, {\"name\": \"Lannister soldier\", \"killer\": \"Yoren\", \"method\": \"Sword\", \"location\": \"Riverlands\", \"count\": 5}, {\"name\": \"Leaf\", \"killer\": \"Wight\", \"method\": \"Sword\", \"location\": \"Beyond the Wall\", \"count\": 1}, {\"name\": \"Leech\", \"killer\": \"Stannis Baratheon\", \"method\": \"Fire\", \"location\": \"Dragonstone\", \"count\": 3}, {\"name\": \"Lem Lemoncloak\", \"killer\": \"Beric Dondarrion\", \"method\": \"Noose\", \"location\": \"Riverlands\", \"count\": 1}, {\"name\": \"Loboda\", \"killer\": \"White Walker\", \"method\": \"Spear\", \"location\": \"Hardhome\", \"count\": 1}, {\"name\": \"Locke\", \"killer\": \"Hodor/Bran Stark\", \"method\": \"Hands\", \"location\": \"Beyond the Wall\", \"count\": 1}, {\"name\": \"Lommy Greenhands\", \"killer\": \"Polliver\", \"method\": \"Sword\", \"location\": \"Riverlands\", \"count\": 1}, {\"name\": \"Loras Tyrell\", \"killer\": \"Cersei Lannister\", \"method\": \"Wildfire\", \"location\": \"King's Landing\", \"count\": 1}, {\"name\": \"Lothar Frey\", \"killer\": \"Arya Stark\", \"method\": \"Cooking\", \"location\": \"The Twins\", \"count\": 1}, {\"name\": \"Lowell (King's Soldier)\", \"killer\": \"Sandor \\\"the Hound\\\" Clegane\", \"method\": \"Knife\", \"location\": \"Riverlands\", \"count\": 1}, {\"name\": \"Lyanna Mormont\", \"killer\": \"Giant Wight\", \"method\": \"Hands\", \"location\": \"Winterfell\", \"count\": 1}, {\"name\": \"Lysa Arryn\", \"killer\": \"Petyr Baelish\", \"method\": \"Moon Door\", \"location\": \"The Eyrie\", \"count\": 1}, {\"name\": \"Mace Tyrell\", \"killer\": \"Cersei Lannister\", \"method\": \"Wildfire\", \"location\": \"King's Landing\", \"count\": 1}, {\"name\": \"Maester Cressen\", \"killer\": \"Melisandre \\\"the Red Woman\\\" of Asshai\", \"method\": \"Poison\", \"location\": \"Dragonstone\", \"count\": 1}, {\"name\": \"Maester Luwin\", \"killer\": \"Osha\", \"method\": \"Knife\", \"location\": \"Winterfell\", \"count\": 1}, {\"name\": \"Mag the Mighty giant\", \"killer\": \"Grenn\", \"method\": \"Unknown\", \"location\": \"Castle Black\", \"count\": 1}, {\"name\": \"Mago\", \"killer\": \"Khal Drogo\", \"method\": \"Hands\", \"location\": \"Lhazar\", \"count\": 1}, {\"name\": \"Mance Rayder\", \"killer\": \"Jon Snow\", \"method\": \"Arrow\", \"location\": \"Castle Black\", \"count\": 1}, {\"name\": \"Mandon Moore\", \"killer\": \"Podrick Payne\", \"method\": \"Spear\", \"location\": \"King's Landing\", \"count\": 1}, {\"name\": \"Manticore\", \"killer\": \"Barristan Selmy\", \"method\": \"Knife\", \"location\": \"Astapor\", \"count\": 1}, {\"name\": \"Margaery Tyrell\", \"killer\": \"Cersei Lannister\", \"method\": \"Wildfire\", \"location\": \"King's Landing\", \"count\": 1}, {\"name\": \"Martyn Lannister\", \"killer\": \"Rickard Karstark\", \"method\": \"Knife\", \"location\": \"Riverrun\", \"count\": 1}, {\"name\": \"Matthos Seaworth\", \"killer\": \"Bronn\", \"method\": \"Wildfire\", \"location\": \"King's Landing\", \"count\": 1}, {\"name\": \"Meereen citizen\", \"killer\": \"Sons of the Harpy agent\", \"method\": \"Sword\", \"location\": \"Meereen\", \"count\": 11}, {\"name\": \"Meereen citizen\", \"killer\": \"The Masters Soldier\", \"method\": \"Catapult\", \"location\": \"Meereen\", \"count\": 3}, {\"name\": \"Meereen slave\", \"killer\": \"Daario Naharis\", \"method\": \"Arakh\", \"location\": \"Meereen\", \"count\": 1}, {\"name\": \"Meereen slave master\", \"killer\": \"Meereen slaves\", \"method\": \"Unknown\", \"location\": \"Meereen\", \"count\": 1}, {\"name\": \"Melisandre \\\"the Red Woman\\\" of Asshai\", \"killer\": \"Melisandre \\\"the Red Woman\\\" of Asshai\", \"method\": \"Old Age\", \"location\": \"Winterfell\", \"count\": 1}, {\"name\": \"Member of the Thirteen\", \"killer\": \"Pyat Pree\", \"method\": \"Knife\", \"location\": \"Qarth\", \"count\": 8}, {\"name\": \"Mero\", \"killer\": \"Daario Naharis\", \"method\": \"Unknown\", \"location\": \"Yunkai\", \"count\": 1}, {\"name\": \"Meryn Trant\", \"killer\": \"Arya Stark\", \"method\": \"Knife\", \"location\": \"Braavos\", \"count\": 1}, {\"name\": \"Mirri Maz Duur\", \"killer\": \"Daenerys Targaryen\", \"method\": \"Fire\", \"location\": \"Red Waste\", \"count\": 1}, {\"name\": \"Missandei\", \"killer\": \"Gregor \\\"the Mountain\\\" Clegane\", \"method\": \"Sword\", \"location\": \"King's Landing\", \"count\": 1}, {\"name\": \"Mormont Soldier\", \"killer\": \"Giant Wight\", \"method\": \"Club\", \"location\": \"Winterfell\", \"count\": 7}, {\"name\": \"Mycah\", \"killer\": \"Sandor \\\"the Hound\\\" Clegane\", \"method\": \"Sword\", \"location\": \"Kingsroad\", \"count\": 1}, {\"name\": \"Myranda Royce\", \"killer\": \"Reek\", \"method\": \"Falling\", \"location\": \"Winterfell\", \"count\": 1}, {\"name\": \"Myrcella\", \"killer\": \"Ellaria Sand\", \"method\": \"Poison\", \"location\": \"Dorne\", \"count\": 1}, {\"name\": \"Ned Stark\", \"killer\": \"Ilyn Payne\", \"method\": \"Sword\", \"location\": \"King's Landing\", \"count\": 1}, {\"name\": \"Ned Umber\", \"killer\": \"Night King\", \"method\": \"Steak\", \"location\": \"Last Hearth\", \"count\": 1}, {\"name\": \"Night King\", \"killer\": \"Arya Stark\", \"method\": \"Knife\", \"location\": \"Winterfell\", \"count\": 1}, {\"name\": \"Night's Watch brother\", \"killer\": \"Karl Tanner\", \"method\": \"Knife\", \"location\": \"Beyond the Wall\", \"count\": 1}, {\"name\": \"Night's Watch brother\", \"killer\": \"Night's Watch mutineer\", \"method\": \"Axe\", \"location\": \"Beyond the Wall\", \"count\": 1}, {\"name\": \"Night's Watch brother\", \"killer\": \"Night's Watch mutineer\", \"method\": \"Sword\", \"location\": \"Beyond the Wall\", \"count\": 2}, {\"name\": \"Night's Watch brother\", \"killer\": \"None\", \"method\": \"Burning oil\", \"location\": \"The Wall\", \"count\": 1}, {\"name\": \"Night's Watch brother\", \"killer\": \"Styr\", \"method\": \"Axe\", \"location\": \"Castle Black\", \"count\": 5}, {\"name\": \"Night's Watch brother\", \"killer\": \"Thenn raider\", \"method\": \"Axe\", \"location\": \"Castle Black\", \"count\": 1}, {\"name\": \"Night's Watch brother\", \"killer\": \"Thenn raider\", \"method\": \"Sword\", \"location\": \"Castle Black\", \"count\": 1}, {\"name\": \"Night's Watch brother\", \"killer\": \"Tormund\", \"method\": \"Axe\", \"location\": \"Castle Black\", \"count\": 3}, {\"name\": \"Night's Watch brother\", \"killer\": \"Tormund\", \"method\": \"Sword\", \"location\": \"Castle Black\", \"count\": 5}, {\"name\": \"Night's Watch brother\", \"killer\": \"Viserion\", \"method\": \"Falling\", \"location\": \"The Wall\", \"count\": 8}, {\"name\": \"Night's Watch brother\", \"killer\": \"Wight\", \"method\": \"Knife\", \"location\": \"Winterfell\", \"count\": 1}, {\"name\": \"Night's Watch brother\", \"killer\": \"Wight\", \"method\": \"Sword\", \"location\": \"Winterfell\", \"count\": 2}, {\"name\": \"Night's Watch brother\", \"killer\": \"Wight\", \"method\": \"Teeth\", \"location\": \"Winterfell\", \"count\": 2}, {\"name\": \"Night's Watch brother\", \"killer\": \"Wildling\", \"method\": \"Arrow\", \"location\": \"Castle Black\", \"count\": 2}, {\"name\": \"Night's Watch brother\", \"killer\": \"Wildling\", \"method\": \"Axe\", \"location\": \"Castle Black\", \"count\": 1}, {\"name\": \"Night's Watch brother\", \"killer\": \"Wildling\", \"method\": \"Flaming arrow\", \"location\": \"The Wall\", \"count\": 1}, {\"name\": \"Night's Watch brother\", \"killer\": \"Wildling\", \"method\": \"Knife\", \"location\": \"Castle Black\", \"count\": 1}, {\"name\": \"Night's Watch brother\", \"killer\": \"Wildling\", \"method\": \"Nail\", \"location\": \"Castle Black\", \"count\": 1}, {\"name\": \"Night's Watch brother\", \"killer\": \"Wildling\", \"method\": \"Sword\", \"location\": \"Castle Black\", \"count\": 1}, {\"name\": \"Night's Watch brother\", \"killer\": \"Wildling giant\", \"method\": \"Giant arrow\", \"location\": \"The Wall\", \"count\": 1}, {\"name\": \"Night's Watch brother\", \"killer\": \"Wun Wun\", \"method\": \"Hands\", \"location\": \"Castle Black\", \"count\": 1}, {\"name\": \"Night's Watch brother\", \"killer\": \"Ygritte\", \"method\": \"Arrow\", \"location\": \"Castle Black\", \"count\": 3}, {\"name\": \"Night's Watch brother\", \"killer\": \"Ygritte\", \"method\": \"Flaming arrow\", \"location\": \"Castle Black\", \"count\": 3}, {\"name\": \"Night's Watch mutineer\", \"killer\": \"Eddison Tollett\", \"method\": \"Sword\", \"location\": \"Beyond the Wall\", \"count\": 2}, {\"name\": \"Night's Watch mutineer\", \"killer\": \"Grenn\", \"method\": \"Sword\", \"location\": \"Beyond the Wall\", \"count\": 1}, {\"name\": \"Night's Watch mutineer\", \"killer\": \"Jon Snow\", \"method\": \"Sword\", \"location\": \"Beyond the Wall\", \"count\": 4}, {\"name\": \"Night's Watch mutineer\", \"killer\": \"Locke\", \"method\": \"Sword\", \"location\": \"Beyond the Wall\", \"count\": 2}, {\"name\": \"Night's Watch recruit\", \"killer\": \"Lannister soldier\", \"method\": \"Spear\", \"location\": \"Riverlands\", \"count\": 1}, {\"name\": \"Nymeria Sand\", \"killer\": \"Euron Greyjoy\", \"method\": \"Whip\", \"location\": \"The Narrow Sea\", \"count\": 1}, {\"name\": \"Obara Sand\", \"killer\": \"Euron Greyjoy\", \"method\": \"Spear\", \"location\": \"The Narrow Sea\", \"count\": 1}, {\"name\": \"Oberyn Martell\", \"killer\": \"Gregor \\\"the Mountain\\\" Clegane\", \"method\": \"Hands\", \"location\": \"King's Landing\", \"count\": 1}, {\"name\": \"Olenna Tyrell\", \"killer\": \"Jaime Lannister\", \"method\": \"Poison\", \"location\": \"Highgarden\", \"count\": 1}, {\"name\": \"Olly\", \"killer\": \"Jon Snow\", \"method\": \"Noose\", \"location\": \"Castle Black\", \"count\": 1}, {\"name\": \"Olly's mum\", \"killer\": \"Styr\", \"method\": \"Axe\", \"location\": \"The Gift\", \"count\": 1}, {\"name\": \"Orell\", \"killer\": \"Jon Snow\", \"method\": \"Sword\", \"location\": \"The Gift\", \"count\": 1}, {\"name\": \"Osha\", \"killer\": \"Ramsay Bolton\", \"method\": \"Knife\", \"location\": \"Winterfell\", \"count\": 1}, {\"name\": \"Oswell Whent\", \"killer\": \"Ned Stark\", \"method\": \"Sword\", \"location\": \"Dorne\", \"count\": 1}, {\"name\": \"Othell Yarwyck\", \"killer\": \"Jon Snow\", \"method\": \"Noose\", \"location\": \"Castle Black\", \"count\": 1}, {\"name\": \"Othor\", \"killer\": \"Jon Snow\", \"method\": \"Fire\", \"location\": \"Castle Black\", \"count\": 1}, {\"name\": \"Peasant\", \"killer\": \"Arya Stark\", \"method\": \"Poison\", \"location\": \"Braavos\", \"count\": 1}, {\"name\": \"Peasant\", \"killer\": \"Cersei Lannister\", \"method\": \"Bell\", \"location\": \"King's Landing\", \"count\": 1}, {\"name\": \"Peasant\", \"killer\": \"Cersei Lannister\", \"method\": \"Wildfire\", \"location\": \"King's Landing\", \"count\": 4}, {\"name\": \"Peasant\", \"killer\": \"Gregor \\\"the Mountain\\\" Clegane\", \"method\": \"Hands\", \"location\": \"King's Landing\", \"count\": 1}, {\"name\": \"Peasant\", \"killer\": \"Peasant\", \"method\": \"Poison\", \"location\": \"Braavos\", \"count\": 1}, {\"name\": \"Peasant\", \"killer\": \"Ramsay Bolton\", \"method\": \"Flaying\", \"location\": \"Winterfell\", \"count\": 4}, {\"name\": \"Peasant\", \"killer\": \"Sandor \\\"the Hound\\\" Clegane\", \"method\": \"Knife\", \"location\": \"King's Landing\", \"count\": 3}, {\"name\": \"Peasant\", \"killer\": \"Sandor \\\"the Hound\\\" Clegane\", \"method\": \"Knife\", \"location\": \"Riverlands\", \"count\": 1}, {\"name\": \"Peasant\", \"killer\": \"Sandor \\\"the Hound\\\" Clegane\", \"method\": \"Sword\", \"location\": \"King's Landing\", \"count\": 2}, {\"name\": \"Peasant\", \"killer\": \"Styr\", \"method\": \"Axe\", \"location\": \"Mole's Town\", \"count\": 2}, {\"name\": \"Peasant\", \"killer\": \"Thenn raider\", \"method\": \"Knife\", \"location\": \"Mole's Town\", \"count\": 1}, {\"name\": \"Peasant\", \"killer\": \"Thenn raider\", \"method\": \"Unknown\", \"location\": \"The Gift\", \"count\": 1}, {\"name\": \"Peasant\", \"killer\": \"Tormund\", \"method\": \"Sword\", \"location\": \"Mole's Town\", \"count\": 3}, {\"name\": \"Peasant\", \"killer\": \"Tormund\", \"method\": \"Sword\", \"location\": \"The Gift\", \"count\": 4}, {\"name\": \"Peasant\", \"killer\": \"Wight\", \"method\": \"Teeth\", \"location\": \"Winterfell\", \"count\": 2}, {\"name\": \"Peasant\", \"killer\": \"Ygritte\", \"method\": \"Knife\", \"location\": \"Mole's Town\", \"count\": 1}, {\"name\": \"Peasant\", \"killer\": \"Ygritte\", \"method\": \"Spear\", \"location\": \"Mole's Town\", \"count\": 3}, {\"name\": \"Peasant\", \"killer\": \"Ygritte\", \"method\": \"Sword\", \"location\": \"The Gift\", \"count\": 1}, {\"name\": \"Petyr Baelish\", \"killer\": \"Arya Stark\", \"method\": \"Knife\", \"location\": \"Winterfell\", \"count\": 1}, {\"name\": \"Pigeon\", \"killer\": \"Arya Stark\", \"method\": \"Hands\", \"location\": \"King's Landing\", \"count\": 1}, {\"name\": \"Pigeon\", \"killer\": \"Arya Stark\", \"method\": \"Sword\", \"location\": \"Braavos\", \"count\": 1}, {\"name\": \"Polliver\", \"killer\": \"Arya Stark\", \"method\": \"Sword\", \"location\": \"Riverlands\", \"count\": 1}, {\"name\": \"Prendahl na Ghezn\", \"killer\": \"Daario Naharis\", \"method\": \"Unknown\", \"location\": \"Yunkai\", \"count\": 1}, {\"name\": \"Prisoner\", \"killer\": \"Gregor \\\"the Mountain\\\" Clegane\", \"method\": \"Sword\", \"location\": \"King's Landing\", \"count\": 3}, {\"name\": \"Prisoner\", \"killer\": \"The Tickler\", \"method\": \"Rat\", \"location\": \"Harrenhal\", \"count\": 1}, {\"name\": \"Pyat Pree\", \"killer\": \"Daenerys Targaryen\", \"method\": \"Dragonfire (Dragon)\", \"location\": \"Qarth\", \"count\": 1}, {\"name\": \"Pypar\", \"killer\": \"Ygritte\", \"method\": \"Arrow\", \"location\": \"Castle Black\", \"count\": 1}, {\"name\": \"Qhorin Halfhand\", \"killer\": \"Jon Snow\", \"method\": \"Sword\", \"location\": \"Beyond the Wall\", \"count\": 1}, {\"name\": \"Qotho\", \"killer\": \"Jorah Mormont\", \"method\": \"Sword\", \"location\": \"Red Waste\", \"count\": 1}, {\"name\": \"Qyburn\", \"killer\": \"Gregor \\\"the Mountain\\\" Clegane\", \"method\": \"Hands\", \"location\": \"King's Landing\", \"count\": 1}, {\"name\": \"Rakharo\", \"killer\": \"Rival Dothraki\", \"method\": \"Unknown\", \"location\": \"Red Waste\", \"count\": 1}, {\"name\": \"Ralf Kenning\", \"killer\": \"Greyjoy soldier\", \"method\": \"Axe\", \"location\": \"Moat Cailin\", \"count\": 1}, {\"name\": \"Ramsay Bolton\", \"killer\": \"Bolton Hound\", \"method\": \"Teeth\", \"location\": \"Winterfell\", \"count\": 1}, {\"name\": \"Randyll Tarly\", \"killer\": \"Daenerys Targaryen\", \"method\": \"Dragonfire (Dragon)\", \"location\": \"Roseroad\", \"count\": 1}, {\"name\": \"Rast\", \"killer\": \"Ghost\", \"method\": \"Teeth\", \"location\": \"Beyond the Wall\", \"count\": 1}, {\"name\": \"Rat\", \"killer\": \"Qyburn\", \"method\": \"Knife\", \"location\": \"King's Landing\", \"count\": 1}, {\"name\": \"Razdal mo Eraz\", \"killer\": \"Grey Worm\", \"method\": \"Knife\", \"location\": \"Meereen\", \"count\": 1}, {\"name\": \"Renly Baratheon\", \"killer\": \"Melisandre \\\"the Red Woman\\\" of Asshai\", \"method\": \"Shadow Demon\", \"location\": \"Storm's End\", \"count\": 1}, {\"name\": \"Rennick\", \"killer\": \"Grey Wind\", \"method\": \"Teeth\", \"location\": \"Oxcross\", \"count\": 1}, {\"name\": \"Rhaegal\", \"killer\": \"Euron Greyjoy\", \"method\": \"Giant arrow\", \"location\": \"Dragonstone\", \"count\": 1}, {\"name\": \"Rhaego\", \"killer\": \"Mirri Maz Duur\", \"method\": \"Magic\", \"location\": \"Red Waste\", \"count\": 1}, {\"name\": \"Rickard Karstark\", \"killer\": \"Robb Stark\", \"method\": \"Sword\", \"location\": \"Riverrun\", \"count\": 1}, {\"name\": \"Rickon Stark\", \"killer\": \"Ramsay Bolton\", \"method\": \"Arrow\", \"location\": \"Winterfell\", \"count\": 1}, {\"name\": \"Robb Stark\", \"killer\": \"Roose Bolton\", \"method\": \"Knife\", \"location\": \"The Twins\", \"count\": 1}, {\"name\": \"Robert Baratheon\", \"killer\": \"Boar\", \"method\": \"Tusk\", \"location\": \"King's Landing\", \"count\": 1}, {\"name\": \"Robert Baratheon's illegitimate son\", \"killer\": \"City watch guard\", \"method\": \"Knife\", \"location\": \"King's Landing\", \"count\": 1}, {\"name\": \"Robert Baratheon's illegitimate son\", \"killer\": \"City watch guard\", \"method\": \"Unknown\", \"location\": \"King's Landing\", \"count\": 1}, {\"name\": \"Robert Baratheon's illegitimate son\", \"killer\": \"City watch guard\", \"method\": \"Water\", \"location\": \"King's Landing\", \"count\": 1}, {\"name\": \"Rodrik Cassel\", \"killer\": \"Theon Greyjoy\", \"method\": \"Sword\", \"location\": \"Winterfell\", \"count\": 1}, {\"name\": \"Roose Bolton\", \"killer\": \"Ramsay Bolton\", \"method\": \"Knife\", \"location\": \"Winterfell\", \"count\": 1}, {\"name\": \"Rorge\", \"killer\": \"Arya Stark\", \"method\": \"Sword\", \"location\": \"Riverlands\", \"count\": 1}, {\"name\": \"Ros\", \"killer\": \"Joffrey Baratheon\", \"method\": \"Arrow\", \"location\": \"King's Landing\", \"count\": 1}, {\"name\": \"Sandor \\\"The Hound\\\" Clegane\", \"killer\": \"Brienne of Tarth\", \"method\": \"Hands\", \"location\": \"The Vale\", \"count\": 1}, {\"name\": \"Sandor \\\"the Hound\\\" Clegane\", \"killer\": \"Sandor \\\"the Hound\\\" Clegane\", \"method\": \"Dragonfire (Dragon)\", \"location\": \"King's Landing\", \"count\": 1}, {\"name\": \"Second Sun Mercenary\", \"killer\": \"Sons of the Harpy agent\", \"method\": \"Knife\", \"location\": \"Meereen\", \"count\": 3}, {\"name\": \"Selyse Florent\", \"killer\": \"Selyse Florent\", \"method\": \"Rope\", \"location\": \"Kingsroad\", \"count\": 1}, {\"name\": \"Septa Mordane\", \"killer\": \"Lannister soldier\", \"method\": \"Sword\", \"location\": \"King's Landing\", \"count\": 1}, {\"name\": \"Ser Hugh of the Vale\", \"killer\": \"Gregor \\\"the Mountain\\\" Clegane\", \"method\": \"Spear\", \"location\": \"King's Landing\", \"count\": 1}, {\"name\": \"Shae\", \"killer\": \"Tyrion Lannister\", \"method\": \"Hands/Necklace\", \"location\": \"King's Landing\", \"count\": 1}, {\"name\": \"Shireen Baratheon\", \"killer\": \"Melisandre \\\"the Red Woman\\\" of Asshai\", \"method\": \"Fire\", \"location\": \"Kingsroad\", \"count\": 1}, {\"name\": \"Smalljon Umber\", \"killer\": \"Tormund\", \"method\": \"Knife\", \"location\": \"Winterfell\", \"count\": 1}, {\"name\": \"Snake\", \"killer\": \"Bronn\", \"method\": \"Knife\", \"location\": \"Dorne\", \"count\": 1}, {\"name\": \"Sons of the Harpy agent\", \"killer\": \"Barristan Selmy\", \"method\": \"Sword\", \"location\": \"Meereen\", \"count\": 14}, {\"name\": \"Sons of the Harpy agent\", \"killer\": \"Daario Naharis\", \"method\": \"Arakh\", \"location\": \"Meereen\", \"count\": 7}, {\"name\": \"Sons of the Harpy agent\", \"killer\": \"Daario Naharis\", \"method\": \"Sword\", \"location\": \"Meereen\", \"count\": 1}, {\"name\": \"Sons of the Harpy agent\", \"killer\": \"Daenerys Targaryen\", \"method\": \"Claws (Dragon)\", \"location\": \"Meereen\", \"count\": 2}, {\"name\": \"Sons of the Harpy agent\", \"killer\": \"Daenerys Targaryen\", \"method\": \"Dragonfire (Dragon)\", \"location\": \"Meereen\", \"count\": 14}, {\"name\": \"Sons of the Harpy agent\", \"killer\": \"Daenerys Targaryen\", \"method\": \"Teeth (Dragon)\", \"location\": \"Meereen\", \"count\": 2}, {\"name\": \"Sons of the Harpy agent\", \"killer\": \"Grey Worm\", \"method\": \"Hands\", \"location\": \"Meereen\", \"count\": 1}, {\"name\": \"Sons of the Harpy agent\", \"killer\": \"Grey Worm\", \"method\": \"Shield\", \"location\": \"Meereen\", \"count\": 1}, {\"name\": \"Sons of the Harpy agent\", \"killer\": \"Grey Worm\", \"method\": \"Spear\", \"location\": \"Meereen\", \"count\": 8}, {\"name\": \"Sons of the Harpy agent\", \"killer\": \"Grey Worm\", \"method\": \"Sword\", \"location\": \"Meereen\", \"count\": 1}, {\"name\": \"Sons of the Harpy agent\", \"killer\": \"Jorah Mormont\", \"method\": \"Knife\", \"location\": \"Meereen\", \"count\": 1}, {\"name\": \"Sons of the Harpy agent\", \"killer\": \"Jorah Mormont\", \"method\": \"Spear\", \"location\": \"Meereen\", \"count\": 1}, {\"name\": \"Sons of the Harpy agent\", \"killer\": \"Jorah Mormont\", \"method\": \"Sword\", \"location\": \"Meereen\", \"count\": 4}, {\"name\": \"Sons of the Harpy agent\", \"killer\": \"Meereen slave\", \"method\": \"Knife\", \"location\": \"Meereen\", \"count\": 1}, {\"name\": \"Sons of the Harpy agent\", \"killer\": \"Sons of the Harpy agent\", \"method\": \"Sword\", \"location\": \"Meereen\", \"count\": 1}, {\"name\": \"Sons of the Harpy agent\", \"killer\": \"Tyrion Lannister\", \"method\": \"Knife\", \"location\": \"Meereen\", \"count\": 1}, {\"name\": \"Sons of the Harpy agent\", \"killer\": \"Unsullied Soldier\", \"method\": \"Spear\", \"location\": \"Meereen\", \"count\": 8}, {\"name\": \"Stableboy\", \"killer\": \"Arya Stark\", \"method\": \"Sword\", \"location\": \"King's Landing\", \"count\": 1}, {\"name\": \"Stag\", \"killer\": \"Direwolf\", \"method\": \"Teeth\", \"location\": \"Winterfell\", \"count\": 1}, {\"name\": \"Stannis Baratheon\", \"killer\": \"Brienne of Tarth\", \"method\": \"Sword\", \"location\": \"Winterfell\", \"count\": 1}, {\"name\": \"Stark Soldier\", \"killer\": \"Bolton soldier\", \"method\": \"Arrow\", \"location\": \"Winterfell\", \"count\": 28}, {\"name\": \"Stark Soldier\", \"killer\": \"Bolton soldier\", \"method\": \"Spear\", \"location\": \"Winterfell\", \"count\": 1}, {\"name\": \"Stark Soldier\", \"killer\": \"Bolton soldier\", \"method\": \"Sword\", \"location\": \"Winterfell\", \"count\": 5}, {\"name\": \"Stark Soldier\", \"killer\": \"Jon Snow\", \"method\": \"Sword\", \"location\": \"King's Landing\", \"count\": 1}, {\"name\": \"Stark Soldier\", \"killer\": \"Smalljon Umber\", \"method\": \"Sword\", \"location\": \"Winterfell\", \"count\": 5}, {\"name\": \"Stark Soldier\", \"killer\": \"Umber Soldier\", \"method\": \"Sword\", \"location\": \"Winterfell\", \"count\": 2}, {\"name\": \"Stark Soldier\", \"killer\": \"Undead Polar Bear\", \"method\": \"Teeth\", \"location\": \"Beyond the Wall\", \"count\": 2}, {\"name\": \"Stark Soldier\", \"killer\": \"Wight\", \"method\": \"Claws\", \"location\": \"Beyond the Wall\", \"count\": 1}, {\"name\": \"Stark Soldier\", \"killer\": \"Wight\", \"method\": \"Sword\", \"location\": \"Winterfell\", \"count\": 6}, {\"name\": \"Stark Soldier\", \"killer\": \"Wight\", \"method\": \"Teeth\", \"location\": \"Winterfell\", \"count\": 1}, {\"name\": \"Stark soldier\", \"killer\": \"Arthur Dayne\", \"method\": \"Sword\", \"location\": \"Dorne\", \"count\": 3}, {\"name\": \"Stark soldier\", \"killer\": \"Brienne of Tarth\", \"method\": \"Sword\", \"location\": \"Unknown\", \"count\": 3}, {\"name\": \"Stark soldier\", \"killer\": \"City watch guard\", \"method\": \"Sword\", \"location\": \"King's Landing\", \"count\": 3}, {\"name\": \"Stark soldier\", \"killer\": \"Frey soldier\", \"method\": \"Arrow\", \"location\": \"The Twins\", \"count\": 4}, {\"name\": \"Stark soldier\", \"killer\": \"Frey soldier\", \"method\": \"Hanging\", \"location\": \"The Twins\", \"count\": 1}, {\"name\": \"Stark soldier\", \"killer\": \"Frey soldier\", \"method\": \"Knife\", \"location\": \"The Twins\", \"count\": 18}, {\"name\": \"Stark soldier\", \"killer\": \"Frey soldier\", \"method\": \"Sword\", \"location\": \"The Twins\", \"count\": 3}, {\"name\": \"Stark soldier\", \"killer\": \"Hill tribesman\", \"method\": \"Hammer\", \"location\": \"Unknown\", \"count\": 1}, {\"name\": \"Stark soldier\", \"killer\": \"Hill tribesman\", \"method\": \"Sword\", \"location\": \"Unknown\", \"count\": 1}, {\"name\": \"Stark soldier\", \"killer\": \"Karstark soldier\", \"method\": \"Sword\", \"location\": \"Riverrun\", \"count\": 1}, {\"name\": \"Stark soldier\", \"killer\": \"Lannister soldier\", \"method\": \"Spear\", \"location\": \"King's Landing\", \"count\": 2}, {\"name\": \"Stark soldier\", \"killer\": \"Lannister soldier\", \"method\": \"Sword\", \"location\": \"King's Landing\", \"count\": 2}, {\"name\": \"Stark soldier\", \"killer\": \"Oswell Whent\", \"method\": \"Sword\", \"location\": \"Dorne\", \"count\": 1}, {\"name\": \"Stark soldier\", \"killer\": \"Sandor \\\"the Hound\\\" Clegane\", \"method\": \"Sword\", \"location\": \"King's Landing\", \"count\": 1}, {\"name\": \"Stark soldier\", \"killer\": \"Tribesman\", \"method\": \"Bolo\", \"location\": \"Eastern Road\", \"count\": 1}, {\"name\": \"Stark soldier\", \"killer\": \"Tribesman\", \"method\": \"Mace\", \"location\": \"Eastern Road\", \"count\": 1}, {\"name\": \"Stark staff member\", \"killer\": \"Lannister soldier\", \"method\": \"Sword\", \"location\": \"King's Landing\", \"count\": 2}, {\"name\": \"Stiv\", \"killer\": \"Theon Greyjoy\", \"method\": \"Arrow\", \"location\": \"Winterfell\", \"count\": 1}, {\"name\": \"Stone Man\", \"killer\": \"Jorah Mormont\", \"method\": \"Sword\", \"location\": \"Valyria\", \"count\": 1}, {\"name\": \"Styr\", \"killer\": \"Jon Snow\", \"method\": \"Hammer\", \"location\": \"Castle Black\", \"count\": 1}, {\"name\": \"Summer\", \"killer\": \"Wight\", \"method\": \"Sword\", \"location\": \"Beyond the Wall\", \"count\": 1}, {\"name\": \"Syrio Forel\", \"killer\": \"Meryn Trant\", \"method\": \"Sword\", \"location\": \"King's Landing\", \"count\": 1}, {\"name\": \"Talisa Stark\", \"killer\": \"Lothar Frey\", \"method\": \"Knife\", \"location\": \"The Twins\", \"count\": 1}, {\"name\": \"Tansy\", \"killer\": \"Ramsay Bolton\", \"method\": \"Dogs\", \"location\": \"Dreadfort\", \"count\": 1}, {\"name\": \"The Copper King\", \"killer\": \"Pyat Pree\", \"method\": \"Knife\", \"location\": \"Qarth\", \"count\": 1}, {\"name\": \"The Masters Soldier\", \"killer\": \"Daenerys Targaryen\", \"method\": \"Dragonfire (Dragon)\", \"location\": \"Meereen\", \"count\": 12}, {\"name\": \"The Silk King\", \"killer\": \"Pyat Pree\", \"method\": \"Knife\", \"location\": \"Qarth\", \"count\": 1}, {\"name\": \"The Silver\", \"killer\": \"None\", \"method\": \"Starvation\", \"location\": \"Red Waste\", \"count\": 1}, {\"name\": \"The Spice King\", \"killer\": \"Pyat Pree\", \"method\": \"Knife\", \"location\": \"Qarth\", \"count\": 1}, {\"name\": \"The Tickler\", \"killer\": \"Jaqen H'ghar\", \"method\": \"Unknown\", \"location\": \"Harrenhal\", \"count\": 1}, {\"name\": \"Thenn raider\", \"killer\": \"Alliser Thorne\", \"method\": \"Sword\", \"location\": \"Castle Black\", \"count\": 1}, {\"name\": \"Thenn raider\", \"killer\": \"Ghost\", \"method\": \"Teeth\", \"location\": \"Castle Black\", \"count\": 1}, {\"name\": \"Thenn raider\", \"killer\": \"Sam Tarly\", \"method\": \"Arrow\", \"location\": \"Castle Black\", \"count\": 1}, {\"name\": \"Thoros\", \"killer\": \"Undead Polar Bear\", \"method\": \"Claws\", \"location\": \"Beyond the Wall\", \"count\": 1}, {\"name\": \"Three-eyed Raven\", \"killer\": \"White Walker\", \"method\": \"Sword\", \"location\": \"Beyond the Wall\", \"count\": 1}, {\"name\": \"Tommen Baratheon\", \"killer\": \"Tommen Baratheon\", \"method\": \"Falling\", \"location\": \"King's Landing\", \"count\": 1}, {\"name\": \"Torrhen Karstark\", \"killer\": \"Jaime Lannister\", \"method\": \"Hands\", \"location\": \"Robb Stark's camp\", \"count\": 1}, {\"name\": \"Tribesman\", \"killer\": \"Bronn\", \"method\": \"Knife\", \"location\": \"Eastern Road\", \"count\": 1}, {\"name\": \"Tribesman\", \"killer\": \"Bronn\", \"method\": \"Sword\", \"location\": \"Eastern Road\", \"count\": 3}, {\"name\": \"Tribesman\", \"killer\": \"Rodrik Cassel\", \"method\": \"Sword\", \"location\": \"Eastern Road\", \"count\": 2}, {\"name\": \"Tribesman\", \"killer\": \"Tyrion Lannister\", \"method\": \"Shield\", \"location\": \"Eastern Road\", \"count\": 1}, {\"name\": \"Trystane Martell\", \"killer\": \"Obara Sand\", \"method\": \"Spear\", \"location\": \"King's Landing\", \"count\": 1}, {\"name\": \"Tywin Lannister\", \"killer\": \"Tyrion Lannister\", \"method\": \"Arrow\", \"location\": \"King's Landing\", \"count\": 1}, {\"name\": \"Unamed Dwarf\", \"killer\": \"Peasant\", \"method\": \"Unknown\", \"location\": \"King's Landing\", \"count\": 1}, {\"name\": \"Unborn Stark child\", \"killer\": \"Lothar Frey\", \"method\": \"Knife\", \"location\": \"The Twins\", \"count\": 1}, {\"name\": \"Undead Polar Bear\", \"killer\": \"Jorah Mormont\", \"method\": \"Knife\", \"location\": \"Beyond the Wall\", \"count\": 1}, {\"name\": \"Unsullied\", \"killer\": \"Greyjoy Soldier\", \"method\": \"Giant arrow\", \"location\": \"Dragonstone\", \"count\": 3}, {\"name\": \"Unsullied\", \"killer\": \"Wight\", \"method\": \"Knife\", \"location\": \"Winterfell\", \"count\": 1}, {\"name\": \"Unsullied\", \"killer\": \"Wight\", \"method\": \"Sword\", \"location\": \"Winterfell\", \"count\": 6}, {\"name\": \"Unsullied Soldier\", \"killer\": \"Lannister soldier\", \"method\": \"Arrow\", \"location\": \"Casterly Rock\", \"count\": 7}, {\"name\": \"Unsullied Soldier\", \"killer\": \"Lannister soldier\", \"method\": \"Rock\", \"location\": \"Casterly Rock\", \"count\": 1}, {\"name\": \"Unsullied Soldier\", \"killer\": \"Lannister soldier\", \"method\": \"Sword\", \"location\": \"Casterly Rock\", \"count\": 2}, {\"name\": \"Unsullied Soldier\", \"killer\": \"Sons of the Harpy agent\", \"method\": \"Knife\", \"location\": \"Meereen\", \"count\": 15}, {\"name\": \"Unsullied Soldier\", \"killer\": \"Sons of the Harpy agent\", \"method\": \"Spear\", \"location\": \"Meereen\", \"count\": 1}, {\"name\": \"Unsullied Soldier\", \"killer\": \"Sons of the Harpy agent\", \"method\": \"Sword\", \"location\": \"Meereen\", \"count\": 1}, {\"name\": \"Vardis Egen\", \"killer\": \"Bronn\", \"method\": \"Sword\", \"location\": \"The Eyrie\", \"count\": 1}, {\"name\": \"Varys\", \"killer\": \"Daenerys Targaryen\", \"method\": \"Dragonfire (Dragon)\", \"location\": \"Dragonstone\", \"count\": 1}, {\"name\": \"Vayon Poole\", \"killer\": \"Lannister soldier\", \"method\": \"Sword\", \"location\": \"King's Landing\", \"count\": 1}, {\"name\": \"Viserion\", \"killer\": \"Night King\", \"method\": \"Ice Javelin\", \"location\": \"Beyond the Wall\", \"count\": 1}, {\"name\": \"Viserys Targaryen\", \"killer\": \"Khal Drogo\", \"method\": \"Molten gold\", \"location\": \"Vaes Dothrak\", \"count\": 1}, {\"name\": \"Walda Frey\", \"killer\": \"Ramsay Bolton\", \"method\": \"Dogs\", \"location\": \"Winterfell\", \"count\": 1}, {\"name\": \"Walder Frey\", \"killer\": \"Arya Stark\", \"method\": \"Knife\", \"location\": \"The Twins\", \"count\": 1}, {\"name\": \"Walder Rivers\", \"killer\": \"Arya Stark\", \"method\": \"Cooking\", \"location\": \"The Twins\", \"count\": 1}, {\"name\": \"Wallen\", \"killer\": \"Robb Stark\", \"method\": \"Sword\", \"location\": \"Winterfell\", \"count\": 1}, {\"name\": \"Waymar Royce\", \"killer\": \"White Walker\", \"method\": \"Ice sword\", \"location\": \"Beyond the Wall\", \"count\": 1}, {\"name\": \"White Rat\", \"killer\": \"Sons of the Harpy agent\", \"method\": \"Knife\", \"location\": \"Meereen\", \"count\": 1}, {\"name\": \"White Walker\", \"killer\": \"Sam Tarly\", \"method\": \"Dragonglass\", \"location\": \"Beyond the Wall\", \"count\": 1}, {\"name\": \"Wildling\", \"killer\": \"Alliser Thorne\", \"method\": \"Sword\", \"location\": \"Castle Black\", \"count\": 2}, {\"name\": \"Wildling\", \"killer\": \"Baratheon of Dragonstone soldier\", \"method\": \"Axe\", \"location\": \"Beyond the Wall\", \"count\": 1}, {\"name\": \"Wildling\", \"killer\": \"Baratheon of Dragonstone soldier\", \"method\": \"Spear\", \"location\": \"Beyond the Wall\", \"count\": 4}, {\"name\": \"Wildling\", \"killer\": \"Baratheon of Dragonstone soldier\", \"method\": \"Sword\", \"location\": \"Beyond the Wall\", \"count\": 8}, {\"name\": \"Wildling\", \"killer\": \"Bolton soldier\", \"method\": \"Arrow\", \"location\": \"Winterfell\", \"count\": 1}, {\"name\": \"Wildling\", \"killer\": \"Bolton soldier\", \"method\": \"Spear\", \"location\": \"Winterfell\", \"count\": 9}, {\"name\": \"Wildling\", \"killer\": \"Bolton soldier\", \"method\": \"Sword\", \"location\": \"Winterfell\", \"count\": 1}, {\"name\": \"Wildling\", \"killer\": \"Giant mammoth\", \"method\": \"Mammoth foot\", \"location\": \"Beyond the Wall\", \"count\": 1}, {\"name\": \"Wildling\", \"killer\": \"Jon Snow\", \"method\": \"Sword\", \"location\": \"Castle Black\", \"count\": 6}, {\"name\": \"Wildling\", \"killer\": \"Jon Snow\", \"method\": \"Sword\", \"location\": \"The Gift\", \"count\": 1}, {\"name\": \"Wildling\", \"killer\": \"Night's Watch brother\", \"method\": \"Arrow\", \"location\": \"Beyond the Wall\", \"count\": 1}, {\"name\": \"Wildling\", \"killer\": \"Night's Watch brother\", \"method\": \"Arrow\", \"location\": \"Castle Black\", \"count\": 1}, {\"name\": \"Wildling\", \"killer\": \"Night's Watch brother\", \"method\": \"Axe\", \"location\": \"Castle Black\", \"count\": 1}, {\"name\": \"Wildling\", \"killer\": \"Night's Watch brother\", \"method\": \"Barrel\", \"location\": \"Beyond the Wall\", \"count\": 7}, {\"name\": \"Wildling\", \"killer\": \"Night's Watch brother\", \"method\": \"Burning oil\", \"location\": \"Beyond the Wall\", \"count\": 7}, {\"name\": \"Wildling\", \"killer\": \"Night's Watch brother\", \"method\": \"Butcher's knife\", \"location\": \"Castle Black\", \"count\": 1}, {\"name\": \"Wildling\", \"killer\": \"Night's Watch brother\", \"method\": \"Flaming arrow\", \"location\": \"Beyond the Wall\", \"count\": 4}, {\"name\": \"Wildling\", \"killer\": \"Night's Watch brother\", \"method\": \"Flaming arrow\", \"location\": \"Castle Black\", \"count\": 7}, {\"name\": \"Wildling\", \"killer\": \"Night's Watch brother\", \"method\": \"Pot\", \"location\": \"Castle Black\", \"count\": 1}, {\"name\": \"Wildling\", \"killer\": \"Night's Watch brother\", \"method\": \"Scythe\", \"location\": \"The Wall\", \"count\": 9}, {\"name\": \"Wildling\", \"killer\": \"None\", \"method\": \"Falling\", \"location\": \"The Wall\", \"count\": 6}, {\"name\": \"Wildling\", \"killer\": \"Pypar\", \"method\": \"Arrow\", \"location\": \"Castle Black\", \"count\": 1}, {\"name\": \"Wildling\", \"killer\": \"Qhorin Halfhand\", \"method\": \"Sword\", \"location\": \"Beyond the Wall\", \"count\": 1}, {\"name\": \"Wildling\", \"killer\": \"Robb Stark\", \"method\": \"Sword\", \"location\": \"Winterfell\", \"count\": 1}, {\"name\": \"Wildling\", \"killer\": \"Shaggydog\", \"method\": \"Teeth\", \"location\": \"The Gift\", \"count\": 1}, {\"name\": \"Wildling\", \"killer\": \"Summer\", \"method\": \"Teeth\", \"location\": \"The Gift\", \"count\": 1}, {\"name\": \"Wildling\", \"killer\": \"White Walker\", \"method\": \"Sword\", \"location\": \"Hardhome\", \"count\": 1}, {\"name\": \"Wildling\", \"killer\": \"Wight\", \"method\": \"Axe\", \"location\": \"Hardhome\", \"count\": 6}, {\"name\": \"Wildling\", \"killer\": \"Wight\", \"method\": \"Drowning\", \"location\": \"Beyond the Wall\", \"count\": 1}, {\"name\": \"Wildling\", \"killer\": \"Wight\", \"method\": \"Falling\", \"location\": \"Hardhome\", \"count\": 1}, {\"name\": \"Wildling\", \"killer\": \"Wight\", \"method\": \"Sword\", \"location\": \"Hardhome\", \"count\": 12}, {\"name\": \"Wildling\", \"killer\": \"Wight\", \"method\": \"Teeth\", \"location\": \"Beyond the Wall\", \"count\": 1}, {\"name\": \"Wildling Leader\", \"killer\": \"Tormund\", \"method\": \"Mallet\", \"location\": \"Hardhome\", \"count\": 1}, {\"name\": \"Will\", \"killer\": \"Ned Stark\", \"method\": \"Sword\", \"location\": \"Winterfell\", \"count\": 1}, {\"name\": \"Willem Lannister\", \"killer\": \"Karstark soldier\", \"method\": \"Unknown\", \"location\": \"Riverrun\", \"count\": 1}, {\"name\": \"Wun Wun\", \"killer\": \"Ramsay Bolton\", \"method\": \"Arrow\", \"location\": \"Winterfell\", \"count\": 1}, {\"name\": \"Xaro Xhoan Daxos\", \"killer\": \"Daenerys Targaryen\", \"method\": \"Sealed into vault\", \"location\": \"Qarth\", \"count\": 1}, {\"name\": \"Ygritte\", \"killer\": \"Olly\", \"method\": \"Arrow\", \"location\": \"Castle Black\", \"count\": 1}, {\"name\": \"Yoren\", \"killer\": \"Amory Lorch\", \"method\": \"Sword\", \"location\": \"Riverlands\", \"count\": 1}, {\"name\": \"Yunkai soldier\", \"killer\": \"Daario Naharis\", \"method\": \"Arakh\", \"location\": \"Yunkai\", \"count\": 6}, {\"name\": \"Yunkai soldier\", \"killer\": \"Daario Naharis\", \"method\": \"Knife\", \"location\": \"Yunkai\", \"count\": 1}, {\"name\": \"Yunkai soldier\", \"killer\": \"Grey Worm\", \"method\": \"Spear\", \"location\": \"Yunkai\", \"count\": 2}, {\"name\": \"Yunkai soldier\", \"killer\": \"Jorah Mormont\", \"method\": \"Sword\", \"location\": \"Yunkai\", \"count\": 2}, {\"name\": \"Zalla\", \"killer\": \"Daenerys Targaryen\", \"method\": \"Dragonfire (Dragon)\", \"location\": \"Meereen\", \"count\": 1}]}}, {\"mode\": \"vega-lite\"});\n",
       "</script>"
      ],
      "text/plain": [
       "alt.Chart(...)"
      ]
     },
     "execution_count": 13,
     "metadata": {},
     "output_type": "execute_result"
    }
   ],
   "source": [
    "def plotScatterKill(df):\n",
    "    # Calcular o número de assassinatos por combinação de 'killer', 'method' e 'location'\n",
    "    counts = df.groupby(['name', 'killer', 'method', 'location']).size().reset_index(name='count')\n",
    "\n",
    "    # Determinar o tamanho máximo e mínimo de contagem\n",
    "    max_count = counts['count'].max()\n",
    "    min_count = counts['count'].min()\n",
    "\n",
    "    # Definir limites da escala de tamanho\n",
    "    min_size = 50  # Tamanho mínimo\n",
    "    max_size = 200  # Tamanho máximo\n",
    "\n",
    "    # Criar o gráfico de dispersão com escala ajustada\n",
    "    scatter = alt.Chart(counts).mark_circle().encode(\n",
    "        x=alt.X('killer:N', axis=alt.Axis(title='Assassino')),\n",
    "        y=alt.Y('name:N', axis=alt.Axis(title='Vítima')),\n",
    "        color='location:N',\n",
    "        size=alt.Size('count:Q',\n",
    "                      scale=alt.Scale(domain=[min_count, max_count], range=[min_size, max_size]),\n",
    "                      legend=alt.Legend(title='Contagem')),\n",
    "        tooltip=['name', 'killer', 'method', 'location', 'count']\n",
    "    ).properties(\n",
    "        width=1200,\n",
    "        height=2000,\n",
    "        title='Relação entre Vítima, Assassino, Método e Localização'\n",
    "    ).configure_axis(\n",
    "        grid=True\n",
    "    ).interactive()\n",
    "\n",
    "    # Exibir o gráfico\n",
    "    return scatter\n",
    "\n",
    "plotScatterKill(deaths_df)"
   ]
  },
  {
   "cell_type": "markdown",
   "id": "108c70f2-62f8-484a-a68c-fbbac47270e5",
   "metadata": {
    "id": "108c70f2-62f8-484a-a68c-fbbac47270e5"
   },
   "source": [
    "# Qual família/facção sofreu mais baixas ao longo das temporadas?"
   ]
  },
  {
   "cell_type": "code",
   "execution_count": 14,
   "id": "b31a585b-3a2c-4de7-bdd7-b2f1c1460559",
   "metadata": {
    "colab": {
     "base_uri": "https://localhost:8080/",
     "height": 482
    },
    "id": "b31a585b-3a2c-4de7-bdd7-b2f1c1460559",
    "outputId": "9a25f70e-f87f-42ed-9b02-fb72fd9205d7",
    "tags": []
   },
   "outputs": [
    {
     "data": {
      "text/html": [
       "\n",
       "<div id=\"altair-viz-094fb567da0a40dd8d715b9eb4cd1e7d\"></div>\n",
       "<script type=\"text/javascript\">\n",
       "  var VEGA_DEBUG = (typeof VEGA_DEBUG == \"undefined\") ? {} : VEGA_DEBUG;\n",
       "  (function(spec, embedOpt){\n",
       "    let outputDiv = document.currentScript.previousElementSibling;\n",
       "    if (outputDiv.id !== \"altair-viz-094fb567da0a40dd8d715b9eb4cd1e7d\") {\n",
       "      outputDiv = document.getElementById(\"altair-viz-094fb567da0a40dd8d715b9eb4cd1e7d\");\n",
       "    }\n",
       "    const paths = {\n",
       "      \"vega\": \"https://cdn.jsdelivr.net/npm//vega@5?noext\",\n",
       "      \"vega-lib\": \"https://cdn.jsdelivr.net/npm//vega-lib?noext\",\n",
       "      \"vega-lite\": \"https://cdn.jsdelivr.net/npm//vega-lite@4.17.0?noext\",\n",
       "      \"vega-embed\": \"https://cdn.jsdelivr.net/npm//vega-embed@6?noext\",\n",
       "    };\n",
       "\n",
       "    function maybeLoadScript(lib, version) {\n",
       "      var key = `${lib.replace(\"-\", \"\")}_version`;\n",
       "      return (VEGA_DEBUG[key] == version) ?\n",
       "        Promise.resolve(paths[lib]) :\n",
       "        new Promise(function(resolve, reject) {\n",
       "          var s = document.createElement('script');\n",
       "          document.getElementsByTagName(\"head\")[0].appendChild(s);\n",
       "          s.async = true;\n",
       "          s.onload = () => {\n",
       "            VEGA_DEBUG[key] = version;\n",
       "            return resolve(paths[lib]);\n",
       "          };\n",
       "          s.onerror = () => reject(`Error loading script: ${paths[lib]}`);\n",
       "          s.src = paths[lib];\n",
       "        });\n",
       "    }\n",
       "\n",
       "    function showError(err) {\n",
       "      outputDiv.innerHTML = `<div class=\"error\" style=\"color:red;\">${err}</div>`;\n",
       "      throw err;\n",
       "    }\n",
       "\n",
       "    function displayChart(vegaEmbed) {\n",
       "      vegaEmbed(outputDiv, spec, embedOpt)\n",
       "        .catch(err => showError(`Javascript Error: ${err.message}<br>This usually means there's a typo in your chart specification. See the javascript console for the full traceback.`));\n",
       "    }\n",
       "\n",
       "    if(typeof define === \"function\" && define.amd) {\n",
       "      requirejs.config({paths});\n",
       "      require([\"vega-embed\"], displayChart, err => showError(`Error loading script: ${err.message}`));\n",
       "    } else {\n",
       "      maybeLoadScript(\"vega\", \"5\")\n",
       "        .then(() => maybeLoadScript(\"vega-lite\", \"4.17.0\"))\n",
       "        .then(() => maybeLoadScript(\"vega-embed\", \"6\"))\n",
       "        .catch(showError)\n",
       "        .then(() => displayChart(vegaEmbed));\n",
       "    }\n",
       "  })({\"config\": {\"view\": {\"continuousWidth\": 400, \"continuousHeight\": 300}}, \"data\": {\"name\": \"data-ece8827d2548f241bcce7ecac6fc0df6\"}, \"mark\": \"bar\", \"encoding\": {\"color\": {\"field\": \"allegiance\", \"legend\": {\"title\": \"Alian\\u00e7a\"}, \"type\": \"nominal\"}, \"row\": {\"field\": \"name\", \"type\": \"nominal\"}, \"tooltip\": [{\"field\": \"season\", \"type\": \"nominal\"}, {\"field\": \"allegiance\", \"type\": \"nominal\"}, {\"field\": \"count\", \"type\": \"quantitative\"}], \"x\": {\"aggregate\": \"sum\", \"axis\": {\"title\": \"Quantidade de Alian\\u00e7as\"}, \"field\": \"count\", \"type\": \"quantitative\"}, \"y\": {\"axis\": {\"title\": \"Temporada\"}, \"field\": \"season\", \"type\": \"nominal\"}}, \"height\": 400, \"selection\": {\"selector004\": {\"type\": \"interval\", \"bind\": \"scales\", \"encodings\": [\"x\", \"y\"]}}, \"title\": \"Quantidade de Alian\\u00e7as por Temporada\", \"width\": 1000, \"$schema\": \"https://vega.github.io/schema/vega-lite/v4.17.0.json\", \"datasets\": {\"data-ece8827d2548f241bcce7ecac6fc0df6\": [{\"season\": 1, \"allegiance\": \"Dothraki\", \"count\": 6}, {\"season\": 1, \"allegiance\": \"Free Folk\", \"count\": 3}, {\"season\": 1, \"allegiance\": \"House Arryn\", \"count\": 3}, {\"season\": 1, \"allegiance\": \"House Baratheon of King's Landing\", \"count\": 1}, {\"season\": 1, \"allegiance\": \"House Clegane\", \"count\": 1}, {\"season\": 1, \"allegiance\": \"House Lannister\", \"count\": 4}, {\"season\": 1, \"allegiance\": \"House Stark\", \"count\": 20}, {\"season\": 1, \"allegiance\": \"House Targaryen\", \"count\": 1}, {\"season\": 1, \"allegiance\": \"Night's Watch\", \"count\": 3}, {\"season\": 1, \"allegiance\": \"None\", \"count\": 14}, {\"season\": 1, \"allegiance\": \"Smallfolk\", \"count\": 2}, {\"season\": 2, \"allegiance\": \"Faith of the Seven\", \"count\": 1}, {\"season\": 2, \"allegiance\": \"Free Folk\", \"count\": 2}, {\"season\": 2, \"allegiance\": \"House Baratheon of Dragonstone\", \"count\": 57}, {\"season\": 2, \"allegiance\": \"House Baratheon of King's Landing\", \"count\": 15}, {\"season\": 2, \"allegiance\": \"House Baratheon of Storm's End\", \"count\": 3}, {\"season\": 2, \"allegiance\": \"House Clegane\", \"count\": 1}, {\"season\": 2, \"allegiance\": \"House Greyjoy\", \"count\": 1}, {\"season\": 2, \"allegiance\": \"House Lannister\", \"count\": 9}, {\"season\": 2, \"allegiance\": \"House Moore\", \"count\": 1}, {\"season\": 2, \"allegiance\": \"House Stark\", \"count\": 6}, {\"season\": 2, \"allegiance\": \"House Targaryen\", \"count\": 4}, {\"season\": 2, \"allegiance\": \"Night's Watch\", \"count\": 3}, {\"season\": 2, \"allegiance\": \"None\", \"count\": 2}, {\"season\": 2, \"allegiance\": \"Smallfolk\", \"count\": 12}, {\"season\": 2, \"allegiance\": \"The Thirteen\", \"count\": 12}, {\"season\": 2, \"allegiance\": \"Warlocks of Qarth\", \"count\": 1}, {\"season\": 3, \"allegiance\": \"Brotherhood Without Banners\", \"count\": 1}, {\"season\": 3, \"allegiance\": \"Free Folk\", \"count\": 10}, {\"season\": 3, \"allegiance\": \"Good Masters\", \"count\": 7}, {\"season\": 3, \"allegiance\": \"House Baelish\", \"count\": 1}, {\"season\": 3, \"allegiance\": \"House Bolton\", \"count\": 4}, {\"season\": 3, \"allegiance\": \"House Frey\", \"count\": 5}, {\"season\": 3, \"allegiance\": \"House Lannister\", \"count\": 2}, {\"season\": 3, \"allegiance\": \"House Stark\", \"count\": 33}, {\"season\": 3, \"allegiance\": \"House Tully\", \"count\": 1}, {\"season\": 3, \"allegiance\": \"Night's Watch\", \"count\": 4}, {\"season\": 3, \"allegiance\": \"None\", \"count\": 5}, {\"season\": 3, \"allegiance\": \"Second Sons\", \"count\": 2}, {\"season\": 3, \"allegiance\": \"Wise Masters\", \"count\": 11}, {\"season\": 4, \"allegiance\": \"Free Folk\", \"count\": 68}, {\"season\": 4, \"allegiance\": \"Great Masters\", \"count\": 2}, {\"season\": 4, \"allegiance\": \"House Baelish\", \"count\": 1}, {\"season\": 4, \"allegiance\": \"House Baratheon of Dragonstone\", \"count\": 4}, {\"season\": 4, \"allegiance\": \"House Baratheon of King's Landing\", \"count\": 5}, {\"season\": 4, \"allegiance\": \"House Bolton\", \"count\": 6}, {\"season\": 4, \"allegiance\": \"House Clegane\", \"count\": 1}, {\"season\": 4, \"allegiance\": \"House Greyjoy\", \"count\": 2}, {\"season\": 4, \"allegiance\": \"House Hollard\", \"count\": 1}, {\"season\": 4, \"allegiance\": \"House Lannister\", \"count\": 3}, {\"season\": 4, \"allegiance\": \"House Martell\", \"count\": 1}, {\"season\": 4, \"allegiance\": \"House Stark\", \"count\": 1}, {\"season\": 4, \"allegiance\": \"Night's Watch\", \"count\": 46}, {\"season\": 4, \"allegiance\": \"None\", \"count\": 8}, {\"season\": 4, \"allegiance\": \"Smallfolk\", \"count\": 21}, {\"season\": 5, \"allegiance\": \"Faceless Men\", \"count\": 1}, {\"season\": 5, \"allegiance\": \"Free Folk\", \"count\": 24}, {\"season\": 5, \"allegiance\": \"Great Masters\", \"count\": 4}, {\"season\": 5, \"allegiance\": \"House Baelish\", \"count\": 3}, {\"season\": 5, \"allegiance\": \"House Baratheon of Dragonstone\", \"count\": 6}, {\"season\": 5, \"allegiance\": \"House Bolton\", \"count\": 1}, {\"season\": 5, \"allegiance\": \"House Lannister\", \"count\": 2}, {\"season\": 5, \"allegiance\": \"House Martell\", \"count\": 4}, {\"season\": 5, \"allegiance\": \"House Targaryen\", \"count\": 23}, {\"season\": 5, \"allegiance\": \"Night's Watch\", \"count\": 3}, {\"season\": 5, \"allegiance\": \"None\", \"count\": 18}, {\"season\": 5, \"allegiance\": \"Smallfolk\", \"count\": 1}, {\"season\": 5, \"allegiance\": \"Sons of the Harpy\", \"count\": 67}, {\"season\": 5, \"allegiance\": \"Wise Masters\", \"count\": 1}, {\"season\": 6, \"allegiance\": \"Brotherhood Without Banners\", \"count\": 7}, {\"season\": 6, \"allegiance\": \"Children of the Forest\", \"count\": 6}, {\"season\": 6, \"allegiance\": \"Dothraki\", \"count\": 17}, {\"season\": 6, \"allegiance\": \"Faith Militant\", \"count\": 52}, {\"season\": 6, \"allegiance\": \"Faith of the Seven\", \"count\": 1}, {\"season\": 6, \"allegiance\": \"Free Folk\", \"count\": 12}, {\"season\": 6, \"allegiance\": \"House Baratheon of King's Landing\", \"count\": 1}, {\"season\": 6, \"allegiance\": \"House Bolton\", \"count\": 57}, {\"season\": 6, \"allegiance\": \"House Frey\", \"count\": 3}, {\"season\": 6, \"allegiance\": \"House Greyjoy\", \"count\": 1}, {\"season\": 6, \"allegiance\": \"House Lannister\", \"count\": 1}, {\"season\": 6, \"allegiance\": \"House Martell\", \"count\": 3}, {\"season\": 6, \"allegiance\": \"House Stark\", \"count\": 49}, {\"season\": 6, \"allegiance\": \"House Targaryen\", \"count\": 2}, {\"season\": 6, \"allegiance\": \"House Tyrell\", \"count\": 3}, {\"season\": 6, \"allegiance\": \"House Umber\", \"count\": 1}, {\"season\": 6, \"allegiance\": \"Night's Watch\", \"count\": 6}, {\"season\": 6, \"allegiance\": \"None\", \"count\": 152}, {\"season\": 6, \"allegiance\": \"Order of Maesters\", \"count\": 1}, {\"season\": 6, \"allegiance\": \"Smallfolk\", \"count\": 6}, {\"season\": 6, \"allegiance\": \"Sons of the Harpy\", \"count\": 1}, {\"season\": 6, \"allegiance\": \"The Masters\", \"count\": 14}, {\"season\": 7, \"allegiance\": \"Brotherhood Without Banners\", \"count\": 1}, {\"season\": 7, \"allegiance\": \"Free Folk\", \"count\": 2}, {\"season\": 7, \"allegiance\": \"House Baelish\", \"count\": 1}, {\"season\": 7, \"allegiance\": \"House Frey\", \"count\": 54}, {\"season\": 7, \"allegiance\": \"House Greyjoy\", \"count\": 28}, {\"season\": 7, \"allegiance\": \"House Lannister\", \"count\": 208}, {\"season\": 7, \"allegiance\": \"House Stark\", \"count\": 4}, {\"season\": 7, \"allegiance\": \"House Targaryen\", \"count\": 23}, {\"season\": 7, \"allegiance\": \"House Tyrell\", \"count\": 1}, {\"season\": 7, \"allegiance\": \"Night's Watch\", \"count\": 8}, {\"season\": 7, \"allegiance\": \"Sand Snakes\", \"count\": 3}, {\"season\": 7, \"allegiance\": \"White Walkers\", \"count\": 1}, {\"season\": 8, \"allegiance\": \"Brotherhood Without Banners\", \"count\": 1}, {\"season\": 8, \"allegiance\": \"House Greyjoy\", \"count\": 9}, {\"season\": 8, \"allegiance\": \"House Lannister\", \"count\": 606}, {\"season\": 8, \"allegiance\": \"House Mormont\", \"count\": 8}, {\"season\": 8, \"allegiance\": \"House Stark\", \"count\": 8}, {\"season\": 8, \"allegiance\": \"House Targaryen\", \"count\": 15}, {\"season\": 8, \"allegiance\": \"House Umber\", \"count\": 1}, {\"season\": 8, \"allegiance\": \"Lord of Light\", \"count\": 1}, {\"season\": 8, \"allegiance\": \"Night's Watch\", \"count\": 6}, {\"season\": 8, \"allegiance\": \"None\", \"count\": 233}, {\"season\": 8, \"allegiance\": \"Smallfolk\", \"count\": 2}, {\"season\": 8, \"allegiance\": \"White Walkers\", \"count\": 2}]}}, {\"mode\": \"vega-lite\"});\n",
       "</script>"
      ],
      "text/plain": [
       "alt.Chart(...)"
      ]
     },
     "execution_count": 14,
     "metadata": {},
     "output_type": "execute_result"
    }
   ],
   "source": [
    "def deathsByAllegiance(df):\n",
    "    # Calcular a contagem de alianças por temporada\n",
    "    counts = df.groupby(['season', 'allegiance']).size().reset_index(name='count')\n",
    "\n",
    "    # Criar o gráfico de barras empilhadas horizontal com interatividade\n",
    "    bars = alt.Chart(counts).mark_bar().encode(\n",
    "        y=alt.Y('season:N', axis=alt.Axis(title='Temporada')),\n",
    "        x=alt.X('sum(count):Q', axis=alt.Axis(title='Quantidade de Alianças')),\n",
    "        color=alt.Color('allegiance:N', legend=alt.Legend(title='Aliança')),\n",
    "        tooltip=['season:N', 'allegiance:N', 'count:Q'],\n",
    "        row='name:N'\n",
    "    ).properties(\n",
    "        width=1000,\n",
    "        height=400,\n",
    "        title='Quantidade de Alianças por Temporada'\n",
    "    ).interactive()\n",
    "\n",
    "    # Exibir o gráfico\n",
    "    return bars\n",
    "\n",
    "deathsByAllegiance(deaths_df)"
   ]
  },
  {
   "cell_type": "markdown",
   "id": "266e52a6-2736-4da3-adca-3a6f20c54dec",
   "metadata": {
    "id": "266e52a6-2736-4da3-adca-3a6f20c54dec"
   },
   "source": [
    "Fazendo uma análise de quem mais sofreu baixas, por temporada, com o base no gráfico, vamos relembrar algumas tragédias:\n",
    "Primeira temporada: Grandes nomes da casa Stark, e alguns soldados."
   ]
  },
  {
   "cell_type": "code",
   "execution_count": 15,
   "id": "a0465533-bc9f-4491-b854-88c555234636",
   "metadata": {
    "colab": {
     "base_uri": "https://localhost:8080/"
    },
    "id": "a0465533-bc9f-4491-b854-88c555234636",
    "outputId": "2531905b-ce29-447c-bc6a-d7ee429f14b8",
    "tags": []
   },
   "outputs": [
    {
     "data": {
      "text/plain": [
       "array(['Stark soldier', 'Jory Cassel', 'Lady', 'Vayon Poole',\n",
       "       'Stark staff member', 'Septa Mordane', 'Syrio Forel', 'Ned Stark'],\n",
       "      dtype=object)"
      ]
     },
     "execution_count": 15,
     "metadata": {},
     "output_type": "execute_result"
    }
   ],
   "source": [
    "df_temp = deaths_df[\n",
    "    (deaths_df['season']==1) &\n",
    "    (deaths_df['allegiance']=='House Stark')\n",
    "]\n",
    "df_temp['name'].unique()"
   ]
  },
  {
   "cell_type": "markdown",
   "id": "698d2d0f-94d9-4ab6-98ed-8a3029a004ef",
   "metadata": {
    "id": "698d2d0f-94d9-4ab6-98ed-8a3029a004ef",
    "tags": []
   },
   "source": [
    "Segunda temporada: Casa Baratheon do lado do irmão Stannis."
   ]
  },
  {
   "cell_type": "code",
   "execution_count": 16,
   "id": "2efa5a68-6074-4a57-a0eb-358bf6483843",
   "metadata": {
    "colab": {
     "base_uri": "https://localhost:8080/"
    },
    "id": "2efa5a68-6074-4a57-a0eb-358bf6483843",
    "outputId": "2c7765ac-1628-4adc-c4ab-968b63af10d2",
    "tags": []
   },
   "outputs": [
    {
     "data": {
      "text/plain": [
       "array(['Maester Cressen', 'Matthos Seaworth',\n",
       "       'Baratheon of Dragonstone soldier'], dtype=object)"
      ]
     },
     "execution_count": 16,
     "metadata": {},
     "output_type": "execute_result"
    }
   ],
   "source": [
    "df_temp = deaths_df[\n",
    "    (deaths_df['season']==2) &\n",
    "    (deaths_df['allegiance']=='House Baratheon of Dragonstone')\n",
    "]\n",
    "df_temp['name'].unique()"
   ]
  },
  {
   "cell_type": "markdown",
   "id": "507011d7-083b-488f-b9a8-20b916cd5f32",
   "metadata": {
    "id": "507011d7-083b-488f-b9a8-20b916cd5f32"
   },
   "source": [
    "Terceira temporada: Novo infortúneo da casa Stark. Contando com \"um dos\", senão \"o\" episódio mais chocante da série."
   ]
  },
  {
   "cell_type": "code",
   "execution_count": 17,
   "id": "9048ecf4-e170-48b4-b565-083f627189c3",
   "metadata": {
    "colab": {
     "base_uri": "https://localhost:8080/"
    },
    "id": "9048ecf4-e170-48b4-b565-083f627189c3",
    "outputId": "2c211cd2-5f1e-43e8-9b6d-191583ebc523",
    "tags": []
   },
   "outputs": [
    {
     "data": {
      "text/plain": [
       "array(['Stark soldier', 'Rickard Karstark', 'Unborn Stark child',\n",
       "       'Talisa Stark', 'Grey Wind', 'Robb Stark', 'Catelyn Stark'],\n",
       "      dtype=object)"
      ]
     },
     "execution_count": 17,
     "metadata": {},
     "output_type": "execute_result"
    }
   ],
   "source": [
    "df_temp = deaths_df[\n",
    "    (deaths_df['season']==3) &\n",
    "    (deaths_df['allegiance']=='House Stark')\n",
    "]\n",
    "df_temp['name'].unique()"
   ]
  },
  {
   "cell_type": "markdown",
   "id": "01e51e20-a0ab-406e-b312-0154a8737e4d",
   "metadata": {
    "id": "01e51e20-a0ab-406e-b312-0154a8737e4d"
   },
   "source": [
    "Quarta temporada: Grandes baixas dos homens livres que viviam além da muralha, na batalha contra a patrulha da noite."
   ]
  },
  {
   "cell_type": "code",
   "execution_count": 18,
   "id": "1edd877b-7273-42f7-a371-fcf8a42783e9",
   "metadata": {
    "colab": {
     "base_uri": "https://localhost:8080/"
    },
    "id": "1edd877b-7273-42f7-a371-fcf8a42783e9",
    "outputId": "20c92a05-1a80-4629-faa6-5951bd878be0",
    "tags": []
   },
   "outputs": [
    {
     "data": {
      "text/plain": [
       "array(['Wildling', 'Thenn raider', 'Giant wildling',\n",
       "       'Mag the Mighty giant', 'Styr', 'Ygritte'], dtype=object)"
      ]
     },
     "execution_count": 18,
     "metadata": {},
     "output_type": "execute_result"
    }
   ],
   "source": [
    "df_temp = deaths_df[\n",
    "    (deaths_df['season']==4) &\n",
    "    (deaths_df['allegiance']=='Free Folk')\n",
    "]\n",
    "df_temp['name'].unique()"
   ]
  },
  {
   "cell_type": "markdown",
   "id": "8b0d1514-830e-47e4-8093-3d3a9955876c",
   "metadata": {
    "id": "8b0d1514-830e-47e4-8093-3d3a9955876c"
   },
   "source": [
    "Quinta temporada: Baixas concentradas nos \"Sons of the Harpy\", no embate contra as forças de Daenerys Targaryen."
   ]
  },
  {
   "cell_type": "code",
   "execution_count": 19,
   "id": "5a624f8b-482f-4ae0-876d-f278f649fd5a",
   "metadata": {
    "colab": {
     "base_uri": "https://localhost:8080/"
    },
    "id": "5a624f8b-482f-4ae0-876d-f278f649fd5a",
    "outputId": "ceb3fb43-f047-4d54-f32b-8322e53958e4",
    "tags": []
   },
   "outputs": [
    {
     "data": {
      "text/plain": [
       "array(['Sons of the Harpy agent'], dtype=object)"
      ]
     },
     "execution_count": 19,
     "metadata": {},
     "output_type": "execute_result"
    }
   ],
   "source": [
    "df_temp = deaths_df[\n",
    "    (deaths_df['season']==5) &\n",
    "    (deaths_df['allegiance']=='Sons of the Harpy')\n",
    "]\n",
    "df_temp['name'].unique()"
   ]
  },
  {
   "cell_type": "markdown",
   "id": "825c8c28-5379-48d4-a025-d9ace145005f",
   "metadata": {
    "id": "825c8c28-5379-48d4-a025-d9ace145005f"
   },
   "source": [
    "Sexta temporada:"
   ]
  },
  {
   "cell_type": "code",
   "execution_count": 20,
   "id": "eb33678c-d7e8-4111-96b9-22dfd764d1c8",
   "metadata": {
    "colab": {
     "base_uri": "https://localhost:8080/"
    },
    "id": "eb33678c-d7e8-4111-96b9-22dfd764d1c8",
    "outputId": "c8e6dbf6-3f25-4328-bbc1-8d1070d9e7f6",
    "tags": []
   },
   "outputs": [
    {
     "data": {
      "text/plain": [
       "array([], dtype=object)"
      ]
     },
     "execution_count": 20,
     "metadata": {},
     "output_type": "execute_result"
    }
   ],
   "source": [
    "df_temp = deaths_df[\n",
    "    (deaths_df['season']==6) &\n",
    "    (deaths_df['allegiance']=='')\n",
    "]\n",
    "df_temp['name'].unique()"
   ]
  },
  {
   "cell_type": "markdown",
   "id": "1e8959c6-7590-4bab-bc3b-db19053aa60f",
   "metadata": {
    "id": "1e8959c6-7590-4bab-bc3b-db19053aa60f"
   },
   "source": [
    "Baixa de..."
   ]
  },
  {
   "cell_type": "code",
   "execution_count": 21,
   "id": "5b7d309b-259a-47ba-a93a-b6995c31c949",
   "metadata": {
    "colab": {
     "base_uri": "https://localhost:8080/"
    },
    "id": "5b7d309b-259a-47ba-a93a-b6995c31c949",
    "outputId": "9646925f-d345-4567-8134-b009b28430c3",
    "tags": []
   },
   "outputs": [
    {
     "data": {
      "text/plain": [
       "14"
      ]
     },
     "execution_count": 21,
     "metadata": {},
     "output_type": "execute_result"
    }
   ],
   "source": [
    "((deaths_df['season'] == 6) & (deaths_df['name'] == \"Meereen citizen\")).sum()"
   ]
  },
  {
   "cell_type": "markdown",
   "id": "8976fd48-34c4-4894-afaf-4bd0bcd3b730",
   "metadata": {
    "id": "8976fd48-34c4-4894-afaf-4bd0bcd3b730"
   },
   "source": [
    "...cidadãos de Meereen, em confronto contra as forças de Daenerys e de..."
   ]
  },
  {
   "cell_type": "code",
   "execution_count": 22,
   "id": "93ae2245-c13b-426f-801d-6d9dc85b1ce6",
   "metadata": {
    "colab": {
     "base_uri": "https://localhost:8080/"
    },
    "id": "93ae2245-c13b-426f-801d-6d9dc85b1ce6",
    "outputId": "143fe44e-375f-46e9-91f0-f4f774f646f2",
    "tags": []
   },
   "outputs": [
    {
     "data": {
      "text/plain": [
       "138"
      ]
     },
     "execution_count": 22,
     "metadata": {},
     "output_type": "execute_result"
    }
   ],
   "source": [
    "((deaths_df['season'] == 6) & (deaths_df['name'] == \"King's Landing Noble\")).sum()"
   ]
  },
  {
   "cell_type": "markdown",
   "id": "556641c7-a870-482e-8b63-23a291a988c5",
   "metadata": {
    "id": "556641c7-a870-482e-8b63-23a291a988c5"
   },
   "source": [
    "nobres de \"King's Landing\"."
   ]
  },
  {
   "cell_type": "markdown",
   "id": "6e62e047-f8b6-4283-94a1-2992a7668bda",
   "metadata": {
    "id": "6e62e047-f8b6-4283-94a1-2992a7668bda"
   },
   "source": [
    "Sétima temporada: Muitos baixas no exército Lannister na batalha contra os dragões de Daenerys, incluindo execução por fogo do dragão dos chefe da família Tarly e seu filho."
   ]
  },
  {
   "cell_type": "code",
   "execution_count": 23,
   "id": "093a0b43-137f-4de2-bb77-9b1b8944d8d4",
   "metadata": {
    "colab": {
     "base_uri": "https://localhost:8080/"
    },
    "id": "093a0b43-137f-4de2-bb77-9b1b8944d8d4",
    "outputId": "d9c5fde7-dc61-4e6b-be7b-d14a4feb128f",
    "tags": []
   },
   "outputs": [
    {
     "data": {
      "text/plain": [
       "array(['Lannister soldier', 'Horse', 'Randyll Tarly', 'Dickon Tarly'],\n",
       "      dtype=object)"
      ]
     },
     "execution_count": 23,
     "metadata": {},
     "output_type": "execute_result"
    }
   ],
   "source": [
    "df_temp = deaths_df[\n",
    "    (deaths_df['season']==7) &\n",
    "    (deaths_df['allegiance']=='House Lannister')\n",
    "]\n",
    "df_temp['name'].unique()"
   ]
  },
  {
   "cell_type": "markdown",
   "id": "4b66059b-a74f-4704-868d-3875520fd5c1",
   "metadata": {
    "id": "4b66059b-a74f-4704-868d-3875520fd5c1"
   },
   "source": [
    "Oitava temporada: Queda de \"King's Landing\" resultando na morte dos principais nomes da casa Lannister."
   ]
  },
  {
   "cell_type": "code",
   "execution_count": 24,
   "id": "87cc71e7-68d9-46d7-a188-c305b10102c5",
   "metadata": {
    "colab": {
     "base_uri": "https://localhost:8080/"
    },
    "id": "87cc71e7-68d9-46d7-a188-c305b10102c5",
    "outputId": "4e21ff26-6649-4e40-9d03-a8160b42f231",
    "tags": []
   },
   "outputs": [
    {
     "data": {
      "text/plain": [
       "array(['Lannister soldier', 'Golden Company soldier',\n",
       "       'Golden Company horse', 'Harry Strickland', 'Qyburn',\n",
       "       'Gregor \"the Mountain\" Clegane', 'Sandor \"the Hound\" Clegane',\n",
       "       'Jaime Lannister', 'Cersei Lannister'], dtype=object)"
      ]
     },
     "execution_count": 24,
     "metadata": {},
     "output_type": "execute_result"
    }
   ],
   "source": [
    "df_temp = deaths_df[\n",
    "    (deaths_df['season']==8) &\n",
    "    (deaths_df['allegiance']=='House Lannister')\n",
    "]\n",
    "df_temp['name'].unique()"
   ]
  },
  {
   "cell_type": "code",
   "execution_count": null,
   "id": "f9a97b01-beec-48fd-8a88-bf2b934c528a",
   "metadata": {
    "id": "f9a97b01-beec-48fd-8a88-bf2b934c528a"
   },
   "outputs": [],
   "source": []
  }
 ],
 "metadata": {
  "colab": {
   "provenance": []
  },
  "kernelspec": {
   "display_name": "Python 3 (ipykernel)",
   "language": "python",
   "name": "python3"
  },
  "language_info": {
   "codemirror_mode": {
    "name": "ipython",
    "version": 3
   },
   "file_extension": ".py",
   "mimetype": "text/x-python",
   "name": "python",
   "nbconvert_exporter": "python",
   "pygments_lexer": "ipython3",
   "version": "3.10.14"
  }
 },
 "nbformat": 4,
 "nbformat_minor": 5
}
